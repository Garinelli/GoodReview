{
 "cells": [
  {
   "metadata": {
    "ExecuteTime": {
     "end_time": "2024-09-30T14:26:35.485148Z",
     "start_time": "2024-09-30T14:26:35.474119Z"
    }
   },
   "cell_type": "code",
   "source": [
    "import pandas as pd\n",
    "\n",
    "df = pd.read_csv('dataframe.csv')\n"
   ],
   "id": "27f2f218c91d573a",
   "outputs": [],
   "execution_count": 6
  },
  {
   "metadata": {
    "ExecuteTime": {
     "end_time": "2024-09-30T14:26:36.294752Z",
     "start_time": "2024-09-30T14:26:36.281753Z"
    }
   },
   "cell_type": "code",
   "source": "df",
   "id": "c4d6e2de2f70db64",
   "outputs": [
    {
     "data": {
      "text/plain": [
       "     Unnamed: 0                                        User review  \\\n",
       "0             0  Общее впечатление- красивая, удобная. Купила д...   \n",
       "1             1                           Нормальная, на прогулки.   \n",
       "2             2  Как для профессионала швейного дела куртка и п...   \n",
       "3             3     Взяла на размер меньше, т к сильно большемерит   \n",
       "4             4                                     всё по размеру   \n",
       "..          ...                                                ...   \n",
       "540         540      Достоинства\\n       Супер-уютный и тепленький   \n",
       "541         541          Достоинства\\n       Цвет, комфорт, размер   \n",
       "542         542     Достоинства\\n       Стильный ,удобный и теплый   \n",
       "543         543                             Недостатки\\n       Нет   \n",
       "544         544  Костюм великолепный, пришел раньше назначенног...   \n",
       "\n",
       "                Review date  Star review  Text length  Has media  \\\n",
       "0          30 сентября 2024            5          217          0   \n",
       "1          30 сентября 2024            5           24          0   \n",
       "2          30 сентября 2024            5          145          1   \n",
       "3          29 сентября 2024            5           46          0   \n",
       "4          29 сентября 2024            5           14          0   \n",
       "..                      ...          ...          ...        ...   \n",
       "540         21 февраля 2024            5           44          0   \n",
       "541         17 февраля 2024            5           40          1   \n",
       "542          9 февраля 2024            5           45          1   \n",
       "543  изменен 5 февраля 2024            5           21          1   \n",
       "544          1 февраля 2024            5          108          1   \n",
       "\n",
       "     Written by bot  \n",
       "0                 0  \n",
       "1                 0  \n",
       "2                 0  \n",
       "3                 0  \n",
       "4                 0  \n",
       "..              ...  \n",
       "540               0  \n",
       "541               0  \n",
       "542               0  \n",
       "543               0  \n",
       "544               0  \n",
       "\n",
       "[545 rows x 7 columns]"
      ],
      "text/html": [
       "<div>\n",
       "<style scoped>\n",
       "    .dataframe tbody tr th:only-of-type {\n",
       "        vertical-align: middle;\n",
       "    }\n",
       "\n",
       "    .dataframe tbody tr th {\n",
       "        vertical-align: top;\n",
       "    }\n",
       "\n",
       "    .dataframe thead th {\n",
       "        text-align: right;\n",
       "    }\n",
       "</style>\n",
       "<table border=\"1\" class=\"dataframe\">\n",
       "  <thead>\n",
       "    <tr style=\"text-align: right;\">\n",
       "      <th></th>\n",
       "      <th>Unnamed: 0</th>\n",
       "      <th>User review</th>\n",
       "      <th>Review date</th>\n",
       "      <th>Star review</th>\n",
       "      <th>Text length</th>\n",
       "      <th>Has media</th>\n",
       "      <th>Written by bot</th>\n",
       "    </tr>\n",
       "  </thead>\n",
       "  <tbody>\n",
       "    <tr>\n",
       "      <th>0</th>\n",
       "      <td>0</td>\n",
       "      <td>Общее впечатление- красивая, удобная. Купила д...</td>\n",
       "      <td>30 сентября 2024</td>\n",
       "      <td>5</td>\n",
       "      <td>217</td>\n",
       "      <td>0</td>\n",
       "      <td>0</td>\n",
       "    </tr>\n",
       "    <tr>\n",
       "      <th>1</th>\n",
       "      <td>1</td>\n",
       "      <td>Нормальная, на прогулки.</td>\n",
       "      <td>30 сентября 2024</td>\n",
       "      <td>5</td>\n",
       "      <td>24</td>\n",
       "      <td>0</td>\n",
       "      <td>0</td>\n",
       "    </tr>\n",
       "    <tr>\n",
       "      <th>2</th>\n",
       "      <td>2</td>\n",
       "      <td>Как для профессионала швейного дела куртка и п...</td>\n",
       "      <td>30 сентября 2024</td>\n",
       "      <td>5</td>\n",
       "      <td>145</td>\n",
       "      <td>1</td>\n",
       "      <td>0</td>\n",
       "    </tr>\n",
       "    <tr>\n",
       "      <th>3</th>\n",
       "      <td>3</td>\n",
       "      <td>Взяла на размер меньше, т к сильно большемерит</td>\n",
       "      <td>29 сентября 2024</td>\n",
       "      <td>5</td>\n",
       "      <td>46</td>\n",
       "      <td>0</td>\n",
       "      <td>0</td>\n",
       "    </tr>\n",
       "    <tr>\n",
       "      <th>4</th>\n",
       "      <td>4</td>\n",
       "      <td>всё по размеру</td>\n",
       "      <td>29 сентября 2024</td>\n",
       "      <td>5</td>\n",
       "      <td>14</td>\n",
       "      <td>0</td>\n",
       "      <td>0</td>\n",
       "    </tr>\n",
       "    <tr>\n",
       "      <th>...</th>\n",
       "      <td>...</td>\n",
       "      <td>...</td>\n",
       "      <td>...</td>\n",
       "      <td>...</td>\n",
       "      <td>...</td>\n",
       "      <td>...</td>\n",
       "      <td>...</td>\n",
       "    </tr>\n",
       "    <tr>\n",
       "      <th>540</th>\n",
       "      <td>540</td>\n",
       "      <td>Достоинства\\n       Супер-уютный и тепленький</td>\n",
       "      <td>21 февраля 2024</td>\n",
       "      <td>5</td>\n",
       "      <td>44</td>\n",
       "      <td>0</td>\n",
       "      <td>0</td>\n",
       "    </tr>\n",
       "    <tr>\n",
       "      <th>541</th>\n",
       "      <td>541</td>\n",
       "      <td>Достоинства\\n       Цвет, комфорт, размер</td>\n",
       "      <td>17 февраля 2024</td>\n",
       "      <td>5</td>\n",
       "      <td>40</td>\n",
       "      <td>1</td>\n",
       "      <td>0</td>\n",
       "    </tr>\n",
       "    <tr>\n",
       "      <th>542</th>\n",
       "      <td>542</td>\n",
       "      <td>Достоинства\\n       Стильный ,удобный и теплый</td>\n",
       "      <td>9 февраля 2024</td>\n",
       "      <td>5</td>\n",
       "      <td>45</td>\n",
       "      <td>1</td>\n",
       "      <td>0</td>\n",
       "    </tr>\n",
       "    <tr>\n",
       "      <th>543</th>\n",
       "      <td>543</td>\n",
       "      <td>Недостатки\\n       Нет</td>\n",
       "      <td>изменен 5 февраля 2024</td>\n",
       "      <td>5</td>\n",
       "      <td>21</td>\n",
       "      <td>1</td>\n",
       "      <td>0</td>\n",
       "    </tr>\n",
       "    <tr>\n",
       "      <th>544</th>\n",
       "      <td>544</td>\n",
       "      <td>Костюм великолепный, пришел раньше назначенног...</td>\n",
       "      <td>1 февраля 2024</td>\n",
       "      <td>5</td>\n",
       "      <td>108</td>\n",
       "      <td>1</td>\n",
       "      <td>0</td>\n",
       "    </tr>\n",
       "  </tbody>\n",
       "</table>\n",
       "<p>545 rows × 7 columns</p>\n",
       "</div>"
      ]
     },
     "execution_count": 7,
     "metadata": {},
     "output_type": "execute_result"
    }
   ],
   "execution_count": 7
  },
  {
   "metadata": {
    "ExecuteTime": {
     "end_time": "2024-09-30T14:18:37.362588Z",
     "start_time": "2024-09-30T14:18:37.347617Z"
    }
   },
   "cell_type": "code",
   "source": "len(df)",
   "id": "92ac1865a1e4fdcc",
   "outputs": [
    {
     "data": {
      "text/plain": [
       "620"
      ]
     },
     "execution_count": 3,
     "metadata": {},
     "output_type": "execute_result"
    }
   ],
   "execution_count": 3
  },
  {
   "metadata": {
    "ExecuteTime": {
     "end_time": "2024-09-30T14:18:37.378588Z",
     "start_time": "2024-09-30T14:18:37.363589Z"
    }
   },
   "cell_type": "code",
   "source": "",
   "id": "8ef06ff5aa01bc3a",
   "outputs": [],
   "execution_count": 3
  }
 ],
 "metadata": {
  "kernelspec": {
   "display_name": "Python 3",
   "language": "python",
   "name": "python3"
  },
  "language_info": {
   "codemirror_mode": {
    "name": "ipython",
    "version": 2
   },
   "file_extension": ".py",
   "mimetype": "text/x-python",
   "name": "python",
   "nbconvert_exporter": "python",
   "pygments_lexer": "ipython2",
   "version": "2.7.6"
  }
 },
 "nbformat": 4,
 "nbformat_minor": 5
}
