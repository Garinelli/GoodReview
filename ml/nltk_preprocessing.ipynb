{
 "cells": [
  {
   "cell_type": "code",
   "id": "initial_id",
   "metadata": {
    "collapsed": true,
    "ExecuteTime": {
     "end_time": "2024-10-21T16:40:07.233235Z",
     "start_time": "2024-10-21T16:40:07.221236Z"
    }
   },
   "source": [
    "import os\n",
    "import pandas as pd\n",
    "import nltk"
   ],
   "outputs": [],
   "execution_count": 40
  },
  {
   "metadata": {
    "ExecuteTime": {
     "end_time": "2024-10-21T16:40:07.666999Z",
     "start_time": "2024-10-21T16:40:07.662Z"
    }
   },
   "cell_type": "code",
   "source": [
    "BASE_DIR = os.getcwd()\n",
    "DIRECTORY_PATH = os.path.dirname(BASE_DIR)\n",
    "DF_PATH = DIRECTORY_PATH + \"\\\\parser\\\\main_df.csv\""
   ],
   "id": "be81b1eda2717c1b",
   "outputs": [],
   "execution_count": 41
  },
  {
   "metadata": {
    "ExecuteTime": {
     "end_time": "2024-10-21T16:40:08.106108Z",
     "start_time": "2024-10-21T16:40:08.084111Z"
    }
   },
   "cell_type": "code",
   "source": "df = pd.read_csv(DF_PATH)",
   "id": "69b6d55047fc4924",
   "outputs": [],
   "execution_count": 42
  },
  {
   "metadata": {},
   "cell_type": "markdown",
   "source": "# NLTK",
   "id": "6a05d941b38690de"
  },
  {
   "metadata": {
    "ExecuteTime": {
     "end_time": "2024-10-21T16:40:17.846218Z",
     "start_time": "2024-10-21T16:40:17.828214Z"
    }
   },
   "cell_type": "code",
   "source": [
    "nltk.download('punkt_tab')\n",
    "nltk.download('punkt')\n",
    "nltk.download('stopwords')"
   ],
   "id": "1447a884ad73acba",
   "outputs": [
    {
     "name": "stderr",
     "output_type": "stream",
     "text": [
      "[nltk_data] Downloading package punkt_tab to\n",
      "[nltk_data]     C:\\Users\\amr\\AppData\\Roaming\\nltk_data...\n",
      "[nltk_data]   Package punkt_tab is already up-to-date!\n",
      "[nltk_data] Downloading package punkt to\n",
      "[nltk_data]     C:\\Users\\amr\\AppData\\Roaming\\nltk_data...\n",
      "[nltk_data]   Package punkt is already up-to-date!\n",
      "[nltk_data] Downloading package stopwords to\n",
      "[nltk_data]     C:\\Users\\amr\\AppData\\Roaming\\nltk_data...\n",
      "[nltk_data]   Package stopwords is already up-to-date!\n"
     ]
    },
    {
     "data": {
      "text/plain": [
       "True"
      ]
     },
     "execution_count": 43,
     "metadata": {},
     "output_type": "execute_result"
    }
   ],
   "execution_count": 43
  },
  {
   "metadata": {},
   "cell_type": "markdown",
   "source": "# Stop words",
   "id": "fe04012ffa369348"
  },
  {
   "metadata": {
    "ExecuteTime": {
     "end_time": "2024-10-21T16:40:19.023699Z",
     "start_time": "2024-10-21T16:40:19.013700Z"
    }
   },
   "cell_type": "code",
   "source": "reviews = df['User review'].values",
   "id": "f492e208f7d53927",
   "outputs": [],
   "execution_count": 44
  },
  {
   "metadata": {
    "ExecuteTime": {
     "end_time": "2024-10-21T16:40:19.874418Z",
     "start_time": "2024-10-21T16:40:19.869417Z"
    }
   },
   "cell_type": "code",
   "source": [
    "from nltk.corpus import stopwords\n",
    "from nltk.tokenize import word_tokenize\n",
    "stop_words = set(stopwords.words('russian'))"
   ],
   "id": "77ce81549f338e2d",
   "outputs": [],
   "execution_count": 45
  },
  {
   "metadata": {
    "ExecuteTime": {
     "end_time": "2024-10-21T16:40:20.917675Z",
     "start_time": "2024-10-21T16:40:20.627676Z"
    }
   },
   "cell_type": "code",
   "source": [
    "for index, review in enumerate(reviews):\n",
    "    words = word_tokenize(review)\n",
    "    filtered_tokens = []\n",
    "    for word in words:\n",
    "        if word not in stop_words:\n",
    "            filtered_tokens.append(word)\n",
    "    \n",
    "    # Итоговый отзыв без стоп слов\n",
    "    result_review = ' '.join(filtered_tokens)\n",
    "    reviews[index] = result_review"
   ],
   "id": "6b41d2bbd19228b5",
   "outputs": [],
   "execution_count": 46
  },
  {
   "metadata": {
    "ExecuteTime": {
     "end_time": "2024-10-21T16:40:23.978537Z",
     "start_time": "2024-10-21T16:40:23.969539Z"
    }
   },
   "cell_type": "code",
   "source": "reviews",
   "id": "26638babf5e58907",
   "outputs": [
    {
     "data": {
      "text/plain": [
       "array(['Достоинства устроило нормальная демисезонка',\n",
       "       'Шикарная , начиталась отзывы , рискнула , стирки , время покажет , верх покупаю 54 размер , 48 заказать , стала , взяла 50.Спасибо , очень понравилась',\n",
       "       'Дочке понравилась', ...,\n",
       "       'Не ожидал такого высокого качества , покупкой доволен .',\n",
       "       'Все замечательно , продукт оправдал ожидания .',\n",
       "       'Рекомендую товар , куплю .'], dtype=object)"
      ]
     },
     "execution_count": 47,
     "metadata": {},
     "output_type": "execute_result"
    }
   ],
   "execution_count": 47
  },
  {
   "metadata": {},
   "cell_type": "markdown",
   "source": "# Stemming",
   "id": "859e7b440c2123e4"
  },
  {
   "metadata": {
    "ExecuteTime": {
     "end_time": "2024-10-21T16:37:56.353965Z",
     "start_time": "2024-10-21T16:37:56.340609Z"
    }
   },
   "cell_type": "code",
   "source": "from nltk.stem.snowball import SnowballStemmer",
   "id": "89245403630e1fca",
   "outputs": [],
   "execution_count": 37
  },
  {
   "metadata": {
    "ExecuteTime": {
     "end_time": "2024-10-21T16:37:57.812888Z",
     "start_time": "2024-10-21T16:37:56.828891Z"
    }
   },
   "cell_type": "code",
   "source": [
    "stemmer = SnowballStemmer(\"russian\")\n",
    "for index, review in enumerate(reviews):\n",
    "    words = word_tokenize(review)\n",
    "    stemmed_words = [stemmer.stem(word) for word in words]\n",
    "    result_review = ' '.join(stemmed_words)\n",
    "    reviews[index] = result_review"
   ],
   "id": "ded28bd0475a600b",
   "outputs": [],
   "execution_count": 38
  },
  {
   "metadata": {
    "ExecuteTime": {
     "end_time": "2024-10-21T16:38:08.782942Z",
     "start_time": "2024-10-21T16:38:08.769944Z"
    }
   },
   "cell_type": "code",
   "source": "reviews",
   "id": "b12e303a017ef601",
   "outputs": [
    {
     "data": {
      "text/plain": [
       "array(['достоинств устро нормальн демисезонк',\n",
       "       'шикарн , начита отзыв , рискнул , стирк , врем покажет , верх покупа 54 размер , 48 заказа , стал , взял 50.спасиб , очен понрав',\n",
       "       'дочк понрав', ..., 'не ожида так высок качеств , покупк довол .',\n",
       "       'все замечательн , продукт оправда ожидан .',\n",
       "       'рекоменд товар , купл .'], dtype=object)"
      ]
     },
     "execution_count": 39,
     "metadata": {},
     "output_type": "execute_result"
    }
   ],
   "execution_count": 39
  },
  {
   "metadata": {},
   "cell_type": "markdown",
   "source": "# Лемматизация",
   "id": "b1694d1d74889d8a"
  },
  {
   "metadata": {
    "ExecuteTime": {
     "end_time": "2024-10-21T16:40:39.478903Z",
     "start_time": "2024-10-21T16:40:39.397904Z"
    }
   },
   "cell_type": "code",
   "source": "nltk.download('omw-1.4')",
   "id": "1d69ebf745ce360a",
   "outputs": [
    {
     "name": "stderr",
     "output_type": "stream",
     "text": [
      "[nltk_data] Downloading package omw-1.4 to\n",
      "[nltk_data]     C:\\Users\\amr\\AppData\\Roaming\\nltk_data...\n",
      "[nltk_data]   Package omw-1.4 is already up-to-date!\n"
     ]
    },
    {
     "data": {
      "text/plain": [
       "True"
      ]
     },
     "execution_count": 48,
     "metadata": {},
     "output_type": "execute_result"
    }
   ],
   "execution_count": 48
  },
  {
   "metadata": {
    "ExecuteTime": {
     "end_time": "2024-10-21T16:43:30.352664Z",
     "start_time": "2024-10-21T16:43:30.214532Z"
    }
   },
   "cell_type": "code",
   "source": [
    "import pymorphy2\n",
    "\n",
    "morph = pymorphy2.MorphAnalyzer()"
   ],
   "id": "ffeaa247bf220c0a",
   "outputs": [],
   "execution_count": 49
  },
  {
   "metadata": {
    "ExecuteTime": {
     "end_time": "2024-10-21T16:44:19.039555Z",
     "start_time": "2024-10-21T16:44:16.316468Z"
    }
   },
   "cell_type": "code",
   "source": [
    "for index, review in enumerate(reviews):\n",
    "    words = word_tokenize(review)\n",
    "    stemmed_words = [morph.parse(word)[0].normal_form for word in words]\n",
    "    result_review = ' '.join(stemmed_words)\n",
    "    reviews[index] = result_review"
   ],
   "id": "f448d2694ed137b7",
   "outputs": [],
   "execution_count": 50
  },
  {
   "metadata": {
    "ExecuteTime": {
     "end_time": "2024-10-21T16:44:24.957958Z",
     "start_time": "2024-10-21T16:44:24.939959Z"
    }
   },
   "cell_type": "code",
   "source": "reviews",
   "id": "134b1c0355954899",
   "outputs": [
    {
     "data": {
      "text/plain": [
       "array(['достоинство устроить нормальный демисезонка',\n",
       "       'шикарный , начитаться отзыв , рискнуть , стирка , время показать , верх покупать 54 размер , 48 заказать , стать , взять 50.спасибо , очень понравиться',\n",
       "       'дочка понравиться', ...,\n",
       "       'не ожидать такой высокий качество , покупка довольный .',\n",
       "       'всё замечательный , продукт оправдать ожидание .',\n",
       "       'рекомендовать товар , купить .'], dtype=object)"
      ]
     },
     "execution_count": 51,
     "metadata": {},
     "output_type": "execute_result"
    }
   ],
   "execution_count": 51
  },
  {
   "metadata": {},
   "cell_type": "markdown",
   "source": "# Приведение к нижнему регистру",
   "id": "1614fc5bbfabe379"
  },
  {
   "metadata": {
    "ExecuteTime": {
     "end_time": "2024-10-21T16:46:46.281245Z",
     "start_time": "2024-10-21T16:46:46.267247Z"
    }
   },
   "cell_type": "code",
   "source": [
    "for index, review in enumerate(reviews):\n",
    "    reviews[index] = review.lower()"
   ],
   "id": "e5627e3ef09ee995",
   "outputs": [],
   "execution_count": 52
  },
  {
   "metadata": {
    "ExecuteTime": {
     "end_time": "2024-10-21T16:46:49.622013Z",
     "start_time": "2024-10-21T16:46:49.615009Z"
    }
   },
   "cell_type": "code",
   "source": "reviews",
   "id": "986bc65cd9736926",
   "outputs": [
    {
     "data": {
      "text/plain": [
       "array(['достоинство устроить нормальный демисезонка',\n",
       "       'шикарный , начитаться отзыв , рискнуть , стирка , время показать , верх покупать 54 размер , 48 заказать , стать , взять 50.спасибо , очень понравиться',\n",
       "       'дочка понравиться', ...,\n",
       "       'не ожидать такой высокий качество , покупка довольный .',\n",
       "       'всё замечательный , продукт оправдать ожидание .',\n",
       "       'рекомендовать товар , купить .'], dtype=object)"
      ]
     },
     "execution_count": 53,
     "metadata": {},
     "output_type": "execute_result"
    }
   ],
   "execution_count": 53
  },
  {
   "metadata": {},
   "cell_type": "code",
   "outputs": [],
   "execution_count": null,
   "source": "",
   "id": "fd88fe98d777292"
  }
 ],
 "metadata": {
  "kernelspec": {
   "display_name": "Python 3",
   "language": "python",
   "name": "python3"
  },
  "language_info": {
   "codemirror_mode": {
    "name": "ipython",
    "version": 2
   },
   "file_extension": ".py",
   "mimetype": "text/x-python",
   "name": "python",
   "nbconvert_exporter": "python",
   "pygments_lexer": "ipython2",
   "version": "2.7.6"
  }
 },
 "nbformat": 4,
 "nbformat_minor": 5
}
