{
 "cells": [
  {
   "cell_type": "code",
   "execution_count": 31,
   "id": "initial_id",
   "metadata": {
    "ExecuteTime": {
     "end_time": "2024-10-25T15:38:15.946556Z",
     "start_time": "2024-10-25T15:38:15.931569Z"
    },
    "collapsed": true
   },
   "outputs": [],
   "source": [
    "import os\n",
    "import pandas as pd\n",
    "import nltk"
   ]
  },
  {
   "cell_type": "code",
   "execution_count": 67,
   "id": "be81b1eda2717c1b",
   "metadata": {
    "ExecuteTime": {
     "end_time": "2024-10-25T15:43:08.336638Z",
     "start_time": "2024-10-25T15:43:08.317638Z"
    }
   },
   "outputs": [],
   "source": [
    "BASE_DIR = os.getcwd()\n",
    "DIRECTORY_PATH = os.path.dirname(BASE_DIR)\n",
    "DF_PATH = DIRECTORY_PATH + \"\\\\parser\\\\main_df.csv\""
   ]
  },
  {
   "cell_type": "code",
   "execution_count": 68,
   "id": "69b6d55047fc4924",
   "metadata": {
    "ExecuteTime": {
     "end_time": "2024-10-25T15:43:08.773619Z",
     "start_time": "2024-10-25T15:43:08.758591Z"
    }
   },
   "outputs": [],
   "source": [
    "df = pd.read_csv(DF_PATH)"
   ]
  },
  {
   "cell_type": "markdown",
   "id": "6a05d941b38690de",
   "metadata": {},
   "source": [
    "# NLTK"
   ]
  },
  {
   "cell_type": "code",
   "execution_count": 69,
   "id": "1447a884ad73acba",
   "metadata": {
    "ExecuteTime": {
     "end_time": "2024-10-25T15:43:09.625554Z",
     "start_time": "2024-10-25T15:43:09.611556Z"
    }
   },
   "outputs": [
    {
     "name": "stderr",
     "output_type": "stream",
     "text": [
      "[nltk_data] Downloading package punkt_tab to\n",
      "[nltk_data]     C:\\Users\\amr\\AppData\\Roaming\\nltk_data...\n",
      "[nltk_data]   Package punkt_tab is already up-to-date!\n",
      "[nltk_data] Downloading package punkt to\n",
      "[nltk_data]     C:\\Users\\amr\\AppData\\Roaming\\nltk_data...\n",
      "[nltk_data]   Package punkt is already up-to-date!\n",
      "[nltk_data] Downloading package stopwords to\n",
      "[nltk_data]     C:\\Users\\amr\\AppData\\Roaming\\nltk_data...\n",
      "[nltk_data]   Package stopwords is already up-to-date!\n"
     ]
    },
    {
     "data": {
      "text/plain": [
       "True"
      ]
     },
     "execution_count": 69,
     "metadata": {},
     "output_type": "execute_result"
    }
   ],
   "source": [
    "nltk.download('punkt_tab')\n",
    "nltk.download('punkt')\n",
    "nltk.download('stopwords')"
   ]
  },
  {
   "cell_type": "markdown",
   "id": "fe04012ffa369348",
   "metadata": {},
   "source": [
    "# Stop words"
   ]
  },
  {
   "cell_type": "code",
   "execution_count": 70,
   "id": "f492e208f7d53927",
   "metadata": {
    "ExecuteTime": {
     "end_time": "2024-10-25T15:43:10.558259Z",
     "start_time": "2024-10-25T15:43:10.539260Z"
    }
   },
   "outputs": [],
   "source": [
    "reviews = df['User review'].values"
   ]
  },
  {
   "cell_type": "code",
   "execution_count": 71,
   "id": "77ce81549f338e2d",
   "metadata": {
    "ExecuteTime": {
     "end_time": "2024-10-25T15:43:19.619096Z",
     "start_time": "2024-10-25T15:43:19.603069Z"
    }
   },
   "outputs": [],
   "source": [
    "from nltk.corpus import stopwords\n",
    "from nltk.tokenize import word_tokenize\n",
    "stop_words = set(stopwords.words('russian'))"
   ]
  },
  {
   "cell_type": "code",
   "execution_count": 72,
   "id": "6b41d2bbd19228b5",
   "metadata": {
    "ExecuteTime": {
     "end_time": "2024-10-25T15:43:20.373901Z",
     "start_time": "2024-10-25T15:43:20.092809Z"
    }
   },
   "outputs": [],
   "source": [
    "for index, review in enumerate(reviews):\n",
    "    words = word_tokenize(review)\n",
    "    filtered_tokens = []\n",
    "    for word in words:\n",
    "        if word not in stop_words:\n",
    "            filtered_tokens.append(word)\n",
    "    \n",
    "    # Итоговый отзыв без стоп слов\n",
    "    result_review = ' '.join(filtered_tokens)\n",
    "    reviews[index] = result_review"
   ]
  },
  {
   "cell_type": "code",
   "execution_count": 73,
   "id": "26638babf5e58907",
   "metadata": {
    "ExecuteTime": {
     "end_time": "2024-10-25T15:43:21.218748Z",
     "start_time": "2024-10-25T15:43:21.212748Z"
    }
   },
   "outputs": [
    {
     "data": {
      "text/plain": [
       "array(['Достоинства устроило нормальная демисезонка',\n",
       "       'Шикарная , начиталась отзывы , рискнула , стирки , время покажет , верх покупаю 54 размер , 48 заказать , стала , взяла 50.Спасибо , очень понравилась',\n",
       "       'Дочке понравилась', ...,\n",
       "       'Не ожидал такого высокого качества , покупкой доволен .',\n",
       "       'Все замечательно , продукт оправдал ожидания .',\n",
       "       'Рекомендую товар , куплю .'], dtype=object)"
      ]
     },
     "execution_count": 73,
     "metadata": {},
     "output_type": "execute_result"
    }
   ],
   "source": [
    "reviews"
   ]
  },
  {
   "cell_type": "markdown",
   "id": "859e7b440c2123e4",
   "metadata": {},
   "source": [
    "# Stemming"
   ]
  },
  {
   "cell_type": "code",
   "execution_count": 74,
   "id": "89245403630e1fca",
   "metadata": {
    "ExecuteTime": {
     "end_time": "2024-10-25T15:43:22.251963Z",
     "start_time": "2024-10-25T15:43:22.241966Z"
    }
   },
   "outputs": [],
   "source": [
    "from nltk.stem.snowball import SnowballStemmer"
   ]
  },
  {
   "cell_type": "code",
   "execution_count": 75,
   "id": "ded28bd0475a600b",
   "metadata": {
    "ExecuteTime": {
     "end_time": "2024-10-25T15:43:22.758963Z",
     "start_time": "2024-10-25T15:43:22.739964Z"
    }
   },
   "outputs": [],
   "source": [
    "# stemmer = SnowballStemmer(\"russian\")\n",
    "# for index, review in enumerate(reviews):\n",
    "#     words = word_tokenize(review)\n",
    "#     stemmed_words = [stemmer.stem(word) for word in words]\n",
    "#     result_review = ' '.join(stemmed_words)\n",
    "#     reviews[index] = result_review"
   ]
  },
  {
   "cell_type": "code",
   "execution_count": 76,
   "id": "b12e303a017ef601",
   "metadata": {
    "ExecuteTime": {
     "end_time": "2024-10-25T15:43:23.280964Z",
     "start_time": "2024-10-25T15:43:23.267964Z"
    }
   },
   "outputs": [
    {
     "data": {
      "text/plain": [
       "array(['Достоинства устроило нормальная демисезонка',\n",
       "       'Шикарная , начиталась отзывы , рискнула , стирки , время покажет , верх покупаю 54 размер , 48 заказать , стала , взяла 50.Спасибо , очень понравилась',\n",
       "       'Дочке понравилась', ...,\n",
       "       'Не ожидал такого высокого качества , покупкой доволен .',\n",
       "       'Все замечательно , продукт оправдал ожидания .',\n",
       "       'Рекомендую товар , куплю .'], dtype=object)"
      ]
     },
     "execution_count": 76,
     "metadata": {},
     "output_type": "execute_result"
    }
   ],
   "source": [
    "reviews"
   ]
  },
  {
   "cell_type": "markdown",
   "id": "b1694d1d74889d8a",
   "metadata": {},
   "source": [
    "# Лемматизация"
   ]
  },
  {
   "cell_type": "code",
   "execution_count": 77,
   "id": "1d69ebf745ce360a",
   "metadata": {
    "ExecuteTime": {
     "end_time": "2024-10-25T15:43:24.134337Z",
     "start_time": "2024-10-25T15:43:24.115336Z"
    }
   },
   "outputs": [
    {
     "name": "stderr",
     "output_type": "stream",
     "text": [
      "[nltk_data] Downloading package omw-1.4 to\n",
      "[nltk_data]     C:\\Users\\amr\\AppData\\Roaming\\nltk_data...\n",
      "[nltk_data]   Package omw-1.4 is already up-to-date!\n"
     ]
    },
    {
     "data": {
      "text/plain": [
       "True"
      ]
     },
     "execution_count": 77,
     "metadata": {},
     "output_type": "execute_result"
    }
   ],
   "source": [
    "nltk.download('omw-1.4')"
   ]
  },
  {
   "cell_type": "code",
   "execution_count": 78,
   "id": "ffeaa247bf220c0a",
   "metadata": {
    "ExecuteTime": {
     "end_time": "2024-10-25T15:43:24.746208Z",
     "start_time": "2024-10-25T15:43:24.636442Z"
    }
   },
   "outputs": [],
   "source": [
    "import pymorphy2\n",
    "\n",
    "morph = pymorphy2.MorphAnalyzer()"
   ]
  },
  {
   "cell_type": "code",
   "execution_count": 79,
   "id": "f448d2694ed137b7",
   "metadata": {
    "ExecuteTime": {
     "end_time": "2024-10-25T15:43:28.137082Z",
     "start_time": "2024-10-25T15:43:25.379024Z"
    }
   },
   "outputs": [],
   "source": [
    "for index, review in enumerate(reviews):\n",
    "    words = word_tokenize(review)\n",
    "    stemmed_words = [morph.parse(word)[0].normal_form for word in words]\n",
    "    result_review = ' '.join(stemmed_words)\n",
    "    reviews[index] = result_review"
   ]
  },
  {
   "cell_type": "code",
   "execution_count": 80,
   "id": "134b1c0355954899",
   "metadata": {
    "ExecuteTime": {
     "end_time": "2024-10-25T15:43:28.153Z",
     "start_time": "2024-10-25T15:43:28.138994Z"
    }
   },
   "outputs": [
    {
     "data": {
      "text/plain": [
       "array(['достоинство устроить нормальный демисезонка',\n",
       "       'шикарный , начитаться отзыв , рискнуть , стирка , время показать , верх покупать 54 размер , 48 заказать , стать , взять 50.спасибо , очень понравиться',\n",
       "       'дочка понравиться', ...,\n",
       "       'не ожидать такой высокий качество , покупка довольный .',\n",
       "       'всё замечательный , продукт оправдать ожидание .',\n",
       "       'рекомендовать товар , купить .'], dtype=object)"
      ]
     },
     "execution_count": 80,
     "metadata": {},
     "output_type": "execute_result"
    }
   ],
   "source": [
    "reviews"
   ]
  },
  {
   "cell_type": "markdown",
   "id": "1614fc5bbfabe379",
   "metadata": {},
   "source": [
    "# Приведение к нижнему регистру"
   ]
  },
  {
   "cell_type": "code",
   "execution_count": 81,
   "id": "e5627e3ef09ee995",
   "metadata": {
    "ExecuteTime": {
     "end_time": "2024-10-25T15:43:29.652546Z",
     "start_time": "2024-10-25T15:43:29.635547Z"
    }
   },
   "outputs": [],
   "source": [
    "for index, review in enumerate(reviews):\n",
    "    reviews[index] = review.lower()"
   ]
  },
  {
   "cell_type": "code",
   "execution_count": 82,
   "id": "986bc65cd9736926",
   "metadata": {
    "ExecuteTime": {
     "end_time": "2024-10-25T15:43:30.139551Z",
     "start_time": "2024-10-25T15:43:30.132547Z"
    }
   },
   "outputs": [
    {
     "data": {
      "text/plain": [
       "array(['достоинство устроить нормальный демисезонка',\n",
       "       'шикарный , начитаться отзыв , рискнуть , стирка , время показать , верх покупать 54 размер , 48 заказать , стать , взять 50.спасибо , очень понравиться',\n",
       "       'дочка понравиться', ...,\n",
       "       'не ожидать такой высокий качество , покупка довольный .',\n",
       "       'всё замечательный , продукт оправдать ожидание .',\n",
       "       'рекомендовать товар , купить .'], dtype=object)"
      ]
     },
     "execution_count": 82,
     "metadata": {},
     "output_type": "execute_result"
    }
   ],
   "source": [
    "reviews"
   ]
  },
  {
   "cell_type": "markdown",
   "id": "9e46eddf2c8d4da5",
   "metadata": {},
   "source": [
    "# Токенизация и удаление знаков препинания"
   ]
  },
  {
   "cell_type": "code",
   "execution_count": 83,
   "id": "d6ef60c54c7e8b4f",
   "metadata": {
    "ExecuteTime": {
     "end_time": "2024-10-25T15:43:31.691546Z",
     "start_time": "2024-10-25T15:43:31.674549Z"
    }
   },
   "outputs": [],
   "source": [
    "from nltk.tokenize import word_tokenize\n",
    "import string"
   ]
  },
  {
   "cell_type": "code",
   "execution_count": 84,
   "id": "b1e8dec1214ff429",
   "metadata": {
    "ExecuteTime": {
     "end_time": "2024-10-25T15:43:32.611717Z",
     "start_time": "2024-10-25T15:43:32.338719Z"
    }
   },
   "outputs": [],
   "source": [
    "for index, review in enumerate(reviews):\n",
    "    tokens = word_tokenize(review)\n",
    "    tokens = [word for word in tokens if word not in string.punctuation]\n",
    "    reviews[index] = tokens    "
   ]
  },
  {
   "cell_type": "code",
   "execution_count": 85,
   "id": "d2ffc4059815b7b8",
   "metadata": {
    "ExecuteTime": {
     "end_time": "2024-10-25T15:43:32.831719Z",
     "start_time": "2024-10-25T15:43:32.812719Z"
    }
   },
   "outputs": [
    {
     "data": {
      "text/plain": [
       "array([list(['достоинство', 'устроить', 'нормальный', 'демисезонка']),\n",
       "       list(['шикарный', 'начитаться', 'отзыв', 'рискнуть', 'стирка', 'время', 'показать', 'верх', 'покупать', '54', 'размер', '48', 'заказать', 'стать', 'взять', '50.спасибо', 'очень', 'понравиться']),\n",
       "       list(['дочка', 'понравиться']), ...,\n",
       "       list(['не', 'ожидать', 'такой', 'высокий', 'качество', 'покупка', 'довольный']),\n",
       "       list(['всё', 'замечательный', 'продукт', 'оправдать', 'ожидание']),\n",
       "       list(['рекомендовать', 'товар', 'купить'])], dtype=object)"
      ]
     },
     "execution_count": 85,
     "metadata": {},
     "output_type": "execute_result"
    }
   ],
   "source": [
    "reviews"
   ]
  },
  {
   "cell_type": "code",
   "execution_count": 86,
   "id": "c9979b903ada9018",
   "metadata": {
    "ExecuteTime": {
     "end_time": "2024-10-25T15:43:33.325718Z",
     "start_time": "2024-10-25T15:43:33.306720Z"
    }
   },
   "outputs": [],
   "source": [
    "reviews = list(reviews)"
   ]
  },
  {
   "cell_type": "code",
   "execution_count": 88,
   "id": "588d21e40ac34edf",
   "metadata": {
    "ExecuteTime": {
     "end_time": "2024-10-25T15:44:09.468236Z",
     "start_time": "2024-10-25T15:44:09.451236Z"
    }
   },
   "outputs": [
    {
     "data": {
      "text/html": [
       "<div>\n",
       "<style scoped>\n",
       "    .dataframe tbody tr th:only-of-type {\n",
       "        vertical-align: middle;\n",
       "    }\n",
       "\n",
       "    .dataframe tbody tr th {\n",
       "        vertical-align: top;\n",
       "    }\n",
       "\n",
       "    .dataframe thead th {\n",
       "        text-align: right;\n",
       "    }\n",
       "</style>\n",
       "<table border=\"1\" class=\"dataframe\">\n",
       "  <thead>\n",
       "    <tr style=\"text-align: right;\">\n",
       "      <th></th>\n",
       "      <th>Unnamed: 0</th>\n",
       "      <th>User review</th>\n",
       "      <th>Review date</th>\n",
       "      <th>Star review</th>\n",
       "      <th>Text length</th>\n",
       "      <th>Has media</th>\n",
       "      <th>Has answer</th>\n",
       "      <th>Written by bot</th>\n",
       "    </tr>\n",
       "  </thead>\n",
       "  <tbody>\n",
       "    <tr>\n",
       "      <th>0</th>\n",
       "      <td>0.0</td>\n",
       "      <td>[достоинство, устроить, нормальный, демисезонка]</td>\n",
       "      <td>2024-10-09</td>\n",
       "      <td>5</td>\n",
       "      <td>54</td>\n",
       "      <td>0</td>\n",
       "      <td>0</td>\n",
       "      <td>0</td>\n",
       "    </tr>\n",
       "    <tr>\n",
       "      <th>1</th>\n",
       "      <td>1.0</td>\n",
       "      <td>[шикарный, начитаться, отзыв, рискнуть, стирка...</td>\n",
       "      <td>2024-10-09</td>\n",
       "      <td>5</td>\n",
       "      <td>195</td>\n",
       "      <td>0</td>\n",
       "      <td>0</td>\n",
       "      <td>0</td>\n",
       "    </tr>\n",
       "    <tr>\n",
       "      <th>2</th>\n",
       "      <td>2.0</td>\n",
       "      <td>[дочка, понравиться]</td>\n",
       "      <td>2024-10-09</td>\n",
       "      <td>5</td>\n",
       "      <td>17</td>\n",
       "      <td>0</td>\n",
       "      <td>0</td>\n",
       "      <td>0</td>\n",
       "    </tr>\n",
       "    <tr>\n",
       "      <th>3</th>\n",
       "      <td>3.0</td>\n",
       "      <td>[пока, одевать, хотеть]</td>\n",
       "      <td>2024-10-09</td>\n",
       "      <td>5</td>\n",
       "      <td>33</td>\n",
       "      <td>0</td>\n",
       "      <td>0</td>\n",
       "      <td>0</td>\n",
       "    </tr>\n",
       "    <tr>\n",
       "      <th>4</th>\n",
       "      <td>4.0</td>\n",
       "      <td>[отличный, куртка]</td>\n",
       "      <td>2024-10-09</td>\n",
       "      <td>5</td>\n",
       "      <td>15</td>\n",
       "      <td>0</td>\n",
       "      <td>0</td>\n",
       "      <td>0</td>\n",
       "    </tr>\n",
       "    <tr>\n",
       "      <th>...</th>\n",
       "      <td>...</td>\n",
       "      <td>...</td>\n",
       "      <td>...</td>\n",
       "      <td>...</td>\n",
       "      <td>...</td>\n",
       "      <td>...</td>\n",
       "      <td>...</td>\n",
       "      <td>...</td>\n",
       "    </tr>\n",
       "    <tr>\n",
       "      <th>1792</th>\n",
       "      <td>94.0</td>\n",
       "      <td>[всё, супер, продукт, высота]</td>\n",
       "      <td>2024-06-28</td>\n",
       "      <td>5</td>\n",
       "      <td>38</td>\n",
       "      <td>1</td>\n",
       "      <td>1</td>\n",
       "      <td>1</td>\n",
       "    </tr>\n",
       "    <tr>\n",
       "      <th>1793</th>\n",
       "      <td>95.0</td>\n",
       "      <td>[товар, рекомендовать, высокий, уровень]</td>\n",
       "      <td>2024-06-27</td>\n",
       "      <td>5</td>\n",
       "      <td>44</td>\n",
       "      <td>0</td>\n",
       "      <td>1</td>\n",
       "      <td>1</td>\n",
       "    </tr>\n",
       "    <tr>\n",
       "      <th>1794</th>\n",
       "      <td>96.0</td>\n",
       "      <td>[не, ожидать, такой, высокий, качество, покупк...</td>\n",
       "      <td>2024-06-26</td>\n",
       "      <td>5</td>\n",
       "      <td>52</td>\n",
       "      <td>1</td>\n",
       "      <td>1</td>\n",
       "      <td>1</td>\n",
       "    </tr>\n",
       "    <tr>\n",
       "      <th>1795</th>\n",
       "      <td>97.0</td>\n",
       "      <td>[всё, замечательный, продукт, оправдать, ожида...</td>\n",
       "      <td>2024-06-25</td>\n",
       "      <td>5</td>\n",
       "      <td>48</td>\n",
       "      <td>0</td>\n",
       "      <td>1</td>\n",
       "      <td>1</td>\n",
       "    </tr>\n",
       "    <tr>\n",
       "      <th>1796</th>\n",
       "      <td>98.0</td>\n",
       "      <td>[рекомендовать, товар, купить]</td>\n",
       "      <td>2024-06-24</td>\n",
       "      <td>5</td>\n",
       "      <td>37</td>\n",
       "      <td>1</td>\n",
       "      <td>1</td>\n",
       "      <td>1</td>\n",
       "    </tr>\n",
       "  </tbody>\n",
       "</table>\n",
       "<p>1797 rows × 8 columns</p>\n",
       "</div>"
      ],
      "text/plain": [
       "      Unnamed: 0                                        User review  \\\n",
       "0            0.0   [достоинство, устроить, нормальный, демисезонка]   \n",
       "1            1.0  [шикарный, начитаться, отзыв, рискнуть, стирка...   \n",
       "2            2.0                               [дочка, понравиться]   \n",
       "3            3.0                            [пока, одевать, хотеть]   \n",
       "4            4.0                                 [отличный, куртка]   \n",
       "...          ...                                                ...   \n",
       "1792        94.0                      [всё, супер, продукт, высота]   \n",
       "1793        95.0           [товар, рекомендовать, высокий, уровень]   \n",
       "1794        96.0  [не, ожидать, такой, высокий, качество, покупк...   \n",
       "1795        97.0  [всё, замечательный, продукт, оправдать, ожида...   \n",
       "1796        98.0                     [рекомендовать, товар, купить]   \n",
       "\n",
       "     Review date  Star review  Text length  Has media  Has answer  \\\n",
       "0     2024-10-09            5           54          0           0   \n",
       "1     2024-10-09            5          195          0           0   \n",
       "2     2024-10-09            5           17          0           0   \n",
       "3     2024-10-09            5           33          0           0   \n",
       "4     2024-10-09            5           15          0           0   \n",
       "...          ...          ...          ...        ...         ...   \n",
       "1792  2024-06-28            5           38          1           1   \n",
       "1793  2024-06-27            5           44          0           1   \n",
       "1794  2024-06-26            5           52          1           1   \n",
       "1795  2024-06-25            5           48          0           1   \n",
       "1796  2024-06-24            5           37          1           1   \n",
       "\n",
       "      Written by bot  \n",
       "0                  0  \n",
       "1                  0  \n",
       "2                  0  \n",
       "3                  0  \n",
       "4                  0  \n",
       "...              ...  \n",
       "1792               1  \n",
       "1793               1  \n",
       "1794               1  \n",
       "1795               1  \n",
       "1796               1  \n",
       "\n",
       "[1797 rows x 8 columns]"
      ]
     },
     "execution_count": 88,
     "metadata": {},
     "output_type": "execute_result"
    }
   ],
   "source": [
    "df"
   ]
  },
  {
   "cell_type": "code",
   "execution_count": 92,
   "id": "e99a4fc48c028bf6",
   "metadata": {
    "ExecuteTime": {
     "end_time": "2024-10-25T15:49:10.990102Z",
     "start_time": "2024-10-25T15:49:10.948104Z"
    }
   },
   "outputs": [],
   "source": [
    "df.to_csv(DIRECTORY_PATH + \"\\\\parser\\\\main_df.csv\")"
   ]
  },
  {
   "cell_type": "code",
   "execution_count": null,
   "id": "b9c552e05598fc9f",
   "metadata": {},
   "outputs": [],
   "source": []
  }
 ],
 "metadata": {
  "kernelspec": {
   "display_name": "Python 3",
   "language": "python",
   "name": "python3"
  },
  "language_info": {
   "codemirror_mode": {
    "name": "ipython",
    "version": 2
   },
   "file_extension": ".py",
   "mimetype": "text/x-python",
   "name": "python",
   "nbconvert_exporter": "python",
   "pygments_lexer": "ipython2",
   "version": "2.7.6"
  }
 },
 "nbformat": 4,
 "nbformat_minor": 5
}
