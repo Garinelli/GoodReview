{
 "cells": [
  {
   "cell_type": "code",
   "id": "initial_id",
   "metadata": {
    "collapsed": true,
    "ExecuteTime": {
     "end_time": "2024-12-03T17:13:22.884490Z",
     "start_time": "2024-12-03T17:13:22.873491Z"
    }
   },
   "source": [
    "import os\n",
    "import pandas as pd\n",
    "import nltk"
   ],
   "outputs": [],
   "execution_count": 63
  },
  {
   "metadata": {
    "ExecuteTime": {
     "end_time": "2024-12-03T17:13:23.338491Z",
     "start_time": "2024-12-03T17:13:23.319490Z"
    }
   },
   "cell_type": "code",
   "source": [
    "BASE_DIR = os.getcwd()\n",
    "DIRECTORY_PATH = os.path.dirname(BASE_DIR)\n",
    "DF_PATH = DIRECTORY_PATH + \"\\\\parser\\\\dataframes\\\\main_df.csv\""
   ],
   "id": "be81b1eda2717c1b",
   "outputs": [],
   "execution_count": 64
  },
  {
   "metadata": {
    "ExecuteTime": {
     "end_time": "2024-12-03T17:13:23.770490Z",
     "start_time": "2024-12-03T17:13:23.745491Z"
    }
   },
   "cell_type": "code",
   "source": [
    "df = pd.read_csv(DF_PATH)\n",
    "df = df.copy()"
   ],
   "id": "69b6d55047fc4924",
   "outputs": [],
   "execution_count": 65
  },
  {
   "metadata": {},
   "cell_type": "markdown",
   "source": "# NLTK",
   "id": "6a05d941b38690de"
  },
  {
   "metadata": {
    "ExecuteTime": {
     "end_time": "2024-12-03T17:13:24.725593Z",
     "start_time": "2024-12-03T17:13:24.711594Z"
    }
   },
   "cell_type": "code",
   "source": [
    "nltk.download('punkt_tab')\n",
    "nltk.download('punkt')\n",
    "nltk.download('stopwords')"
   ],
   "id": "1447a884ad73acba",
   "outputs": [
    {
     "name": "stderr",
     "output_type": "stream",
     "text": [
      "[nltk_data] Downloading package punkt_tab to\n",
      "[nltk_data]     C:\\Users\\amr\\AppData\\Roaming\\nltk_data...\n",
      "[nltk_data]   Package punkt_tab is already up-to-date!\n",
      "[nltk_data] Downloading package punkt to\n",
      "[nltk_data]     C:\\Users\\amr\\AppData\\Roaming\\nltk_data...\n",
      "[nltk_data]   Package punkt is already up-to-date!\n",
      "[nltk_data] Downloading package stopwords to\n",
      "[nltk_data]     C:\\Users\\amr\\AppData\\Roaming\\nltk_data...\n",
      "[nltk_data]   Package stopwords is already up-to-date!\n"
     ]
    },
    {
     "data": {
      "text/plain": [
       "True"
      ]
     },
     "execution_count": 66,
     "metadata": {},
     "output_type": "execute_result"
    }
   ],
   "execution_count": 66
  },
  {
   "metadata": {
    "ExecuteTime": {
     "end_time": "2024-12-03T17:13:25.400813Z",
     "start_time": "2024-12-03T17:13:25.382826Z"
    }
   },
   "cell_type": "code",
   "source": "reviews = df['User review'].values",
   "id": "fb646d1f4a784f0f",
   "outputs": [],
   "execution_count": 67
  },
  {
   "metadata": {},
   "cell_type": "markdown",
   "source": "# Приведение к нижнему регистру",
   "id": "3a22b49bec6856"
  },
  {
   "metadata": {
    "ExecuteTime": {
     "end_time": "2024-12-03T17:13:26.457122Z",
     "start_time": "2024-12-03T17:13:26.444093Z"
    }
   },
   "cell_type": "code",
   "source": [
    "for index, review in enumerate(reviews):\n",
    "    reviews[index] = review.lower()"
   ],
   "id": "c6b577af8f55f9df",
   "outputs": [],
   "execution_count": 68
  },
  {
   "metadata": {},
   "cell_type": "markdown",
   "source": "# Токенизация текста",
   "id": "1956f6a83bc5f01d"
  },
  {
   "metadata": {
    "ExecuteTime": {
     "end_time": "2024-12-03T17:13:27.768595Z",
     "start_time": "2024-12-03T17:13:27.387511Z"
    }
   },
   "cell_type": "code",
   "source": [
    "from nltk.tokenize import word_tokenize\n",
    "\n",
    "for index, review in enumerate(reviews):\n",
    "    tokens = word_tokenize(review)\n",
    "    tokens = [word for word in tokens]\n",
    "    reviews[index] = tokens"
   ],
   "id": "a00e0610a39f9792",
   "outputs": [],
   "execution_count": 69
  },
  {
   "metadata": {
    "ExecuteTime": {
     "end_time": "2024-12-03T17:13:29.359322Z",
     "start_time": "2024-12-03T17:13:29.344342Z"
    }
   },
   "cell_type": "code",
   "source": [
    "# reviews[15]\n",
    "reviews[0]"
   ],
   "id": "e91a72bc4685537d",
   "outputs": [
    {
     "data": {
      "text/plain": [
       "['достоинства', 'все', 'устроило', 'нормальная', 'демисезонка']"
      ]
     },
     "execution_count": 70,
     "metadata": {},
     "output_type": "execute_result"
    }
   ],
   "execution_count": 70
  },
  {
   "metadata": {},
   "cell_type": "markdown",
   "source": "# Stop words",
   "id": "fe04012ffa369348"
  },
  {
   "metadata": {
    "ExecuteTime": {
     "end_time": "2024-12-03T17:13:35.630194Z",
     "start_time": "2024-12-03T17:13:35.610197Z"
    }
   },
   "cell_type": "code",
   "source": [
    "from nltk.corpus import stopwords\n",
    "from nltk.tokenize import word_tokenize\n",
    "stop_words = set(stopwords.words('russian'))\n",
    "exceptions = {\n",
    "    \"не\", \"ни\", \"нет\", \"да\", \"или\", \"и\", \"так\", \"потому\", \"что\", \"когда\", \n",
    "    \"где\", \"кто\", \"что\", \"как\", \"зачем\", \"почему\", \"будто\", \"бы\", \"вдруг\", \n",
    "    \"пусть\", \"тоже\", \"все\", \"всё\", \"этот\", \"та\", \"такой\", \"сам\", \"только\", \n",
    "    \"другой\", \"ещё\", \"возможно\", \"почему\", \"впрочем\", \"хотя\", \"тем\", \"вместо\", \n",
    "    \"между\", \"также\", \"тогда\", \"вдобавок\", \"после\", \"перед\", \"наоборот\", \n",
    "    \"поэтому\", \"то\", \"тогда\", \"когда\", \"если\", \"даже\", \"включая\", \"совсем\", \n",
    "    \"именно\", \"через\", \"сейчас\", \"когда\", \"будет\", \"для\", \"от\", \"среди\"\n",
    "}"
   ],
   "id": "77ce81549f338e2d",
   "outputs": [],
   "execution_count": 71
  },
  {
   "metadata": {
    "ExecuteTime": {
     "end_time": "2024-12-03T17:13:36.300787Z",
     "start_time": "2024-12-03T17:13:36.291788Z"
    }
   },
   "cell_type": "code",
   "source": [
    "for tokens in reviews:\n",
    "    for token in tokens:\n",
    "        if token in stop_words and token not in exceptions:\n",
    "            tokens.remove(token)"
   ],
   "id": "6b41d2bbd19228b5",
   "outputs": [],
   "execution_count": 72
  },
  {
   "metadata": {
    "ExecuteTime": {
     "end_time": "2024-12-03T17:13:37.134181Z",
     "start_time": "2024-12-03T17:13:37.116182Z"
    }
   },
   "cell_type": "code",
   "source": "reviews[15]",
   "id": "26638babf5e58907",
   "outputs": [
    {
     "data": {
      "text/plain": [
       "['курутая',\n",
       " ',',\n",
       " 'балдею',\n",
       " 'ней',\n",
       " '.',\n",
       " 'продувает',\n",
       " 'ветре',\n",
       " ',',\n",
       " '-',\n",
       " '5.',\n",
       " 'транспорте',\n",
       " 'не',\n",
       " 'жарко',\n",
       " '.']"
      ]
     },
     "execution_count": 73,
     "metadata": {},
     "output_type": "execute_result"
    }
   ],
   "execution_count": 73
  },
  {
   "metadata": {},
   "cell_type": "markdown",
   "source": "# Лемматизация",
   "id": "b1694d1d74889d8a"
  },
  {
   "metadata": {
    "ExecuteTime": {
     "end_time": "2024-12-03T17:13:38.258075Z",
     "start_time": "2024-12-03T17:13:38.242076Z"
    }
   },
   "cell_type": "code",
   "source": "nltk.download('omw-1.4')",
   "id": "1d69ebf745ce360a",
   "outputs": [
    {
     "name": "stderr",
     "output_type": "stream",
     "text": [
      "[nltk_data] Downloading package omw-1.4 to\n",
      "[nltk_data]     C:\\Users\\amr\\AppData\\Roaming\\nltk_data...\n",
      "[nltk_data]   Package omw-1.4 is already up-to-date!\n"
     ]
    },
    {
     "data": {
      "text/plain": [
       "True"
      ]
     },
     "execution_count": 74,
     "metadata": {},
     "output_type": "execute_result"
    }
   ],
   "execution_count": 74
  },
  {
   "metadata": {
    "ExecuteTime": {
     "end_time": "2024-12-03T17:13:39.275090Z",
     "start_time": "2024-12-03T17:13:39.150092Z"
    }
   },
   "cell_type": "code",
   "source": [
    "import pymorphy2\n",
    "\n",
    "morph = pymorphy2.MorphAnalyzer()"
   ],
   "id": "ffeaa247bf220c0a",
   "outputs": [],
   "execution_count": 75
  },
  {
   "metadata": {
    "ExecuteTime": {
     "end_time": "2024-12-03T17:13:43.742646Z",
     "start_time": "2024-12-03T17:13:39.686092Z"
    }
   },
   "cell_type": "code",
   "source": [
    "for tokens in reviews:\n",
    "    for index, token in enumerate(tokens):\n",
    "        lemma = morph.parse(token)[0].normal_form\n",
    "        tokens[index] = lemma\n",
    "# for index, review in enumerate(reviews):\n",
    "#     words = word_tokenize(review)\n",
    "#     stemmed_words = [morph.parse(word)[0].normal_form for word in words]\n",
    "#     result_review = ' '.join(stemmed_words)\n",
    "#     reviews[index] = result_review"
   ],
   "id": "f448d2694ed137b7",
   "outputs": [],
   "execution_count": 76
  },
  {
   "metadata": {
    "ExecuteTime": {
     "end_time": "2024-12-03T17:13:46.288689Z",
     "start_time": "2024-12-03T17:13:46.274697Z"
    }
   },
   "cell_type": "code",
   "source": "reviews[12]",
   "id": "134b1c0355954899",
   "outputs": [
    {
     "data": {
      "text/plain": [
       "['хороший', 'куртка', 'и', 'пошить']"
      ]
     },
     "execution_count": 77,
     "metadata": {},
     "output_type": "execute_result"
    }
   ],
   "execution_count": 77
  },
  {
   "metadata": {
    "ExecuteTime": {
     "end_time": "2024-12-03T17:13:47.027027Z",
     "start_time": "2024-12-03T17:13:47.013440Z"
    }
   },
   "cell_type": "code",
   "source": "reviews = list(reviews)",
   "id": "c9979b903ada9018",
   "outputs": [],
   "execution_count": 78
  },
  {
   "metadata": {
    "ExecuteTime": {
     "end_time": "2024-12-03T17:13:47.535264Z",
     "start_time": "2024-12-03T17:13:47.517216Z"
    }
   },
   "cell_type": "code",
   "source": "df",
   "id": "588d21e40ac34edf",
   "outputs": [
    {
     "data": {
      "text/plain": [
       "      Unnamed: 0                                        User review  \\\n",
       "0            0.0  [достоинство, всё, устроить, нормальный, демис...   \n",
       "1            1.0  [шикарный, ,, начитаться, отзыв, ,, рискнуть, ...   \n",
       "2            2.0                               [дочка, понравиться]   \n",
       "3            3.0            [пока, не, одевать, ,, то, что, хотеть]   \n",
       "4            4.0                                 [отличный, куртка]   \n",
       "...          ...                                                ...   \n",
       "2356        25.0  [положить, не, то, ,, заменить, быстро, ., ост...   \n",
       "2357        26.0  [шумный, ,, работать, ., не, идеально, ,, свой...   \n",
       "2358        27.0  [коробка, грязный, ,, товар, как, новый, ., ус...   \n",
       "2359        28.0  [болтик, не, место, ., быстро, поправить, ,, в...   \n",
       "2360        29.0  [небольшой, огрех, отделка, ,, работать, норма...   \n",
       "\n",
       "     Review date  Star review  Text length  Has media  Has answer  \\\n",
       "0     2024-10-09            5           54          0           0   \n",
       "1     2024-10-09            5          195          0           0   \n",
       "2     2024-10-09            5           17          0           0   \n",
       "3     2024-10-09            5           33          0           0   \n",
       "4     2024-10-09            5           15          0           0   \n",
       "...          ...          ...          ...        ...         ...   \n",
       "2356  2024-11-08            4           62          1           0   \n",
       "2357  2024-11-10            4           58          0           1   \n",
       "2358  2024-11-12            4           57          0           1   \n",
       "2359  2024-11-14            5           65          1           0   \n",
       "2360  2024-11-16            4           65          0           1   \n",
       "\n",
       "      Written by bot  \n",
       "0                  0  \n",
       "1                  0  \n",
       "2                  0  \n",
       "3                  0  \n",
       "4                  0  \n",
       "...              ...  \n",
       "2356               0  \n",
       "2357               0  \n",
       "2358               0  \n",
       "2359               0  \n",
       "2360               0  \n",
       "\n",
       "[2361 rows x 8 columns]"
      ],
      "text/html": [
       "<div>\n",
       "<style scoped>\n",
       "    .dataframe tbody tr th:only-of-type {\n",
       "        vertical-align: middle;\n",
       "    }\n",
       "\n",
       "    .dataframe tbody tr th {\n",
       "        vertical-align: top;\n",
       "    }\n",
       "\n",
       "    .dataframe thead th {\n",
       "        text-align: right;\n",
       "    }\n",
       "</style>\n",
       "<table border=\"1\" class=\"dataframe\">\n",
       "  <thead>\n",
       "    <tr style=\"text-align: right;\">\n",
       "      <th></th>\n",
       "      <th>Unnamed: 0</th>\n",
       "      <th>User review</th>\n",
       "      <th>Review date</th>\n",
       "      <th>Star review</th>\n",
       "      <th>Text length</th>\n",
       "      <th>Has media</th>\n",
       "      <th>Has answer</th>\n",
       "      <th>Written by bot</th>\n",
       "    </tr>\n",
       "  </thead>\n",
       "  <tbody>\n",
       "    <tr>\n",
       "      <th>0</th>\n",
       "      <td>0.0</td>\n",
       "      <td>[достоинство, всё, устроить, нормальный, демис...</td>\n",
       "      <td>2024-10-09</td>\n",
       "      <td>5</td>\n",
       "      <td>54</td>\n",
       "      <td>0</td>\n",
       "      <td>0</td>\n",
       "      <td>0</td>\n",
       "    </tr>\n",
       "    <tr>\n",
       "      <th>1</th>\n",
       "      <td>1.0</td>\n",
       "      <td>[шикарный, ,, начитаться, отзыв, ,, рискнуть, ...</td>\n",
       "      <td>2024-10-09</td>\n",
       "      <td>5</td>\n",
       "      <td>195</td>\n",
       "      <td>0</td>\n",
       "      <td>0</td>\n",
       "      <td>0</td>\n",
       "    </tr>\n",
       "    <tr>\n",
       "      <th>2</th>\n",
       "      <td>2.0</td>\n",
       "      <td>[дочка, понравиться]</td>\n",
       "      <td>2024-10-09</td>\n",
       "      <td>5</td>\n",
       "      <td>17</td>\n",
       "      <td>0</td>\n",
       "      <td>0</td>\n",
       "      <td>0</td>\n",
       "    </tr>\n",
       "    <tr>\n",
       "      <th>3</th>\n",
       "      <td>3.0</td>\n",
       "      <td>[пока, не, одевать, ,, то, что, хотеть]</td>\n",
       "      <td>2024-10-09</td>\n",
       "      <td>5</td>\n",
       "      <td>33</td>\n",
       "      <td>0</td>\n",
       "      <td>0</td>\n",
       "      <td>0</td>\n",
       "    </tr>\n",
       "    <tr>\n",
       "      <th>4</th>\n",
       "      <td>4.0</td>\n",
       "      <td>[отличный, куртка]</td>\n",
       "      <td>2024-10-09</td>\n",
       "      <td>5</td>\n",
       "      <td>15</td>\n",
       "      <td>0</td>\n",
       "      <td>0</td>\n",
       "      <td>0</td>\n",
       "    </tr>\n",
       "    <tr>\n",
       "      <th>...</th>\n",
       "      <td>...</td>\n",
       "      <td>...</td>\n",
       "      <td>...</td>\n",
       "      <td>...</td>\n",
       "      <td>...</td>\n",
       "      <td>...</td>\n",
       "      <td>...</td>\n",
       "      <td>...</td>\n",
       "    </tr>\n",
       "    <tr>\n",
       "      <th>2356</th>\n",
       "      <td>25.0</td>\n",
       "      <td>[положить, не, то, ,, заменить, быстро, ., ост...</td>\n",
       "      <td>2024-11-08</td>\n",
       "      <td>4</td>\n",
       "      <td>62</td>\n",
       "      <td>1</td>\n",
       "      <td>0</td>\n",
       "      <td>0</td>\n",
       "    </tr>\n",
       "    <tr>\n",
       "      <th>2357</th>\n",
       "      <td>26.0</td>\n",
       "      <td>[шумный, ,, работать, ., не, идеально, ,, свой...</td>\n",
       "      <td>2024-11-10</td>\n",
       "      <td>4</td>\n",
       "      <td>58</td>\n",
       "      <td>0</td>\n",
       "      <td>1</td>\n",
       "      <td>0</td>\n",
       "    </tr>\n",
       "    <tr>\n",
       "      <th>2358</th>\n",
       "      <td>27.0</td>\n",
       "      <td>[коробка, грязный, ,, товар, как, новый, ., ус...</td>\n",
       "      <td>2024-11-12</td>\n",
       "      <td>4</td>\n",
       "      <td>57</td>\n",
       "      <td>0</td>\n",
       "      <td>1</td>\n",
       "      <td>0</td>\n",
       "    </tr>\n",
       "    <tr>\n",
       "      <th>2359</th>\n",
       "      <td>28.0</td>\n",
       "      <td>[болтик, не, место, ., быстро, поправить, ,, в...</td>\n",
       "      <td>2024-11-14</td>\n",
       "      <td>5</td>\n",
       "      <td>65</td>\n",
       "      <td>1</td>\n",
       "      <td>0</td>\n",
       "      <td>0</td>\n",
       "    </tr>\n",
       "    <tr>\n",
       "      <th>2360</th>\n",
       "      <td>29.0</td>\n",
       "      <td>[небольшой, огрех, отделка, ,, работать, норма...</td>\n",
       "      <td>2024-11-16</td>\n",
       "      <td>4</td>\n",
       "      <td>65</td>\n",
       "      <td>0</td>\n",
       "      <td>1</td>\n",
       "      <td>0</td>\n",
       "    </tr>\n",
       "  </tbody>\n",
       "</table>\n",
       "<p>2361 rows × 8 columns</p>\n",
       "</div>"
      ]
     },
     "execution_count": 79,
     "metadata": {},
     "output_type": "execute_result"
    }
   ],
   "execution_count": 79
  },
  {
   "metadata": {
    "ExecuteTime": {
     "end_time": "2024-12-03T17:13:49.659926Z",
     "start_time": "2024-12-03T17:13:49.650925Z"
    }
   },
   "cell_type": "code",
   "source": "df = df.drop(columns=['Unnamed: 0'])",
   "id": "496ce9881d6e08b5",
   "outputs": [],
   "execution_count": 80
  },
  {
   "metadata": {
    "ExecuteTime": {
     "end_time": "2024-12-03T17:13:50.893401Z",
     "start_time": "2024-12-03T17:13:50.879402Z"
    }
   },
   "cell_type": "code",
   "source": "df",
   "id": "ba56317733ff1412",
   "outputs": [
    {
     "data": {
      "text/plain": [
       "                                            User review Review date  \\\n",
       "0     [достоинство, всё, устроить, нормальный, демис...  2024-10-09   \n",
       "1     [шикарный, ,, начитаться, отзыв, ,, рискнуть, ...  2024-10-09   \n",
       "2                                  [дочка, понравиться]  2024-10-09   \n",
       "3               [пока, не, одевать, ,, то, что, хотеть]  2024-10-09   \n",
       "4                                    [отличный, куртка]  2024-10-09   \n",
       "...                                                 ...         ...   \n",
       "2356  [положить, не, то, ,, заменить, быстро, ., ост...  2024-11-08   \n",
       "2357  [шумный, ,, работать, ., не, идеально, ,, свой...  2024-11-10   \n",
       "2358  [коробка, грязный, ,, товар, как, новый, ., ус...  2024-11-12   \n",
       "2359  [болтик, не, место, ., быстро, поправить, ,, в...  2024-11-14   \n",
       "2360  [небольшой, огрех, отделка, ,, работать, норма...  2024-11-16   \n",
       "\n",
       "      Star review  Text length  Has media  Has answer  Written by bot  \n",
       "0               5           54          0           0               0  \n",
       "1               5          195          0           0               0  \n",
       "2               5           17          0           0               0  \n",
       "3               5           33          0           0               0  \n",
       "4               5           15          0           0               0  \n",
       "...           ...          ...        ...         ...             ...  \n",
       "2356            4           62          1           0               0  \n",
       "2357            4           58          0           1               0  \n",
       "2358            4           57          0           1               0  \n",
       "2359            5           65          1           0               0  \n",
       "2360            4           65          0           1               0  \n",
       "\n",
       "[2361 rows x 7 columns]"
      ],
      "text/html": [
       "<div>\n",
       "<style scoped>\n",
       "    .dataframe tbody tr th:only-of-type {\n",
       "        vertical-align: middle;\n",
       "    }\n",
       "\n",
       "    .dataframe tbody tr th {\n",
       "        vertical-align: top;\n",
       "    }\n",
       "\n",
       "    .dataframe thead th {\n",
       "        text-align: right;\n",
       "    }\n",
       "</style>\n",
       "<table border=\"1\" class=\"dataframe\">\n",
       "  <thead>\n",
       "    <tr style=\"text-align: right;\">\n",
       "      <th></th>\n",
       "      <th>User review</th>\n",
       "      <th>Review date</th>\n",
       "      <th>Star review</th>\n",
       "      <th>Text length</th>\n",
       "      <th>Has media</th>\n",
       "      <th>Has answer</th>\n",
       "      <th>Written by bot</th>\n",
       "    </tr>\n",
       "  </thead>\n",
       "  <tbody>\n",
       "    <tr>\n",
       "      <th>0</th>\n",
       "      <td>[достоинство, всё, устроить, нормальный, демис...</td>\n",
       "      <td>2024-10-09</td>\n",
       "      <td>5</td>\n",
       "      <td>54</td>\n",
       "      <td>0</td>\n",
       "      <td>0</td>\n",
       "      <td>0</td>\n",
       "    </tr>\n",
       "    <tr>\n",
       "      <th>1</th>\n",
       "      <td>[шикарный, ,, начитаться, отзыв, ,, рискнуть, ...</td>\n",
       "      <td>2024-10-09</td>\n",
       "      <td>5</td>\n",
       "      <td>195</td>\n",
       "      <td>0</td>\n",
       "      <td>0</td>\n",
       "      <td>0</td>\n",
       "    </tr>\n",
       "    <tr>\n",
       "      <th>2</th>\n",
       "      <td>[дочка, понравиться]</td>\n",
       "      <td>2024-10-09</td>\n",
       "      <td>5</td>\n",
       "      <td>17</td>\n",
       "      <td>0</td>\n",
       "      <td>0</td>\n",
       "      <td>0</td>\n",
       "    </tr>\n",
       "    <tr>\n",
       "      <th>3</th>\n",
       "      <td>[пока, не, одевать, ,, то, что, хотеть]</td>\n",
       "      <td>2024-10-09</td>\n",
       "      <td>5</td>\n",
       "      <td>33</td>\n",
       "      <td>0</td>\n",
       "      <td>0</td>\n",
       "      <td>0</td>\n",
       "    </tr>\n",
       "    <tr>\n",
       "      <th>4</th>\n",
       "      <td>[отличный, куртка]</td>\n",
       "      <td>2024-10-09</td>\n",
       "      <td>5</td>\n",
       "      <td>15</td>\n",
       "      <td>0</td>\n",
       "      <td>0</td>\n",
       "      <td>0</td>\n",
       "    </tr>\n",
       "    <tr>\n",
       "      <th>...</th>\n",
       "      <td>...</td>\n",
       "      <td>...</td>\n",
       "      <td>...</td>\n",
       "      <td>...</td>\n",
       "      <td>...</td>\n",
       "      <td>...</td>\n",
       "      <td>...</td>\n",
       "    </tr>\n",
       "    <tr>\n",
       "      <th>2356</th>\n",
       "      <td>[положить, не, то, ,, заменить, быстро, ., ост...</td>\n",
       "      <td>2024-11-08</td>\n",
       "      <td>4</td>\n",
       "      <td>62</td>\n",
       "      <td>1</td>\n",
       "      <td>0</td>\n",
       "      <td>0</td>\n",
       "    </tr>\n",
       "    <tr>\n",
       "      <th>2357</th>\n",
       "      <td>[шумный, ,, работать, ., не, идеально, ,, свой...</td>\n",
       "      <td>2024-11-10</td>\n",
       "      <td>4</td>\n",
       "      <td>58</td>\n",
       "      <td>0</td>\n",
       "      <td>1</td>\n",
       "      <td>0</td>\n",
       "    </tr>\n",
       "    <tr>\n",
       "      <th>2358</th>\n",
       "      <td>[коробка, грязный, ,, товар, как, новый, ., ус...</td>\n",
       "      <td>2024-11-12</td>\n",
       "      <td>4</td>\n",
       "      <td>57</td>\n",
       "      <td>0</td>\n",
       "      <td>1</td>\n",
       "      <td>0</td>\n",
       "    </tr>\n",
       "    <tr>\n",
       "      <th>2359</th>\n",
       "      <td>[болтик, не, место, ., быстро, поправить, ,, в...</td>\n",
       "      <td>2024-11-14</td>\n",
       "      <td>5</td>\n",
       "      <td>65</td>\n",
       "      <td>1</td>\n",
       "      <td>0</td>\n",
       "      <td>0</td>\n",
       "    </tr>\n",
       "    <tr>\n",
       "      <th>2360</th>\n",
       "      <td>[небольшой, огрех, отделка, ,, работать, норма...</td>\n",
       "      <td>2024-11-16</td>\n",
       "      <td>4</td>\n",
       "      <td>65</td>\n",
       "      <td>0</td>\n",
       "      <td>1</td>\n",
       "      <td>0</td>\n",
       "    </tr>\n",
       "  </tbody>\n",
       "</table>\n",
       "<p>2361 rows × 7 columns</p>\n",
       "</div>"
      ]
     },
     "execution_count": 81,
     "metadata": {},
     "output_type": "execute_result"
    }
   ],
   "execution_count": 81
  },
  {
   "metadata": {
    "ExecuteTime": {
     "end_time": "2024-12-03T17:12:51.082749Z",
     "start_time": "2024-12-03T17:12:51.073751Z"
    }
   },
   "cell_type": "code",
   "source": [
    "# df['Written by bot'] = df['Written by bot'].replace(\"True\", 1)\n",
    "# df['Written by bot'] = df['Written by bot'].replace(\"False\", 0)"
   ],
   "id": "d9fc946f841a942b",
   "outputs": [],
   "execution_count": 55
  },
  {
   "metadata": {
    "ExecuteTime": {
     "end_time": "2024-12-03T17:12:52.399816Z",
     "start_time": "2024-12-03T17:12:52.385818Z"
    }
   },
   "cell_type": "code",
   "source": "df",
   "id": "c893ae2d4be36658",
   "outputs": [
    {
     "data": {
      "text/plain": [
       "                                            User review Review date  \\\n",
       "0     [достоинство, всё, устроить, нормальный, демис...  2024-10-09   \n",
       "1     [шикарный, ,, начитаться, отзыв, ,, рискнуть, ...  2024-10-09   \n",
       "2                                  [дочка, понравиться]  2024-10-09   \n",
       "3               [пока, не, одевать, ,, то, что, хотеть]  2024-10-09   \n",
       "4                                    [отличный, куртка]  2024-10-09   \n",
       "...                                                 ...         ...   \n",
       "2356  [положить, не, то, ,, заменить, быстро, ., ост...  2024-11-08   \n",
       "2357  [шумный, ,, работать, ., не, идеально, ,, свой...  2024-11-10   \n",
       "2358  [коробка, грязный, ,, товар, как, новый, ., ус...  2024-11-12   \n",
       "2359  [болтик, не, место, ., быстро, поправить, ,, в...  2024-11-14   \n",
       "2360  [небольшой, огрех, отделка, ,, работать, норма...  2024-11-16   \n",
       "\n",
       "      Star review  Text length  Has media  Has answer  Written by bot  \n",
       "0               5           54          0           0               0  \n",
       "1               5          195          0           0               0  \n",
       "2               5           17          0           0               0  \n",
       "3               5           33          0           0               0  \n",
       "4               5           15          0           0               0  \n",
       "...           ...          ...        ...         ...             ...  \n",
       "2356            4           62          1           0               0  \n",
       "2357            4           58          0           1               0  \n",
       "2358            4           57          0           1               0  \n",
       "2359            5           65          1           0               0  \n",
       "2360            4           65          0           1               0  \n",
       "\n",
       "[2361 rows x 7 columns]"
      ],
      "text/html": [
       "<div>\n",
       "<style scoped>\n",
       "    .dataframe tbody tr th:only-of-type {\n",
       "        vertical-align: middle;\n",
       "    }\n",
       "\n",
       "    .dataframe tbody tr th {\n",
       "        vertical-align: top;\n",
       "    }\n",
       "\n",
       "    .dataframe thead th {\n",
       "        text-align: right;\n",
       "    }\n",
       "</style>\n",
       "<table border=\"1\" class=\"dataframe\">\n",
       "  <thead>\n",
       "    <tr style=\"text-align: right;\">\n",
       "      <th></th>\n",
       "      <th>User review</th>\n",
       "      <th>Review date</th>\n",
       "      <th>Star review</th>\n",
       "      <th>Text length</th>\n",
       "      <th>Has media</th>\n",
       "      <th>Has answer</th>\n",
       "      <th>Written by bot</th>\n",
       "    </tr>\n",
       "  </thead>\n",
       "  <tbody>\n",
       "    <tr>\n",
       "      <th>0</th>\n",
       "      <td>[достоинство, всё, устроить, нормальный, демис...</td>\n",
       "      <td>2024-10-09</td>\n",
       "      <td>5</td>\n",
       "      <td>54</td>\n",
       "      <td>0</td>\n",
       "      <td>0</td>\n",
       "      <td>0</td>\n",
       "    </tr>\n",
       "    <tr>\n",
       "      <th>1</th>\n",
       "      <td>[шикарный, ,, начитаться, отзыв, ,, рискнуть, ...</td>\n",
       "      <td>2024-10-09</td>\n",
       "      <td>5</td>\n",
       "      <td>195</td>\n",
       "      <td>0</td>\n",
       "      <td>0</td>\n",
       "      <td>0</td>\n",
       "    </tr>\n",
       "    <tr>\n",
       "      <th>2</th>\n",
       "      <td>[дочка, понравиться]</td>\n",
       "      <td>2024-10-09</td>\n",
       "      <td>5</td>\n",
       "      <td>17</td>\n",
       "      <td>0</td>\n",
       "      <td>0</td>\n",
       "      <td>0</td>\n",
       "    </tr>\n",
       "    <tr>\n",
       "      <th>3</th>\n",
       "      <td>[пока, не, одевать, ,, то, что, хотеть]</td>\n",
       "      <td>2024-10-09</td>\n",
       "      <td>5</td>\n",
       "      <td>33</td>\n",
       "      <td>0</td>\n",
       "      <td>0</td>\n",
       "      <td>0</td>\n",
       "    </tr>\n",
       "    <tr>\n",
       "      <th>4</th>\n",
       "      <td>[отличный, куртка]</td>\n",
       "      <td>2024-10-09</td>\n",
       "      <td>5</td>\n",
       "      <td>15</td>\n",
       "      <td>0</td>\n",
       "      <td>0</td>\n",
       "      <td>0</td>\n",
       "    </tr>\n",
       "    <tr>\n",
       "      <th>...</th>\n",
       "      <td>...</td>\n",
       "      <td>...</td>\n",
       "      <td>...</td>\n",
       "      <td>...</td>\n",
       "      <td>...</td>\n",
       "      <td>...</td>\n",
       "      <td>...</td>\n",
       "    </tr>\n",
       "    <tr>\n",
       "      <th>2356</th>\n",
       "      <td>[положить, не, то, ,, заменить, быстро, ., ост...</td>\n",
       "      <td>2024-11-08</td>\n",
       "      <td>4</td>\n",
       "      <td>62</td>\n",
       "      <td>1</td>\n",
       "      <td>0</td>\n",
       "      <td>0</td>\n",
       "    </tr>\n",
       "    <tr>\n",
       "      <th>2357</th>\n",
       "      <td>[шумный, ,, работать, ., не, идеально, ,, свой...</td>\n",
       "      <td>2024-11-10</td>\n",
       "      <td>4</td>\n",
       "      <td>58</td>\n",
       "      <td>0</td>\n",
       "      <td>1</td>\n",
       "      <td>0</td>\n",
       "    </tr>\n",
       "    <tr>\n",
       "      <th>2358</th>\n",
       "      <td>[коробка, грязный, ,, товар, как, новый, ., ус...</td>\n",
       "      <td>2024-11-12</td>\n",
       "      <td>4</td>\n",
       "      <td>57</td>\n",
       "      <td>0</td>\n",
       "      <td>1</td>\n",
       "      <td>0</td>\n",
       "    </tr>\n",
       "    <tr>\n",
       "      <th>2359</th>\n",
       "      <td>[болтик, не, место, ., быстро, поправить, ,, в...</td>\n",
       "      <td>2024-11-14</td>\n",
       "      <td>5</td>\n",
       "      <td>65</td>\n",
       "      <td>1</td>\n",
       "      <td>0</td>\n",
       "      <td>0</td>\n",
       "    </tr>\n",
       "    <tr>\n",
       "      <th>2360</th>\n",
       "      <td>[небольшой, огрех, отделка, ,, работать, норма...</td>\n",
       "      <td>2024-11-16</td>\n",
       "      <td>4</td>\n",
       "      <td>65</td>\n",
       "      <td>0</td>\n",
       "      <td>1</td>\n",
       "      <td>0</td>\n",
       "    </tr>\n",
       "  </tbody>\n",
       "</table>\n",
       "<p>2361 rows × 7 columns</p>\n",
       "</div>"
      ]
     },
     "execution_count": 56,
     "metadata": {},
     "output_type": "execute_result"
    }
   ],
   "execution_count": 56
  },
  {
   "metadata": {
    "ExecuteTime": {
     "end_time": "2024-12-03T16:59:47.378279Z",
     "start_time": "2024-12-03T16:59:47.348249Z"
    }
   },
   "cell_type": "code",
   "source": "df.to_csv(DIRECTORY_PATH + \"\\\\parser\\\\dataframes\\\\preprocessed_main_df.csv\")",
   "id": "e99a4fc48c028bf6",
   "outputs": [],
   "execution_count": 24
  },
  {
   "metadata": {
    "ExecuteTime": {
     "end_time": "2024-12-03T17:00:42.522868Z",
     "start_time": "2024-12-03T17:00:42.506870Z"
    }
   },
   "cell_type": "code",
   "source": "filtered_df = df[df['Written by bot'] == 'True']",
   "id": "b9c552e05598fc9f",
   "outputs": [],
   "execution_count": 25
  },
  {
   "metadata": {
    "ExecuteTime": {
     "end_time": "2024-12-03T17:00:43.070511Z",
     "start_time": "2024-12-03T17:00:43.062511Z"
    }
   },
   "cell_type": "code",
   "source": "filtered_df",
   "id": "f824c6bc6db5715d",
   "outputs": [
    {
     "data": {
      "text/plain": [
       "Empty DataFrame\n",
       "Columns: [User review, Review date, Star review, Text length, Has media, Has answer, Written by bot]\n",
       "Index: []"
      ],
      "text/html": [
       "<div>\n",
       "<style scoped>\n",
       "    .dataframe tbody tr th:only-of-type {\n",
       "        vertical-align: middle;\n",
       "    }\n",
       "\n",
       "    .dataframe tbody tr th {\n",
       "        vertical-align: top;\n",
       "    }\n",
       "\n",
       "    .dataframe thead th {\n",
       "        text-align: right;\n",
       "    }\n",
       "</style>\n",
       "<table border=\"1\" class=\"dataframe\">\n",
       "  <thead>\n",
       "    <tr style=\"text-align: right;\">\n",
       "      <th></th>\n",
       "      <th>User review</th>\n",
       "      <th>Review date</th>\n",
       "      <th>Star review</th>\n",
       "      <th>Text length</th>\n",
       "      <th>Has media</th>\n",
       "      <th>Has answer</th>\n",
       "      <th>Written by bot</th>\n",
       "    </tr>\n",
       "  </thead>\n",
       "  <tbody>\n",
       "  </tbody>\n",
       "</table>\n",
       "</div>"
      ]
     },
     "execution_count": 26,
     "metadata": {},
     "output_type": "execute_result"
    }
   ],
   "execution_count": 26
  },
  {
   "metadata": {},
   "cell_type": "markdown",
   "source": "# Удаление знаков препинания",
   "id": "3e204024c65f3415"
  },
  {
   "metadata": {
    "ExecuteTime": {
     "end_time": "2024-12-03T17:13:59.875355Z",
     "start_time": "2024-12-03T17:13:59.850357Z"
    }
   },
   "cell_type": "code",
   "source": "df",
   "id": "708ba380118061a",
   "outputs": [
    {
     "data": {
      "text/plain": [
       "                                            User review Review date  \\\n",
       "0     [достоинство, всё, устроить, нормальный, демис...  2024-10-09   \n",
       "1     [шикарный, ,, начитаться, отзыв, ,, рискнуть, ...  2024-10-09   \n",
       "2                                  [дочка, понравиться]  2024-10-09   \n",
       "3               [пока, не, одевать, ,, то, что, хотеть]  2024-10-09   \n",
       "4                                    [отличный, куртка]  2024-10-09   \n",
       "...                                                 ...         ...   \n",
       "2356  [положить, не, то, ,, заменить, быстро, ., ост...  2024-11-08   \n",
       "2357  [шумный, ,, работать, ., не, идеально, ,, свой...  2024-11-10   \n",
       "2358  [коробка, грязный, ,, товар, как, новый, ., ус...  2024-11-12   \n",
       "2359  [болтик, не, место, ., быстро, поправить, ,, в...  2024-11-14   \n",
       "2360  [небольшой, огрех, отделка, ,, работать, норма...  2024-11-16   \n",
       "\n",
       "      Star review  Text length  Has media  Has answer  Written by bot  \n",
       "0               5           54          0           0               0  \n",
       "1               5          195          0           0               0  \n",
       "2               5           17          0           0               0  \n",
       "3               5           33          0           0               0  \n",
       "4               5           15          0           0               0  \n",
       "...           ...          ...        ...         ...             ...  \n",
       "2356            4           62          1           0               0  \n",
       "2357            4           58          0           1               0  \n",
       "2358            4           57          0           1               0  \n",
       "2359            5           65          1           0               0  \n",
       "2360            4           65          0           1               0  \n",
       "\n",
       "[2361 rows x 7 columns]"
      ],
      "text/html": [
       "<div>\n",
       "<style scoped>\n",
       "    .dataframe tbody tr th:only-of-type {\n",
       "        vertical-align: middle;\n",
       "    }\n",
       "\n",
       "    .dataframe tbody tr th {\n",
       "        vertical-align: top;\n",
       "    }\n",
       "\n",
       "    .dataframe thead th {\n",
       "        text-align: right;\n",
       "    }\n",
       "</style>\n",
       "<table border=\"1\" class=\"dataframe\">\n",
       "  <thead>\n",
       "    <tr style=\"text-align: right;\">\n",
       "      <th></th>\n",
       "      <th>User review</th>\n",
       "      <th>Review date</th>\n",
       "      <th>Star review</th>\n",
       "      <th>Text length</th>\n",
       "      <th>Has media</th>\n",
       "      <th>Has answer</th>\n",
       "      <th>Written by bot</th>\n",
       "    </tr>\n",
       "  </thead>\n",
       "  <tbody>\n",
       "    <tr>\n",
       "      <th>0</th>\n",
       "      <td>[достоинство, всё, устроить, нормальный, демис...</td>\n",
       "      <td>2024-10-09</td>\n",
       "      <td>5</td>\n",
       "      <td>54</td>\n",
       "      <td>0</td>\n",
       "      <td>0</td>\n",
       "      <td>0</td>\n",
       "    </tr>\n",
       "    <tr>\n",
       "      <th>1</th>\n",
       "      <td>[шикарный, ,, начитаться, отзыв, ,, рискнуть, ...</td>\n",
       "      <td>2024-10-09</td>\n",
       "      <td>5</td>\n",
       "      <td>195</td>\n",
       "      <td>0</td>\n",
       "      <td>0</td>\n",
       "      <td>0</td>\n",
       "    </tr>\n",
       "    <tr>\n",
       "      <th>2</th>\n",
       "      <td>[дочка, понравиться]</td>\n",
       "      <td>2024-10-09</td>\n",
       "      <td>5</td>\n",
       "      <td>17</td>\n",
       "      <td>0</td>\n",
       "      <td>0</td>\n",
       "      <td>0</td>\n",
       "    </tr>\n",
       "    <tr>\n",
       "      <th>3</th>\n",
       "      <td>[пока, не, одевать, ,, то, что, хотеть]</td>\n",
       "      <td>2024-10-09</td>\n",
       "      <td>5</td>\n",
       "      <td>33</td>\n",
       "      <td>0</td>\n",
       "      <td>0</td>\n",
       "      <td>0</td>\n",
       "    </tr>\n",
       "    <tr>\n",
       "      <th>4</th>\n",
       "      <td>[отличный, куртка]</td>\n",
       "      <td>2024-10-09</td>\n",
       "      <td>5</td>\n",
       "      <td>15</td>\n",
       "      <td>0</td>\n",
       "      <td>0</td>\n",
       "      <td>0</td>\n",
       "    </tr>\n",
       "    <tr>\n",
       "      <th>...</th>\n",
       "      <td>...</td>\n",
       "      <td>...</td>\n",
       "      <td>...</td>\n",
       "      <td>...</td>\n",
       "      <td>...</td>\n",
       "      <td>...</td>\n",
       "      <td>...</td>\n",
       "    </tr>\n",
       "    <tr>\n",
       "      <th>2356</th>\n",
       "      <td>[положить, не, то, ,, заменить, быстро, ., ост...</td>\n",
       "      <td>2024-11-08</td>\n",
       "      <td>4</td>\n",
       "      <td>62</td>\n",
       "      <td>1</td>\n",
       "      <td>0</td>\n",
       "      <td>0</td>\n",
       "    </tr>\n",
       "    <tr>\n",
       "      <th>2357</th>\n",
       "      <td>[шумный, ,, работать, ., не, идеально, ,, свой...</td>\n",
       "      <td>2024-11-10</td>\n",
       "      <td>4</td>\n",
       "      <td>58</td>\n",
       "      <td>0</td>\n",
       "      <td>1</td>\n",
       "      <td>0</td>\n",
       "    </tr>\n",
       "    <tr>\n",
       "      <th>2358</th>\n",
       "      <td>[коробка, грязный, ,, товар, как, новый, ., ус...</td>\n",
       "      <td>2024-11-12</td>\n",
       "      <td>4</td>\n",
       "      <td>57</td>\n",
       "      <td>0</td>\n",
       "      <td>1</td>\n",
       "      <td>0</td>\n",
       "    </tr>\n",
       "    <tr>\n",
       "      <th>2359</th>\n",
       "      <td>[болтик, не, место, ., быстро, поправить, ,, в...</td>\n",
       "      <td>2024-11-14</td>\n",
       "      <td>5</td>\n",
       "      <td>65</td>\n",
       "      <td>1</td>\n",
       "      <td>0</td>\n",
       "      <td>0</td>\n",
       "    </tr>\n",
       "    <tr>\n",
       "      <th>2360</th>\n",
       "      <td>[небольшой, огрех, отделка, ,, работать, норма...</td>\n",
       "      <td>2024-11-16</td>\n",
       "      <td>4</td>\n",
       "      <td>65</td>\n",
       "      <td>0</td>\n",
       "      <td>1</td>\n",
       "      <td>0</td>\n",
       "    </tr>\n",
       "  </tbody>\n",
       "</table>\n",
       "<p>2361 rows × 7 columns</p>\n",
       "</div>"
      ]
     },
     "execution_count": 82,
     "metadata": {},
     "output_type": "execute_result"
    }
   ],
   "execution_count": 82
  },
  {
   "metadata": {
    "ExecuteTime": {
     "end_time": "2024-12-03T17:14:01.534599Z",
     "start_time": "2024-12-03T17:14:01.515601Z"
    }
   },
   "cell_type": "code",
   "source": "exceptions_punctuation = {\"!\", \"?\", \"-\",}",
   "id": "b8df8e2b56ec52d7",
   "outputs": [],
   "execution_count": 83
  },
  {
   "metadata": {
    "ExecuteTime": {
     "end_time": "2024-12-03T17:14:02.185878Z",
     "start_time": "2024-12-03T17:14:02.160401Z"
    }
   },
   "cell_type": "code",
   "source": [
    "import string\n",
    "for tokens in reviews:\n",
    "    for token in tokens:\n",
    "        if token in string.punctuation and token not in exceptions_punctuation:\n",
    "            tokens.remove(token)"
   ],
   "id": "16c7aad6a5bff23f",
   "outputs": [],
   "execution_count": 84
  },
  {
   "metadata": {
    "ExecuteTime": {
     "end_time": "2024-12-03T17:14:02.690876Z",
     "start_time": "2024-12-03T17:14:02.678850Z"
    }
   },
   "cell_type": "code",
   "source": "reviews[1]",
   "id": "e5193cb6f6c504f4",
   "outputs": [
    {
     "data": {
      "text/plain": [
       "['шикарный',\n",
       " 'начитаться',\n",
       " 'отзыв',\n",
       " 'рискнуть',\n",
       " 'что',\n",
       " 'быть',\n",
       " 'после',\n",
       " 'стирка',\n",
       " 'время',\n",
       " 'показать',\n",
       " 'верх',\n",
       " 'покупать',\n",
       " '54',\n",
       " 'размер',\n",
       " 'этот',\n",
       " 'быть',\n",
       " 'и',\n",
       " '48',\n",
       " 'заказать',\n",
       " 'не',\n",
       " 'стать',\n",
       " 'взять',\n",
       " '50.спасибо',\n",
       " 'очень',\n",
       " 'понравиться']"
      ]
     },
     "execution_count": 85,
     "metadata": {},
     "output_type": "execute_result"
    }
   ],
   "execution_count": 85
  },
  {
   "metadata": {
    "ExecuteTime": {
     "end_time": "2024-12-03T17:14:06.900529Z",
     "start_time": "2024-12-03T17:14:06.886553Z"
    }
   },
   "cell_type": "code",
   "source": "df",
   "id": "ce447bf8f555b426",
   "outputs": [
    {
     "data": {
      "text/plain": [
       "                                            User review Review date  \\\n",
       "0     [достоинство, всё, устроить, нормальный, демис...  2024-10-09   \n",
       "1     [шикарный, начитаться, отзыв, рискнуть, что, б...  2024-10-09   \n",
       "2                                  [дочка, понравиться]  2024-10-09   \n",
       "3                  [пока, не, одевать, то, что, хотеть]  2024-10-09   \n",
       "4                                    [отличный, куртка]  2024-10-09   \n",
       "...                                                 ...         ...   \n",
       "2356  [положить, не, то, заменить, быстро, остаться,...  2024-11-08   \n",
       "2357  [шумный, работать, не, идеально, свой, функция...  2024-11-10   \n",
       "2358  [коробка, грязный, товар, как, новый, устраивать]  2024-11-12   \n",
       "2359  [болтик, не, место, быстро, поправить, всё, за...  2024-11-14   \n",
       "2360  [небольшой, огрех, отделка, работать, нормальн...  2024-11-16   \n",
       "\n",
       "      Star review  Text length  Has media  Has answer  Written by bot  \n",
       "0               5           54          0           0               0  \n",
       "1               5          195          0           0               0  \n",
       "2               5           17          0           0               0  \n",
       "3               5           33          0           0               0  \n",
       "4               5           15          0           0               0  \n",
       "...           ...          ...        ...         ...             ...  \n",
       "2356            4           62          1           0               0  \n",
       "2357            4           58          0           1               0  \n",
       "2358            4           57          0           1               0  \n",
       "2359            5           65          1           0               0  \n",
       "2360            4           65          0           1               0  \n",
       "\n",
       "[2361 rows x 7 columns]"
      ],
      "text/html": [
       "<div>\n",
       "<style scoped>\n",
       "    .dataframe tbody tr th:only-of-type {\n",
       "        vertical-align: middle;\n",
       "    }\n",
       "\n",
       "    .dataframe tbody tr th {\n",
       "        vertical-align: top;\n",
       "    }\n",
       "\n",
       "    .dataframe thead th {\n",
       "        text-align: right;\n",
       "    }\n",
       "</style>\n",
       "<table border=\"1\" class=\"dataframe\">\n",
       "  <thead>\n",
       "    <tr style=\"text-align: right;\">\n",
       "      <th></th>\n",
       "      <th>User review</th>\n",
       "      <th>Review date</th>\n",
       "      <th>Star review</th>\n",
       "      <th>Text length</th>\n",
       "      <th>Has media</th>\n",
       "      <th>Has answer</th>\n",
       "      <th>Written by bot</th>\n",
       "    </tr>\n",
       "  </thead>\n",
       "  <tbody>\n",
       "    <tr>\n",
       "      <th>0</th>\n",
       "      <td>[достоинство, всё, устроить, нормальный, демис...</td>\n",
       "      <td>2024-10-09</td>\n",
       "      <td>5</td>\n",
       "      <td>54</td>\n",
       "      <td>0</td>\n",
       "      <td>0</td>\n",
       "      <td>0</td>\n",
       "    </tr>\n",
       "    <tr>\n",
       "      <th>1</th>\n",
       "      <td>[шикарный, начитаться, отзыв, рискнуть, что, б...</td>\n",
       "      <td>2024-10-09</td>\n",
       "      <td>5</td>\n",
       "      <td>195</td>\n",
       "      <td>0</td>\n",
       "      <td>0</td>\n",
       "      <td>0</td>\n",
       "    </tr>\n",
       "    <tr>\n",
       "      <th>2</th>\n",
       "      <td>[дочка, понравиться]</td>\n",
       "      <td>2024-10-09</td>\n",
       "      <td>5</td>\n",
       "      <td>17</td>\n",
       "      <td>0</td>\n",
       "      <td>0</td>\n",
       "      <td>0</td>\n",
       "    </tr>\n",
       "    <tr>\n",
       "      <th>3</th>\n",
       "      <td>[пока, не, одевать, то, что, хотеть]</td>\n",
       "      <td>2024-10-09</td>\n",
       "      <td>5</td>\n",
       "      <td>33</td>\n",
       "      <td>0</td>\n",
       "      <td>0</td>\n",
       "      <td>0</td>\n",
       "    </tr>\n",
       "    <tr>\n",
       "      <th>4</th>\n",
       "      <td>[отличный, куртка]</td>\n",
       "      <td>2024-10-09</td>\n",
       "      <td>5</td>\n",
       "      <td>15</td>\n",
       "      <td>0</td>\n",
       "      <td>0</td>\n",
       "      <td>0</td>\n",
       "    </tr>\n",
       "    <tr>\n",
       "      <th>...</th>\n",
       "      <td>...</td>\n",
       "      <td>...</td>\n",
       "      <td>...</td>\n",
       "      <td>...</td>\n",
       "      <td>...</td>\n",
       "      <td>...</td>\n",
       "      <td>...</td>\n",
       "    </tr>\n",
       "    <tr>\n",
       "      <th>2356</th>\n",
       "      <td>[положить, не, то, заменить, быстро, остаться,...</td>\n",
       "      <td>2024-11-08</td>\n",
       "      <td>4</td>\n",
       "      <td>62</td>\n",
       "      <td>1</td>\n",
       "      <td>0</td>\n",
       "      <td>0</td>\n",
       "    </tr>\n",
       "    <tr>\n",
       "      <th>2357</th>\n",
       "      <td>[шумный, работать, не, идеально, свой, функция...</td>\n",
       "      <td>2024-11-10</td>\n",
       "      <td>4</td>\n",
       "      <td>58</td>\n",
       "      <td>0</td>\n",
       "      <td>1</td>\n",
       "      <td>0</td>\n",
       "    </tr>\n",
       "    <tr>\n",
       "      <th>2358</th>\n",
       "      <td>[коробка, грязный, товар, как, новый, устраивать]</td>\n",
       "      <td>2024-11-12</td>\n",
       "      <td>4</td>\n",
       "      <td>57</td>\n",
       "      <td>0</td>\n",
       "      <td>1</td>\n",
       "      <td>0</td>\n",
       "    </tr>\n",
       "    <tr>\n",
       "      <th>2359</th>\n",
       "      <td>[болтик, не, место, быстро, поправить, всё, за...</td>\n",
       "      <td>2024-11-14</td>\n",
       "      <td>5</td>\n",
       "      <td>65</td>\n",
       "      <td>1</td>\n",
       "      <td>0</td>\n",
       "      <td>0</td>\n",
       "    </tr>\n",
       "    <tr>\n",
       "      <th>2360</th>\n",
       "      <td>[небольшой, огрех, отделка, работать, нормальн...</td>\n",
       "      <td>2024-11-16</td>\n",
       "      <td>4</td>\n",
       "      <td>65</td>\n",
       "      <td>0</td>\n",
       "      <td>1</td>\n",
       "      <td>0</td>\n",
       "    </tr>\n",
       "  </tbody>\n",
       "</table>\n",
       "<p>2361 rows × 7 columns</p>\n",
       "</div>"
      ]
     },
     "execution_count": 86,
     "metadata": {},
     "output_type": "execute_result"
    }
   ],
   "execution_count": 86
  },
  {
   "metadata": {
    "ExecuteTime": {
     "end_time": "2024-12-03T17:15:09.725017Z",
     "start_time": "2024-12-03T17:15:09.710017Z"
    }
   },
   "cell_type": "code",
   "source": [
    "import json\n",
    "df['User review'] = df['User review'].apply(json.dumps)\n",
    "# df.to_csv(DIRECTORY_PATH + \"\\\\parser\\\\dataframes\\\\main_df.csv\")"
   ],
   "id": "5a774b56e229d9ed",
   "outputs": [],
   "execution_count": 90
  },
  {
   "metadata": {
    "ExecuteTime": {
     "end_time": "2024-12-03T17:16:15.991351Z",
     "start_time": "2024-12-03T17:16:15.949349Z"
    }
   },
   "cell_type": "code",
   "source": "df.to_csv(DIRECTORY_PATH + \"\\\\parser\\\\dataframes\\\\preprocessed_main_df.csv\")",
   "id": "a5d4156a599db5c1",
   "outputs": [],
   "execution_count": 93
  },
  {
   "metadata": {},
   "cell_type": "markdown",
   "source": "# Word2vec",
   "id": "6e91422f5efbd2ba"
  },
  {
   "metadata": {
    "ExecuteTime": {
     "end_time": "2024-11-26T07:47:36.634496Z",
     "start_time": "2024-11-26T07:47:36.617678Z"
    }
   },
   "cell_type": "code",
   "source": [
    "from gensim.models import Word2Vec\n",
    "import numpy as np"
   ],
   "id": "50345a2cb2937af3",
   "outputs": [],
   "execution_count": 105
  },
  {
   "metadata": {
    "ExecuteTime": {
     "end_time": "2024-11-26T07:47:37.292544Z",
     "start_time": "2024-11-26T07:47:37.277515Z"
    }
   },
   "cell_type": "code",
   "source": "reviews = df['User review'].values",
   "id": "1ee33138bbb390c2",
   "outputs": [],
   "execution_count": 106
  },
  {
   "metadata": {
    "ExecuteTime": {
     "end_time": "2024-11-26T07:47:38.201276Z",
     "start_time": "2024-11-26T07:47:38.117758Z"
    }
   },
   "cell_type": "code",
   "source": "w2v_model = Word2Vec(reviews, vector_size=100, window=5, min_count=5)",
   "id": "ff1b0047c2c4bec3",
   "outputs": [],
   "execution_count": 107
  },
  {
   "metadata": {
    "ExecuteTime": {
     "end_time": "2024-11-26T07:47:38.843511Z",
     "start_time": "2024-11-26T07:47:38.835513Z"
    }
   },
   "cell_type": "code",
   "source": [
    "def average_vector(words):\n",
    "    vectors = [w2v_model.wv[word] for word in words if word in w2v_model.wv]\n",
    "    return np.mean(vectors, axis=0) if vectors else np.zeros(w2v_model.vector_size)"
   ],
   "id": "64a11ec17bf2f41c",
   "outputs": [],
   "execution_count": 108
  },
  {
   "metadata": {
    "ExecuteTime": {
     "end_time": "2024-11-26T07:47:42.905629Z",
     "start_time": "2024-11-26T07:47:42.811867Z"
    }
   },
   "cell_type": "code",
   "source": "w2v_tokens = np.array([average_vector(review) for review in reviews])",
   "id": "c699cd22be71284f",
   "outputs": [],
   "execution_count": 109
  },
  {
   "metadata": {
    "ExecuteTime": {
     "end_time": "2024-11-26T07:47:51.164619Z",
     "start_time": "2024-11-26T07:47:51.149652Z"
    }
   },
   "cell_type": "code",
   "source": [
    "w2v_tokens = list(w2v_tokens)\n",
    "w2v_tokens[2]"
   ],
   "id": "f142868a7c887c27",
   "outputs": [
    {
     "data": {
      "text/plain": [
       "array([-0.04612122,  0.11718315,  0.01649446,  0.0543787 , -0.04682762,\n",
       "       -0.11455945,  0.16421551,  0.26186103, -0.12791742,  0.0077784 ,\n",
       "       -0.05633827, -0.17677437, -0.01455435,  0.02314905, -0.02153941,\n",
       "       -0.17986938,  0.02756198, -0.20791267, -0.02217137, -0.21976006,\n",
       "        0.1012333 ,  0.02699396,  0.02001366, -0.03488816, -0.15890279,\n",
       "        0.0110115 , -0.01287007, -0.07792283, -0.1284012 ,  0.00683488,\n",
       "        0.06537254,  0.0343569 ,  0.06823898, -0.0600824 , -0.05559168,\n",
       "        0.19915773,  0.07325562, -0.13573508, -0.07736397, -0.28328517,\n",
       "       -0.03767274, -0.1043028 , -0.0996253 , -0.01990337,  0.156551  ,\n",
       "       -0.05401017,  0.07758927, -0.01196121, -0.01267538,  0.04589195,\n",
       "        0.05726627, -0.06589441, -0.09850469,  0.05725837, -0.10803373,\n",
       "        0.04032636,  0.04778107, -0.06978061, -0.10344173, -0.0628664 ,\n",
       "        0.07948086,  0.04839541,  0.05068124, -0.11452334, -0.18453196,\n",
       "        0.11484912,  0.06188759,  0.21497148, -0.25196555,  0.15624359,\n",
       "       -0.06384127,  0.06864992,  0.08465376,  0.03025642,  0.13393834,\n",
       "        0.07961191, -0.06639045,  0.0082254 , -0.08501514,  0.05016945,\n",
       "       -0.04930999, -0.05125371, -0.1179207 ,  0.1923787 ,  0.01155861,\n",
       "        0.03594216,  0.02947016,  0.12095142,  0.12899527,  0.04538331,\n",
       "        0.12178879,  0.05101948,  0.00183987,  0.03193401,  0.25821027,\n",
       "        0.0684602 ,  0.05426865, -0.05874252,  0.02240361, -0.10744518])"
      ]
     },
     "execution_count": 110,
     "metadata": {},
     "output_type": "execute_result"
    }
   ],
   "execution_count": 110
  },
  {
   "metadata": {
    "ExecuteTime": {
     "end_time": "2024-11-26T07:47:57.414142Z",
     "start_time": "2024-11-26T07:47:57.407158Z"
    }
   },
   "cell_type": "code",
   "source": "df_with_w2v = df.copy()",
   "id": "438004d401226ed8",
   "outputs": [],
   "execution_count": 111
  },
  {
   "metadata": {
    "ExecuteTime": {
     "end_time": "2024-11-26T07:47:58.123316Z",
     "start_time": "2024-11-26T07:47:58.117317Z"
    }
   },
   "cell_type": "code",
   "source": "df_with_w2v['User review'] = w2v_tokens",
   "id": "8a83acf3ae84a1df",
   "outputs": [],
   "execution_count": 112
  },
  {
   "metadata": {
    "ExecuteTime": {
     "end_time": "2024-11-26T07:47:59.823195Z",
     "start_time": "2024-11-26T07:47:59.792196Z"
    }
   },
   "cell_type": "code",
   "source": "df_with_w2v",
   "id": "f31d41a74291aabb",
   "outputs": [
    {
     "data": {
      "text/plain": [
       "                                                                                                                                                                                                                                                                                                                                                                                                                                                                                                                                                                                                                                                                                                                                                                                                                                                                                                                                                                                                                                                                                                                                                                                                                                                                                                                                                                                                                                                                                                                                                                                                                                                                                                                                                                                                                                                                                                                                                                                                                                                                                                                                                                                                                                        User review  \\\n",
       "0                              [-0.08585548400878906, 0.20660124719142914, 0.023433558642864227, 0.08624326437711716, -0.07547663897275925, -0.2080652266740799, 0.2854746878147125, 0.48064735531806946, -0.2334539294242859, 0.033200204372406006, -0.11035361140966415, -0.3241851329803467, -0.025037579238414764, 0.04570283368229866, -0.02971101552248001, -0.31981125473976135, 0.049394380301237106, -0.3827534019947052, -0.04080386832356453, -0.40762555599212646, 0.1884344220161438, 0.04695170000195503, 0.04884855076670647, -0.04910433664917946, -0.2965357005596161, 0.007908105850219727, -0.024945678189396858, -0.1357840746641159, -0.2309187799692154, 0.03371197730302811, 0.1255950629711151, 0.04785183072090149, 0.13063234090805054, -0.10839894413948059, -0.09770458936691284, 0.3678239583969116, 0.12931273877620697, -0.24082909524440765, -0.14661391079425812, -0.5064155459403992, -0.05618971586227417, -0.18349246680736542, -0.16725830733776093, -0.024612901732325554, 0.27094969153404236, -0.09923689812421799, 0.131088986992836, -0.013334124349057674, -0.014771793968975544, 0.07539418339729309, 0.12087899446487427, -0.12309950590133667, -0.15897786617279053, 0.1071460023522377, -0.19526131451129913, 0.07374397665262222, 0.10199645161628723, -0.12915785610675812, -0.1960529088973999, -0.12177008390426636, 0.13176925480365753, 0.07792174816131592, 0.08286097645759583, -0.20167744159698486, -0.3203103244304657, 0.21456043422222137, 0.1277606040239334, 0.38726744055747986, -0.4583011567592621, 0.2843930423259735, -0.11585056781768799, 0.11257145553827286, 0.1499360203742981, 0.04613835737109184, 0.23891426622867584, 0.13535381853580475, -0.11367740482091904, 0.020542757585644722, -0.14969779551029205, 0.08627232909202576, -0.092864990234375, -0.07535137981176376, -0.21887408196926117, 0.3361797332763672, 0.02688724547624588, 0.07300104945898056, 0.05301085487008095, 0.23321957886219025, 0.23412497341632843, 0.0864759311079979, 0.22662122547626495, 0.09041305631399155, -0.006899859756231308, 0.04667709395289421, 0.4556443691253662, 0.12552402913570404, 0.09930742532014847, -0.10429340600967407, 0.05117453634738922, -0.19415710866451263]   \n",
       "1                       [-0.09014589339494705, 0.23172412812709808, 0.027079278603196144, 0.09392069280147552, -0.08178918808698654, -0.22995154559612274, 0.3158635199069977, 0.5262986421585083, -0.2518315017223358, 0.032550420612096786, -0.11937475204467773, -0.3596419095993042, -0.027017515152692795, 0.051203884184360504, -0.033788688480854034, -0.3535785675048828, 0.059373874217271805, -0.4158302843570709, -0.04691390320658684, -0.445740282535553, 0.20953477919101715, 0.05014871060848236, 0.04839109629392624, -0.054099347442388535, -0.3173254430294037, 0.014120727777481079, -0.029709676280617714, -0.1469123810529709, -0.2511301636695862, 0.026791458949446678, 0.13012966513633728, 0.05777904763817787, 0.14099721610546112, -0.12202714383602142, -0.10668785125017166, 0.3972330689430237, 0.14573904871940613, -0.26971715688705444, -0.16165681183338165, -0.5569629073143005, -0.06940680742263794, -0.19609053432941437, -0.18073953688144684, -0.030941426753997803, 0.2972557544708252, -0.11022710800170898, 0.14661836624145508, -0.016110695898532867, -0.017476020380854607, 0.0842936560511589, 0.1275443285703659, -0.13570162653923035, -0.17830020189285278, 0.11573224514722824, -0.21467198431491852, 0.07601826637983322, 0.10707272589206696, -0.13628046214580536, -0.21070896089076996, -0.12591856718063354, 0.14152361452579498, 0.08586424589157104, 0.09241179376840591, -0.21737326681613922, -0.3526521921157837, 0.23269478976726532, 0.1387319266796112, 0.4272657632827759, -0.5017070174217224, 0.3171674907207489, -0.12332720309495926, 0.13140621781349182, 0.16322281956672668, 0.048656657338142395, 0.25898057222366333, 0.14808879792690277, -0.12423612177371979, 0.01734873838722706, -0.16526509821414948, 0.09487037360668182, -0.10829802602529526, -0.08320111036300659, -0.24139779806137085, 0.3713938891887665, 0.02745189517736435, 0.08528434485197067, 0.06513034552335739, 0.2473083883523941, 0.25859585404396057, 0.09639820456504822, 0.23929278552532196, 0.09966827183961868, -0.0007580321398563683, 0.055305011570453644, 0.5051266551017761, 0.13864994049072266, 0.1110372245311737, -0.1159883439540863, 0.054197147488594055, -0.21394547820091248]   \n",
       "2     [-0.046121224761009216, 0.1171831488609314, 0.01649446412920952, 0.0543786957859993, -0.04682762175798416, -0.11455944925546646, 0.16421550512313843, 0.26186102628707886, -0.12791742384433746, 0.007778398226946592, -0.056338272988796234, -0.17677436769008636, -0.014554345980286598, 0.023149054497480392, -0.021539408713579178, -0.1798693835735321, 0.027561981230974197, -0.20791266858577728, -0.022171372547745705, -0.21976006031036377, 0.10123329609632492, 0.02699396386742592, 0.020013663917779922, -0.03488815948367119, -0.15890279412269592, 0.011011501774191856, -0.012870067730545998, -0.07792282849550247, -0.12840120494365692, 0.006834882311522961, 0.0653725415468216, 0.03435689955949783, 0.06823898106813431, -0.06008239835500717, -0.055591683834791183, 0.1991577297449112, 0.07325562089681625, -0.13573507964611053, -0.07736396789550781, -0.2832851707935333, -0.0376727432012558, -0.1043028011918068, -0.09962529689073563, -0.01990337297320366, 0.15655100345611572, -0.05401017144322395, 0.07758927345275879, -0.011961208656430244, -0.012675381265580654, 0.04589195176959038, 0.05726626515388489, -0.06589441001415253, -0.0985046923160553, 0.05725836753845215, -0.10803373157978058, 0.04032635688781738, 0.047781072556972504, -0.0697806105017662, -0.10344173014163971, -0.06286640465259552, 0.0794808566570282, 0.04839541018009186, 0.05068123713135719, -0.11452334374189377, -0.18453195691108704, 0.11484912037849426, 0.06188758835196495, 0.21497148275375366, -0.25196555256843567, 0.15624359250068665, -0.06384126842021942, 0.06864991784095764, 0.08465375751256943, 0.030256424099206924, 0.13393834233283997, 0.07961191236972809, -0.06639045476913452, 0.008225400932133198, -0.08501514047384262, 0.0501694530248642, -0.04930999130010605, -0.05125370994210243, -0.11792070418596268, 0.1923786997795105, 0.011558606289327145, 0.035942159593105316, 0.029470155015587807, 0.12095142155885696, 0.12899526953697205, 0.04538331180810928, 0.12178879231214523, 0.05101947858929634, 0.0018398688407614827, 0.03193401172757149, 0.25821027159690857, 0.06846019625663757, 0.05426865443587303, -0.058742523193359375, 0.02240360714495182, -0.10744518041610718]   \n",
       "3                                                   [-0.12741374969482422, 0.3173816204071045, 0.038346678018569946, 0.12713448703289032, -0.11446681618690491, -0.31997767090797424, 0.4392193555831909, 0.7422332763671875, -0.3509546220302582, 0.04573516547679901, -0.16805294156074524, -0.4989593029022217, -0.042147569358348846, 0.07494449615478516, -0.04612506181001663, -0.49602043628692627, 0.07992997020483017, -0.5784471035003662, -0.0720297172665596, -0.6203750371932983, 0.29171428084373474, 0.07107403129339218, 0.06972917169332504, -0.07954003661870956, -0.4428744912147522, 0.016831276938319206, -0.042333800345659256, -0.20709484815597534, -0.3514758348464966, 0.03733383119106293, 0.17942798137664795, 0.07959160208702087, 0.20002734661102295, -0.1698487102985382, -0.1474151611328125, 0.5497295260429382, 0.19809475541114807, -0.38069185614585876, -0.2302115559577942, -0.7761275768280029, -0.09829175472259521, -0.2704579830169678, -0.2575746774673462, -0.04375120624899864, 0.41689297556877136, -0.15206767618656158, 0.2029072344303131, -0.023316198959946632, -0.02707149274647236, 0.12287618219852448, 0.17961275577545166, -0.18961897492408752, -0.24882984161376953, 0.15877577662467957, -0.297973096370697, 0.10533168911933899, 0.14535769820213318, -0.19097451865673065, -0.29248788952827454, -0.1709880381822586, 0.199281707406044, 0.11836112290620804, 0.1288941651582718, -0.30853772163391113, -0.4859387278556824, 0.3270224928855896, 0.19533592462539673, 0.5929911136627197, -0.6999558210372925, 0.4418279230594635, -0.17061376571655273, 0.17637000977993011, 0.22559615969657898, 0.06325690448284149, 0.3643065094947815, 0.206629678606987, -0.16665801405906677, 0.022024262696504593, -0.2276657223701477, 0.12959744036197662, -0.1515370011329651, -0.11324145644903183, -0.3346177935600281, 0.5140239000320435, 0.03877800703048706, 0.11425776779651642, 0.09618629515171051, 0.34208789467811584, 0.3532203733921051, 0.13726726174354553, 0.33927011489868164, 0.13773643970489502, 0.00145124108530581, 0.07046553492546082, 0.7085832953453064, 0.194990336894989, 0.15640461444854736, -0.16380316019058228, 0.07598917186260223, -0.2953968346118927]   \n",
       "4                             [-0.07455594837665558, 0.2078394889831543, 0.023742184042930603, 0.08392767608165741, -0.07091277092695236, -0.2053082287311554, 0.28548699617385864, 0.47895747423171997, -0.2269248217344284, 0.029198430478572845, -0.10612444579601288, -0.3249433636665344, -0.02999717742204666, 0.04918765276670456, -0.028526678681373596, -0.31347352266311646, 0.056952621787786484, -0.3721422553062439, -0.040429405868053436, -0.40670931339263916, 0.18581713736057281, 0.04932830110192299, 0.05394723266363144, -0.051307372748851776, -0.2878475785255432, 0.013334233313798904, -0.02302958071231842, -0.13112103939056396, -0.22748996317386627, 0.028081800788640976, 0.1266273856163025, 0.049657873809337616, 0.13376452028751373, -0.10936713218688965, -0.10155201703310013, 0.3608895540237427, 0.1316128522157669, -0.2504763603210449, -0.14605702459812164, -0.5095625519752502, -0.061162322759628296, -0.1763184368610382, -0.16196316480636597, -0.027448907494544983, 0.2735670208930969, -0.08894336223602295, 0.1283167153596878, -0.025344332680106163, -0.015194088220596313, 0.07029026746749878, 0.11404110491275787, -0.12218435108661652, -0.16601264476776123, 0.10773694515228271, -0.198196679353714, 0.061186566948890686, 0.0985911637544632, -0.1245572417974472, -0.18985328078269958, -0.11652520298957825, 0.1286877691745758, 0.0780898928642273, 0.08118351548910141, -0.192671999335289, -0.320193350315094, 0.21582898497581482, 0.11929863691329956, 0.37969058752059937, -0.45286041498184204, 0.2804566025733948, -0.11871857196092606, 0.11494804918766022, 0.14064174890518188, 0.052944667637348175, 0.235930934548378, 0.12864945828914642, -0.11247701197862625, 0.016057051718235016, -0.15279801189899445, 0.08957314491271973, -0.09033282101154327, -0.07565253973007202, -0.21438667178153992, 0.33453822135925293, 0.02853686548769474, 0.0754069983959198, 0.06348790973424911, 0.22195155918598175, 0.22454333305358887, 0.085426926612854, 0.21909856796264648, 0.08575030416250229, -0.002111793262884021, 0.042812637984752655, 0.4586467444896698, 0.12435245513916016, 0.10542455315589905, -0.10947109758853912, 0.05127686262130737, -0.1935582160949707]   \n",
       "...                                                                                                                                                                                                                                                                                                                                                                                                                                                                                                                                                                                                                                                                                                                                                                                                                                                                                                                                                                                                                                                                                                                                                                                                                                                                                                                                                                                                                                                                                                                                                                                                                                                                                                                                                                                                                                                                                                                                                                                                                                                                                                                                                                                                                                             ...   \n",
       "1911                         [-0.09620238840579987, 0.23743446171283722, 0.025895744562149048, 0.09232380241155624, -0.08145518600940704, -0.23857755959033966, 0.320338636636734, 0.5426268577575684, -0.25914815068244934, 0.02845614030957222, -0.12299118936061859, -0.36601197719573975, -0.028910012915730476, 0.04905140772461891, -0.027860218659043312, -0.35882240533828735, 0.06203281879425049, -0.42431584000587463, -0.051683370023965836, -0.45560353994369507, 0.21078774333000183, 0.04951781406998634, 0.05286640301346779, -0.05992794781923294, -0.3274722695350647, 0.010454913601279259, -0.028074033558368683, -0.1555207520723343, -0.2545624375343323, 0.03183917701244354, 0.1410323977470398, 0.05408113822340965, 0.14596058428287506, -0.1250775158405304, -0.10942067205905914, 0.41206011176109314, 0.15124326944351196, -0.27186739444732666, -0.16808097064495087, -0.5670249462127686, -0.06704135984182358, -0.20115739107131958, -0.18681879341602325, -0.032710928469896317, 0.30278727412223816, -0.1080653965473175, 0.14383436739444733, -0.016066808253526688, -0.018065402284264565, 0.08610344678163528, 0.1312578171491623, -0.142148956656456, -0.1809045523405075, 0.120262511074543, -0.21874819695949554, 0.07907520979642868, 0.10892066359519958, -0.1395319402217865, -0.21628910303115845, -0.12887926399707794, 0.1490669995546341, 0.08985208719968796, 0.09525011479854584, -0.22887343168258667, -0.35489752888679504, 0.23708850145339966, 0.14434950053691864, 0.43326452374458313, -0.5129238367080688, 0.3209287226200104, -0.12881244719028473, 0.1318298876285553, 0.16991287469863892, 0.052113085985183716, 0.26687124371528625, 0.15292803943157196, -0.1298583447933197, 0.019812656566500664, -0.17213091254234314, 0.09493498504161835, -0.11112738400697708, -0.08416850864887238, -0.2462044358253479, 0.37215477228164673, 0.026271354407072067, 0.08616582304239273, 0.06427889317274094, 0.254992812871933, 0.2645728588104248, 0.09684132784605026, 0.24746350944042206, 0.10431020706892014, -0.0007073254091665149, 0.0532456673681736, 0.5195919871330261, 0.14187321066856384, 0.11473318189382553, -0.12359288334846497, 0.055525220930576324, -0.21836109459400177]   \n",
       "1912                [-0.0889783725142479, 0.22785240411758423, 0.025798533111810684, 0.09474728256464005, -0.07610851526260376, -0.22758416831493378, 0.30586618185043335, 0.5143290758132935, -0.24656857550144196, 0.031091637909412384, -0.11320994049310684, -0.35096412897109985, -0.030348241329193115, 0.055928561836481094, -0.029372207820415497, -0.33922481536865234, 0.0590519905090332, -0.3948096036911011, -0.04675900563597679, -0.4327544569969177, 0.19767025113105774, 0.049715638160705566, 0.050936322659254074, -0.058840956538915634, -0.3060125708580017, 0.011569294147193432, -0.03094681352376938, -0.1428675651550293, -0.24327319860458374, 0.026794595643877983, 0.13407756388187408, 0.051621049642562866, 0.1395166963338852, -0.11706886440515518, -0.10689560323953629, 0.3862137496471405, 0.14281219244003296, -0.2614254057407379, -0.15732792019844055, -0.536018967628479, -0.05691101402044296, -0.19539931416511536, -0.17807835340499878, -0.02885305881500244, 0.2875615358352661, -0.09740506112575531, 0.13653263449668884, -0.022296961396932602, -0.014512469060719013, 0.0812835693359375, 0.12172156572341919, -0.13698577880859375, -0.16994276642799377, 0.11956076323986053, -0.2063688188791275, 0.07752316445112228, 0.10499449819326401, -0.13221290707588196, -0.20429199934005737, -0.12088117748498917, 0.13733476400375366, 0.08088948577642441, 0.0881698727607727, -0.2124795764684677, -0.3343605399131775, 0.22702226042747498, 0.13511529564857483, 0.40621745586395264, -0.4835665822029114, 0.30939504504203796, -0.12517224252223969, 0.12008392810821533, 0.1598730981349945, 0.046612322330474854, 0.2559186518192291, 0.14399674534797668, -0.12116990983486176, 0.018252389505505562, -0.16038048267364502, 0.09204928576946259, -0.10787339508533478, -0.08027355372905731, -0.23494920134544373, 0.3544454872608185, 0.022070232778787613, 0.07837161421775818, 0.058321334421634674, 0.23655110597610474, 0.252735435962677, 0.09484053403139114, 0.23473049700260162, 0.09614252299070358, -0.0033259247429668903, 0.047336921095848083, 0.4868711531162262, 0.13808897137641907, 0.11391772329807281, -0.11174261569976807, 0.049908291548490524, -0.20209242403507233]   \n",
       "1913                                    [-0.09836278855800629, 0.24387583136558533, 0.030492732301354408, 0.09855302423238754, -0.08183490484952927, -0.24238455295562744, 0.33056098222732544, 0.5568769574165344, -0.26418358087539673, 0.02801254391670227, -0.12456879764795303, -0.37829259037971497, -0.02930571511387825, 0.04952426999807358, -0.03034595586359501, -0.3679395318031311, 0.06338655948638916, -0.4324207901954651, -0.05341022089123726, -0.4685141444206238, 0.2183891236782074, 0.05181719735264778, 0.05648975446820259, -0.06232837960124016, -0.33344465494155884, 0.01556848268955946, -0.029812362045049667, -0.1546628326177597, -0.26304447650909424, 0.0331866517663002, 0.14261464774608612, 0.05548498034477234, 0.1483970582485199, -0.132637619972229, -0.11149634420871735, 0.4188687205314636, 0.1525707244873047, -0.2790539562702179, -0.1733059585094452, -0.5790971517562866, -0.06636583060026169, -0.20477387309074402, -0.18981769680976868, -0.03138483688235283, 0.31294718384742737, -0.11345800012350082, 0.15026704967021942, -0.018810037523508072, -0.017414618283510208, 0.08943067491054535, 0.13515006005764008, -0.14442846179008484, -0.18476644158363342, 0.11879138648509979, -0.22638723254203796, 0.08433593809604645, 0.1122269406914711, -0.13754984736442566, -0.2203350067138672, -0.1283724009990692, 0.14684131741523743, 0.09580856561660767, 0.09659657627344131, -0.22982051968574524, -0.36807113885879517, 0.24676735699176788, 0.1470968872308731, 0.44617167115211487, -0.522627592086792, 0.328682005405426, -0.13090655207633972, 0.13101592659950256, 0.17346754670143127, 0.053128309547901154, 0.27429598569869995, 0.15449312329292297, -0.1275310069322586, 0.01883786730468273, -0.1751232147216797, 0.09855079650878906, -0.11887428909540176, -0.08221457153558731, -0.2538210451602936, 0.383888304233551, 0.030660858377814293, 0.08601432293653488, 0.06885793060064316, 0.261837899684906, 0.2716083228588104, 0.09777692705392838, 0.25117558240890503, 0.10681299865245819, -0.0024380332324653864, 0.053912609815597534, 0.5286334753036499, 0.14406439661979675, 0.11699870973825455, -0.12756159901618958, 0.0565837137401104, -0.22459657490253448]   \n",
       "1914                                   [-0.11850176751613617, 0.29709935188293457, 0.031056571751832962, 0.11467762291431427, -0.10065178573131561, -0.2877173125743866, 0.39626526832580566, 0.6638117432594299, -0.31576138734817505, 0.040768541395664215, -0.15032002329826355, -0.4520544409751892, -0.032790593802928925, 0.06150292232632637, -0.037847407162189484, -0.44692152738571167, 0.07647498697042465, -0.5253616571426392, -0.06243643909692764, -0.5580301284790039, 0.25753504037857056, 0.06576944887638092, 0.06177883595228195, -0.07181066274642944, -0.4046953618526459, 0.011117521673440933, -0.03809978440403938, -0.1926145851612091, -0.31850486993789673, 0.03514612838625908, 0.1696002036333084, 0.06562540680170059, 0.17490682005882263, -0.15806905925273895, -0.13532695174217224, 0.5038235187530518, 0.18062883615493774, -0.33908528089523315, -0.20257118344306946, -0.7011000514030457, -0.08411548286676407, -0.24103140830993652, -0.22846904397010803, -0.035685062408447266, 0.3737719655036926, -0.13621845841407776, 0.18098393082618713, -0.021856624633073807, -0.01739339902997017, 0.10713882744312286, 0.16208215057849884, -0.17606785893440247, -0.2210405170917511, 0.14819760620594025, -0.2683061361312866, 0.10179410129785538, 0.1346503049135208, -0.16668985784053802, -0.2659945487976074, -0.16301514208316803, 0.178623229265213, 0.11087040603160858, 0.11579462140798569, -0.27833110094070435, -0.4362635016441345, 0.2925593852996826, 0.16886664927005768, 0.5316655039787292, -0.6295633316040039, 0.3876284956932068, -0.15362592041492462, 0.15991249680519104, 0.20797976851463318, 0.06366070359945297, 0.3249468505382538, 0.1877608597278595, -0.1558813750743866, 0.025328218936920166, -0.20848993957042694, 0.11662685871124268, -0.1402970254421234, -0.10227073729038239, -0.30190354585647583, 0.45771902799606323, 0.03356151282787323, 0.10081617534160614, 0.08107436448335648, 0.3128746747970581, 0.3252537250518799, 0.11948518455028534, 0.3053983747959137, 0.12803547084331512, -0.008240637369453907, 0.06679064780473709, 0.633811354637146, 0.1741255819797516, 0.14119559526443481, -0.14360570907592773, 0.07260018587112427, -0.26973891258239746]   \n",
       "1915                 [-0.07523337006568909, 0.17383617162704468, 0.022410476580262184, 0.06298311799764633, -0.06256181001663208, -0.18052557110786438, 0.236481174826622, 0.40777358412742615, -0.19322240352630615, 0.01579180173575878, -0.09235755354166031, -0.2733868360519409, -0.024139005690813065, 0.032808657735586166, -0.025653652846813202, -0.2681993842124939, 0.04237136244773865, -0.3170248866081238, -0.03718998283147812, -0.33683454990386963, 0.15650293231010437, 0.03989043086767197, 0.03764880448579788, -0.043130695819854736, -0.24196261167526245, 0.0071348827332258224, -0.02063259668648243, -0.12101306021213531, -0.18846476078033447, 0.024596255272626877, 0.1009976714849472, 0.038868777453899384, 0.10793585330247879, -0.10059495270252228, -0.08342041075229645, 0.30844032764434814, 0.10963621735572815, -0.20073896646499634, -0.1213994026184082, -0.4234824776649475, -0.05337103083729744, -0.1515636295080185, -0.13497792184352875, -0.026128992438316345, 0.22819474339485168, -0.08433129638433456, 0.10843966156244278, -0.008838647976517677, -0.01492236740887165, 0.06545089185237885, 0.0965338796377182, -0.10644002258777618, -0.12957602739334106, 0.09129121899604797, -0.16261842846870422, 0.05686143785715103, 0.0806083232164383, -0.10350656509399414, -0.16116207838058472, -0.09694559872150421, 0.1127275675535202, 0.06761346757411957, 0.07218809425830841, -0.16848257184028625, -0.2662632465362549, 0.1787988245487213, 0.10945019125938416, 0.3256356120109558, -0.3773270845413208, 0.24320316314697266, -0.09499410539865494, 0.10072280466556549, 0.12870872020721436, 0.03917329013347626, 0.20036551356315613, 0.11509829759597778, -0.09258276224136353, 0.013354459777474403, -0.12723222374916077, 0.07386642694473267, -0.08227988332509995, -0.06123238056898117, -0.18001139163970947, 0.2748815417289734, 0.02032599411904812, 0.06144735962152481, 0.04448605701327324, 0.19132643938064575, 0.18953321874141693, 0.07563702017068863, 0.18188899755477905, 0.08134488761425018, 0.0008662263862788677, 0.04363381117582321, 0.3859400749206543, 0.10350284725427628, 0.07989384233951569, -0.09385864436626434, 0.04216942936182022, -0.16364896297454834]   \n",
       "\n",
       "     Review date  Star review  Text length  Has media  Has answer  \\\n",
       "0     2024-10-09            5           54          0           0   \n",
       "1     2024-10-09            5          195          0           0   \n",
       "2     2024-10-09            5           17          0           0   \n",
       "3     2024-10-09            5           33          0           0   \n",
       "4     2024-10-09            5           15          0           0   \n",
       "...          ...          ...          ...        ...         ...   \n",
       "1911  2024-11-03            5           55          1           1   \n",
       "1912  2024-11-02            5           56          0           0   \n",
       "1913  2024-11-01            5           57          1           1   \n",
       "1914  2024-10-31            5           57          1           0   \n",
       "1915  2024-10-30            5           61          0           0   \n",
       "\n",
       "     Written by bot  \n",
       "0                 0  \n",
       "1                 0  \n",
       "2                 0  \n",
       "3                 0  \n",
       "4                 0  \n",
       "...             ...  \n",
       "1911              1  \n",
       "1912              1  \n",
       "1913              1  \n",
       "1914              1  \n",
       "1915              1  \n",
       "\n",
       "[1916 rows x 7 columns]"
      ],
      "text/html": [
       "<div>\n",
       "<style scoped>\n",
       "    .dataframe tbody tr th:only-of-type {\n",
       "        vertical-align: middle;\n",
       "    }\n",
       "\n",
       "    .dataframe tbody tr th {\n",
       "        vertical-align: top;\n",
       "    }\n",
       "\n",
       "    .dataframe thead th {\n",
       "        text-align: right;\n",
       "    }\n",
       "</style>\n",
       "<table border=\"1\" class=\"dataframe\">\n",
       "  <thead>\n",
       "    <tr style=\"text-align: right;\">\n",
       "      <th></th>\n",
       "      <th>User review</th>\n",
       "      <th>Review date</th>\n",
       "      <th>Star review</th>\n",
       "      <th>Text length</th>\n",
       "      <th>Has media</th>\n",
       "      <th>Has answer</th>\n",
       "      <th>Written by bot</th>\n",
       "    </tr>\n",
       "  </thead>\n",
       "  <tbody>\n",
       "    <tr>\n",
       "      <th>0</th>\n",
       "      <td>[-0.08585548400878906, 0.20660124719142914, 0.023433558642864227, 0.08624326437711716, -0.07547663897275925, -0.2080652266740799, 0.2854746878147125, 0.48064735531806946, -0.2334539294242859, 0.033200204372406006, -0.11035361140966415, -0.3241851329803467, -0.025037579238414764, 0.04570283368229866, -0.02971101552248001, -0.31981125473976135, 0.049394380301237106, -0.3827534019947052, -0.04080386832356453, -0.40762555599212646, 0.1884344220161438, 0.04695170000195503, 0.04884855076670647, -0.04910433664917946, -0.2965357005596161, 0.007908105850219727, -0.024945678189396858, -0.1357840746641159, -0.2309187799692154, 0.03371197730302811, 0.1255950629711151, 0.04785183072090149, 0.13063234090805054, -0.10839894413948059, -0.09770458936691284, 0.3678239583969116, 0.12931273877620697, -0.24082909524440765, -0.14661391079425812, -0.5064155459403992, -0.05618971586227417, -0.18349246680736542, -0.16725830733776093, -0.024612901732325554, 0.27094969153404236, -0.09923689812421799, 0.131088986992836, -0.013334124349057674, -0.014771793968975544, 0.07539418339729309, 0.12087899446487427, -0.12309950590133667, -0.15897786617279053, 0.1071460023522377, -0.19526131451129913, 0.07374397665262222, 0.10199645161628723, -0.12915785610675812, -0.1960529088973999, -0.12177008390426636, 0.13176925480365753, 0.07792174816131592, 0.08286097645759583, -0.20167744159698486, -0.3203103244304657, 0.21456043422222137, 0.1277606040239334, 0.38726744055747986, -0.4583011567592621, 0.2843930423259735, -0.11585056781768799, 0.11257145553827286, 0.1499360203742981, 0.04613835737109184, 0.23891426622867584, 0.13535381853580475, -0.11367740482091904, 0.020542757585644722, -0.14969779551029205, 0.08627232909202576, -0.092864990234375, -0.07535137981176376, -0.21887408196926117, 0.3361797332763672, 0.02688724547624588, 0.07300104945898056, 0.05301085487008095, 0.23321957886219025, 0.23412497341632843, 0.0864759311079979, 0.22662122547626495, 0.09041305631399155, -0.006899859756231308, 0.04667709395289421, 0.4556443691253662, 0.12552402913570404, 0.09930742532014847, -0.10429340600967407, 0.05117453634738922, -0.19415710866451263]</td>\n",
       "      <td>2024-10-09</td>\n",
       "      <td>5</td>\n",
       "      <td>54</td>\n",
       "      <td>0</td>\n",
       "      <td>0</td>\n",
       "      <td>0</td>\n",
       "    </tr>\n",
       "    <tr>\n",
       "      <th>1</th>\n",
       "      <td>[-0.09014589339494705, 0.23172412812709808, 0.027079278603196144, 0.09392069280147552, -0.08178918808698654, -0.22995154559612274, 0.3158635199069977, 0.5262986421585083, -0.2518315017223358, 0.032550420612096786, -0.11937475204467773, -0.3596419095993042, -0.027017515152692795, 0.051203884184360504, -0.033788688480854034, -0.3535785675048828, 0.059373874217271805, -0.4158302843570709, -0.04691390320658684, -0.445740282535553, 0.20953477919101715, 0.05014871060848236, 0.04839109629392624, -0.054099347442388535, -0.3173254430294037, 0.014120727777481079, -0.029709676280617714, -0.1469123810529709, -0.2511301636695862, 0.026791458949446678, 0.13012966513633728, 0.05777904763817787, 0.14099721610546112, -0.12202714383602142, -0.10668785125017166, 0.3972330689430237, 0.14573904871940613, -0.26971715688705444, -0.16165681183338165, -0.5569629073143005, -0.06940680742263794, -0.19609053432941437, -0.18073953688144684, -0.030941426753997803, 0.2972557544708252, -0.11022710800170898, 0.14661836624145508, -0.016110695898532867, -0.017476020380854607, 0.0842936560511589, 0.1275443285703659, -0.13570162653923035, -0.17830020189285278, 0.11573224514722824, -0.21467198431491852, 0.07601826637983322, 0.10707272589206696, -0.13628046214580536, -0.21070896089076996, -0.12591856718063354, 0.14152361452579498, 0.08586424589157104, 0.09241179376840591, -0.21737326681613922, -0.3526521921157837, 0.23269478976726532, 0.1387319266796112, 0.4272657632827759, -0.5017070174217224, 0.3171674907207489, -0.12332720309495926, 0.13140621781349182, 0.16322281956672668, 0.048656657338142395, 0.25898057222366333, 0.14808879792690277, -0.12423612177371979, 0.01734873838722706, -0.16526509821414948, 0.09487037360668182, -0.10829802602529526, -0.08320111036300659, -0.24139779806137085, 0.3713938891887665, 0.02745189517736435, 0.08528434485197067, 0.06513034552335739, 0.2473083883523941, 0.25859585404396057, 0.09639820456504822, 0.23929278552532196, 0.09966827183961868, -0.0007580321398563683, 0.055305011570453644, 0.5051266551017761, 0.13864994049072266, 0.1110372245311737, -0.1159883439540863, 0.054197147488594055, -0.21394547820091248]</td>\n",
       "      <td>2024-10-09</td>\n",
       "      <td>5</td>\n",
       "      <td>195</td>\n",
       "      <td>0</td>\n",
       "      <td>0</td>\n",
       "      <td>0</td>\n",
       "    </tr>\n",
       "    <tr>\n",
       "      <th>2</th>\n",
       "      <td>[-0.046121224761009216, 0.1171831488609314, 0.01649446412920952, 0.0543786957859993, -0.04682762175798416, -0.11455944925546646, 0.16421550512313843, 0.26186102628707886, -0.12791742384433746, 0.007778398226946592, -0.056338272988796234, -0.17677436769008636, -0.014554345980286598, 0.023149054497480392, -0.021539408713579178, -0.1798693835735321, 0.027561981230974197, -0.20791266858577728, -0.022171372547745705, -0.21976006031036377, 0.10123329609632492, 0.02699396386742592, 0.020013663917779922, -0.03488815948367119, -0.15890279412269592, 0.011011501774191856, -0.012870067730545998, -0.07792282849550247, -0.12840120494365692, 0.006834882311522961, 0.0653725415468216, 0.03435689955949783, 0.06823898106813431, -0.06008239835500717, -0.055591683834791183, 0.1991577297449112, 0.07325562089681625, -0.13573507964611053, -0.07736396789550781, -0.2832851707935333, -0.0376727432012558, -0.1043028011918068, -0.09962529689073563, -0.01990337297320366, 0.15655100345611572, -0.05401017144322395, 0.07758927345275879, -0.011961208656430244, -0.012675381265580654, 0.04589195176959038, 0.05726626515388489, -0.06589441001415253, -0.0985046923160553, 0.05725836753845215, -0.10803373157978058, 0.04032635688781738, 0.047781072556972504, -0.0697806105017662, -0.10344173014163971, -0.06286640465259552, 0.0794808566570282, 0.04839541018009186, 0.05068123713135719, -0.11452334374189377, -0.18453195691108704, 0.11484912037849426, 0.06188758835196495, 0.21497148275375366, -0.25196555256843567, 0.15624359250068665, -0.06384126842021942, 0.06864991784095764, 0.08465375751256943, 0.030256424099206924, 0.13393834233283997, 0.07961191236972809, -0.06639045476913452, 0.008225400932133198, -0.08501514047384262, 0.0501694530248642, -0.04930999130010605, -0.05125370994210243, -0.11792070418596268, 0.1923786997795105, 0.011558606289327145, 0.035942159593105316, 0.029470155015587807, 0.12095142155885696, 0.12899526953697205, 0.04538331180810928, 0.12178879231214523, 0.05101947858929634, 0.0018398688407614827, 0.03193401172757149, 0.25821027159690857, 0.06846019625663757, 0.05426865443587303, -0.058742523193359375, 0.02240360714495182, -0.10744518041610718]</td>\n",
       "      <td>2024-10-09</td>\n",
       "      <td>5</td>\n",
       "      <td>17</td>\n",
       "      <td>0</td>\n",
       "      <td>0</td>\n",
       "      <td>0</td>\n",
       "    </tr>\n",
       "    <tr>\n",
       "      <th>3</th>\n",
       "      <td>[-0.12741374969482422, 0.3173816204071045, 0.038346678018569946, 0.12713448703289032, -0.11446681618690491, -0.31997767090797424, 0.4392193555831909, 0.7422332763671875, -0.3509546220302582, 0.04573516547679901, -0.16805294156074524, -0.4989593029022217, -0.042147569358348846, 0.07494449615478516, -0.04612506181001663, -0.49602043628692627, 0.07992997020483017, -0.5784471035003662, -0.0720297172665596, -0.6203750371932983, 0.29171428084373474, 0.07107403129339218, 0.06972917169332504, -0.07954003661870956, -0.4428744912147522, 0.016831276938319206, -0.042333800345659256, -0.20709484815597534, -0.3514758348464966, 0.03733383119106293, 0.17942798137664795, 0.07959160208702087, 0.20002734661102295, -0.1698487102985382, -0.1474151611328125, 0.5497295260429382, 0.19809475541114807, -0.38069185614585876, -0.2302115559577942, -0.7761275768280029, -0.09829175472259521, -0.2704579830169678, -0.2575746774673462, -0.04375120624899864, 0.41689297556877136, -0.15206767618656158, 0.2029072344303131, -0.023316198959946632, -0.02707149274647236, 0.12287618219852448, 0.17961275577545166, -0.18961897492408752, -0.24882984161376953, 0.15877577662467957, -0.297973096370697, 0.10533168911933899, 0.14535769820213318, -0.19097451865673065, -0.29248788952827454, -0.1709880381822586, 0.199281707406044, 0.11836112290620804, 0.1288941651582718, -0.30853772163391113, -0.4859387278556824, 0.3270224928855896, 0.19533592462539673, 0.5929911136627197, -0.6999558210372925, 0.4418279230594635, -0.17061376571655273, 0.17637000977993011, 0.22559615969657898, 0.06325690448284149, 0.3643065094947815, 0.206629678606987, -0.16665801405906677, 0.022024262696504593, -0.2276657223701477, 0.12959744036197662, -0.1515370011329651, -0.11324145644903183, -0.3346177935600281, 0.5140239000320435, 0.03877800703048706, 0.11425776779651642, 0.09618629515171051, 0.34208789467811584, 0.3532203733921051, 0.13726726174354553, 0.33927011489868164, 0.13773643970489502, 0.00145124108530581, 0.07046553492546082, 0.7085832953453064, 0.194990336894989, 0.15640461444854736, -0.16380316019058228, 0.07598917186260223, -0.2953968346118927]</td>\n",
       "      <td>2024-10-09</td>\n",
       "      <td>5</td>\n",
       "      <td>33</td>\n",
       "      <td>0</td>\n",
       "      <td>0</td>\n",
       "      <td>0</td>\n",
       "    </tr>\n",
       "    <tr>\n",
       "      <th>4</th>\n",
       "      <td>[-0.07455594837665558, 0.2078394889831543, 0.023742184042930603, 0.08392767608165741, -0.07091277092695236, -0.2053082287311554, 0.28548699617385864, 0.47895747423171997, -0.2269248217344284, 0.029198430478572845, -0.10612444579601288, -0.3249433636665344, -0.02999717742204666, 0.04918765276670456, -0.028526678681373596, -0.31347352266311646, 0.056952621787786484, -0.3721422553062439, -0.040429405868053436, -0.40670931339263916, 0.18581713736057281, 0.04932830110192299, 0.05394723266363144, -0.051307372748851776, -0.2878475785255432, 0.013334233313798904, -0.02302958071231842, -0.13112103939056396, -0.22748996317386627, 0.028081800788640976, 0.1266273856163025, 0.049657873809337616, 0.13376452028751373, -0.10936713218688965, -0.10155201703310013, 0.3608895540237427, 0.1316128522157669, -0.2504763603210449, -0.14605702459812164, -0.5095625519752502, -0.061162322759628296, -0.1763184368610382, -0.16196316480636597, -0.027448907494544983, 0.2735670208930969, -0.08894336223602295, 0.1283167153596878, -0.025344332680106163, -0.015194088220596313, 0.07029026746749878, 0.11404110491275787, -0.12218435108661652, -0.16601264476776123, 0.10773694515228271, -0.198196679353714, 0.061186566948890686, 0.0985911637544632, -0.1245572417974472, -0.18985328078269958, -0.11652520298957825, 0.1286877691745758, 0.0780898928642273, 0.08118351548910141, -0.192671999335289, -0.320193350315094, 0.21582898497581482, 0.11929863691329956, 0.37969058752059937, -0.45286041498184204, 0.2804566025733948, -0.11871857196092606, 0.11494804918766022, 0.14064174890518188, 0.052944667637348175, 0.235930934548378, 0.12864945828914642, -0.11247701197862625, 0.016057051718235016, -0.15279801189899445, 0.08957314491271973, -0.09033282101154327, -0.07565253973007202, -0.21438667178153992, 0.33453822135925293, 0.02853686548769474, 0.0754069983959198, 0.06348790973424911, 0.22195155918598175, 0.22454333305358887, 0.085426926612854, 0.21909856796264648, 0.08575030416250229, -0.002111793262884021, 0.042812637984752655, 0.4586467444896698, 0.12435245513916016, 0.10542455315589905, -0.10947109758853912, 0.05127686262130737, -0.1935582160949707]</td>\n",
       "      <td>2024-10-09</td>\n",
       "      <td>5</td>\n",
       "      <td>15</td>\n",
       "      <td>0</td>\n",
       "      <td>0</td>\n",
       "      <td>0</td>\n",
       "    </tr>\n",
       "    <tr>\n",
       "      <th>...</th>\n",
       "      <td>...</td>\n",
       "      <td>...</td>\n",
       "      <td>...</td>\n",
       "      <td>...</td>\n",
       "      <td>...</td>\n",
       "      <td>...</td>\n",
       "      <td>...</td>\n",
       "    </tr>\n",
       "    <tr>\n",
       "      <th>1911</th>\n",
       "      <td>[-0.09620238840579987, 0.23743446171283722, 0.025895744562149048, 0.09232380241155624, -0.08145518600940704, -0.23857755959033966, 0.320338636636734, 0.5426268577575684, -0.25914815068244934, 0.02845614030957222, -0.12299118936061859, -0.36601197719573975, -0.028910012915730476, 0.04905140772461891, -0.027860218659043312, -0.35882240533828735, 0.06203281879425049, -0.42431584000587463, -0.051683370023965836, -0.45560353994369507, 0.21078774333000183, 0.04951781406998634, 0.05286640301346779, -0.05992794781923294, -0.3274722695350647, 0.010454913601279259, -0.028074033558368683, -0.1555207520723343, -0.2545624375343323, 0.03183917701244354, 0.1410323977470398, 0.05408113822340965, 0.14596058428287506, -0.1250775158405304, -0.10942067205905914, 0.41206011176109314, 0.15124326944351196, -0.27186739444732666, -0.16808097064495087, -0.5670249462127686, -0.06704135984182358, -0.20115739107131958, -0.18681879341602325, -0.032710928469896317, 0.30278727412223816, -0.1080653965473175, 0.14383436739444733, -0.016066808253526688, -0.018065402284264565, 0.08610344678163528, 0.1312578171491623, -0.142148956656456, -0.1809045523405075, 0.120262511074543, -0.21874819695949554, 0.07907520979642868, 0.10892066359519958, -0.1395319402217865, -0.21628910303115845, -0.12887926399707794, 0.1490669995546341, 0.08985208719968796, 0.09525011479854584, -0.22887343168258667, -0.35489752888679504, 0.23708850145339966, 0.14434950053691864, 0.43326452374458313, -0.5129238367080688, 0.3209287226200104, -0.12881244719028473, 0.1318298876285553, 0.16991287469863892, 0.052113085985183716, 0.26687124371528625, 0.15292803943157196, -0.1298583447933197, 0.019812656566500664, -0.17213091254234314, 0.09493498504161835, -0.11112738400697708, -0.08416850864887238, -0.2462044358253479, 0.37215477228164673, 0.026271354407072067, 0.08616582304239273, 0.06427889317274094, 0.254992812871933, 0.2645728588104248, 0.09684132784605026, 0.24746350944042206, 0.10431020706892014, -0.0007073254091665149, 0.0532456673681736, 0.5195919871330261, 0.14187321066856384, 0.11473318189382553, -0.12359288334846497, 0.055525220930576324, -0.21836109459400177]</td>\n",
       "      <td>2024-11-03</td>\n",
       "      <td>5</td>\n",
       "      <td>55</td>\n",
       "      <td>1</td>\n",
       "      <td>1</td>\n",
       "      <td>1</td>\n",
       "    </tr>\n",
       "    <tr>\n",
       "      <th>1912</th>\n",
       "      <td>[-0.0889783725142479, 0.22785240411758423, 0.025798533111810684, 0.09474728256464005, -0.07610851526260376, -0.22758416831493378, 0.30586618185043335, 0.5143290758132935, -0.24656857550144196, 0.031091637909412384, -0.11320994049310684, -0.35096412897109985, -0.030348241329193115, 0.055928561836481094, -0.029372207820415497, -0.33922481536865234, 0.0590519905090332, -0.3948096036911011, -0.04675900563597679, -0.4327544569969177, 0.19767025113105774, 0.049715638160705566, 0.050936322659254074, -0.058840956538915634, -0.3060125708580017, 0.011569294147193432, -0.03094681352376938, -0.1428675651550293, -0.24327319860458374, 0.026794595643877983, 0.13407756388187408, 0.051621049642562866, 0.1395166963338852, -0.11706886440515518, -0.10689560323953629, 0.3862137496471405, 0.14281219244003296, -0.2614254057407379, -0.15732792019844055, -0.536018967628479, -0.05691101402044296, -0.19539931416511536, -0.17807835340499878, -0.02885305881500244, 0.2875615358352661, -0.09740506112575531, 0.13653263449668884, -0.022296961396932602, -0.014512469060719013, 0.0812835693359375, 0.12172156572341919, -0.13698577880859375, -0.16994276642799377, 0.11956076323986053, -0.2063688188791275, 0.07752316445112228, 0.10499449819326401, -0.13221290707588196, -0.20429199934005737, -0.12088117748498917, 0.13733476400375366, 0.08088948577642441, 0.0881698727607727, -0.2124795764684677, -0.3343605399131775, 0.22702226042747498, 0.13511529564857483, 0.40621745586395264, -0.4835665822029114, 0.30939504504203796, -0.12517224252223969, 0.12008392810821533, 0.1598730981349945, 0.046612322330474854, 0.2559186518192291, 0.14399674534797668, -0.12116990983486176, 0.018252389505505562, -0.16038048267364502, 0.09204928576946259, -0.10787339508533478, -0.08027355372905731, -0.23494920134544373, 0.3544454872608185, 0.022070232778787613, 0.07837161421775818, 0.058321334421634674, 0.23655110597610474, 0.252735435962677, 0.09484053403139114, 0.23473049700260162, 0.09614252299070358, -0.0033259247429668903, 0.047336921095848083, 0.4868711531162262, 0.13808897137641907, 0.11391772329807281, -0.11174261569976807, 0.049908291548490524, -0.20209242403507233]</td>\n",
       "      <td>2024-11-02</td>\n",
       "      <td>5</td>\n",
       "      <td>56</td>\n",
       "      <td>0</td>\n",
       "      <td>0</td>\n",
       "      <td>1</td>\n",
       "    </tr>\n",
       "    <tr>\n",
       "      <th>1913</th>\n",
       "      <td>[-0.09836278855800629, 0.24387583136558533, 0.030492732301354408, 0.09855302423238754, -0.08183490484952927, -0.24238455295562744, 0.33056098222732544, 0.5568769574165344, -0.26418358087539673, 0.02801254391670227, -0.12456879764795303, -0.37829259037971497, -0.02930571511387825, 0.04952426999807358, -0.03034595586359501, -0.3679395318031311, 0.06338655948638916, -0.4324207901954651, -0.05341022089123726, -0.4685141444206238, 0.2183891236782074, 0.05181719735264778, 0.05648975446820259, -0.06232837960124016, -0.33344465494155884, 0.01556848268955946, -0.029812362045049667, -0.1546628326177597, -0.26304447650909424, 0.0331866517663002, 0.14261464774608612, 0.05548498034477234, 0.1483970582485199, -0.132637619972229, -0.11149634420871735, 0.4188687205314636, 0.1525707244873047, -0.2790539562702179, -0.1733059585094452, -0.5790971517562866, -0.06636583060026169, -0.20477387309074402, -0.18981769680976868, -0.03138483688235283, 0.31294718384742737, -0.11345800012350082, 0.15026704967021942, -0.018810037523508072, -0.017414618283510208, 0.08943067491054535, 0.13515006005764008, -0.14442846179008484, -0.18476644158363342, 0.11879138648509979, -0.22638723254203796, 0.08433593809604645, 0.1122269406914711, -0.13754984736442566, -0.2203350067138672, -0.1283724009990692, 0.14684131741523743, 0.09580856561660767, 0.09659657627344131, -0.22982051968574524, -0.36807113885879517, 0.24676735699176788, 0.1470968872308731, 0.44617167115211487, -0.522627592086792, 0.328682005405426, -0.13090655207633972, 0.13101592659950256, 0.17346754670143127, 0.053128309547901154, 0.27429598569869995, 0.15449312329292297, -0.1275310069322586, 0.01883786730468273, -0.1751232147216797, 0.09855079650878906, -0.11887428909540176, -0.08221457153558731, -0.2538210451602936, 0.383888304233551, 0.030660858377814293, 0.08601432293653488, 0.06885793060064316, 0.261837899684906, 0.2716083228588104, 0.09777692705392838, 0.25117558240890503, 0.10681299865245819, -0.0024380332324653864, 0.053912609815597534, 0.5286334753036499, 0.14406439661979675, 0.11699870973825455, -0.12756159901618958, 0.0565837137401104, -0.22459657490253448]</td>\n",
       "      <td>2024-11-01</td>\n",
       "      <td>5</td>\n",
       "      <td>57</td>\n",
       "      <td>1</td>\n",
       "      <td>1</td>\n",
       "      <td>1</td>\n",
       "    </tr>\n",
       "    <tr>\n",
       "      <th>1914</th>\n",
       "      <td>[-0.11850176751613617, 0.29709935188293457, 0.031056571751832962, 0.11467762291431427, -0.10065178573131561, -0.2877173125743866, 0.39626526832580566, 0.6638117432594299, -0.31576138734817505, 0.040768541395664215, -0.15032002329826355, -0.4520544409751892, -0.032790593802928925, 0.06150292232632637, -0.037847407162189484, -0.44692152738571167, 0.07647498697042465, -0.5253616571426392, -0.06243643909692764, -0.5580301284790039, 0.25753504037857056, 0.06576944887638092, 0.06177883595228195, -0.07181066274642944, -0.4046953618526459, 0.011117521673440933, -0.03809978440403938, -0.1926145851612091, -0.31850486993789673, 0.03514612838625908, 0.1696002036333084, 0.06562540680170059, 0.17490682005882263, -0.15806905925273895, -0.13532695174217224, 0.5038235187530518, 0.18062883615493774, -0.33908528089523315, -0.20257118344306946, -0.7011000514030457, -0.08411548286676407, -0.24103140830993652, -0.22846904397010803, -0.035685062408447266, 0.3737719655036926, -0.13621845841407776, 0.18098393082618713, -0.021856624633073807, -0.01739339902997017, 0.10713882744312286, 0.16208215057849884, -0.17606785893440247, -0.2210405170917511, 0.14819760620594025, -0.2683061361312866, 0.10179410129785538, 0.1346503049135208, -0.16668985784053802, -0.2659945487976074, -0.16301514208316803, 0.178623229265213, 0.11087040603160858, 0.11579462140798569, -0.27833110094070435, -0.4362635016441345, 0.2925593852996826, 0.16886664927005768, 0.5316655039787292, -0.6295633316040039, 0.3876284956932068, -0.15362592041492462, 0.15991249680519104, 0.20797976851463318, 0.06366070359945297, 0.3249468505382538, 0.1877608597278595, -0.1558813750743866, 0.025328218936920166, -0.20848993957042694, 0.11662685871124268, -0.1402970254421234, -0.10227073729038239, -0.30190354585647583, 0.45771902799606323, 0.03356151282787323, 0.10081617534160614, 0.08107436448335648, 0.3128746747970581, 0.3252537250518799, 0.11948518455028534, 0.3053983747959137, 0.12803547084331512, -0.008240637369453907, 0.06679064780473709, 0.633811354637146, 0.1741255819797516, 0.14119559526443481, -0.14360570907592773, 0.07260018587112427, -0.26973891258239746]</td>\n",
       "      <td>2024-10-31</td>\n",
       "      <td>5</td>\n",
       "      <td>57</td>\n",
       "      <td>1</td>\n",
       "      <td>0</td>\n",
       "      <td>1</td>\n",
       "    </tr>\n",
       "    <tr>\n",
       "      <th>1915</th>\n",
       "      <td>[-0.07523337006568909, 0.17383617162704468, 0.022410476580262184, 0.06298311799764633, -0.06256181001663208, -0.18052557110786438, 0.236481174826622, 0.40777358412742615, -0.19322240352630615, 0.01579180173575878, -0.09235755354166031, -0.2733868360519409, -0.024139005690813065, 0.032808657735586166, -0.025653652846813202, -0.2681993842124939, 0.04237136244773865, -0.3170248866081238, -0.03718998283147812, -0.33683454990386963, 0.15650293231010437, 0.03989043086767197, 0.03764880448579788, -0.043130695819854736, -0.24196261167526245, 0.0071348827332258224, -0.02063259668648243, -0.12101306021213531, -0.18846476078033447, 0.024596255272626877, 0.1009976714849472, 0.038868777453899384, 0.10793585330247879, -0.10059495270252228, -0.08342041075229645, 0.30844032764434814, 0.10963621735572815, -0.20073896646499634, -0.1213994026184082, -0.4234824776649475, -0.05337103083729744, -0.1515636295080185, -0.13497792184352875, -0.026128992438316345, 0.22819474339485168, -0.08433129638433456, 0.10843966156244278, -0.008838647976517677, -0.01492236740887165, 0.06545089185237885, 0.0965338796377182, -0.10644002258777618, -0.12957602739334106, 0.09129121899604797, -0.16261842846870422, 0.05686143785715103, 0.0806083232164383, -0.10350656509399414, -0.16116207838058472, -0.09694559872150421, 0.1127275675535202, 0.06761346757411957, 0.07218809425830841, -0.16848257184028625, -0.2662632465362549, 0.1787988245487213, 0.10945019125938416, 0.3256356120109558, -0.3773270845413208, 0.24320316314697266, -0.09499410539865494, 0.10072280466556549, 0.12870872020721436, 0.03917329013347626, 0.20036551356315613, 0.11509829759597778, -0.09258276224136353, 0.013354459777474403, -0.12723222374916077, 0.07386642694473267, -0.08227988332509995, -0.06123238056898117, -0.18001139163970947, 0.2748815417289734, 0.02032599411904812, 0.06144735962152481, 0.04448605701327324, 0.19132643938064575, 0.18953321874141693, 0.07563702017068863, 0.18188899755477905, 0.08134488761425018, 0.0008662263862788677, 0.04363381117582321, 0.3859400749206543, 0.10350284725427628, 0.07989384233951569, -0.09385864436626434, 0.04216942936182022, -0.16364896297454834]</td>\n",
       "      <td>2024-10-30</td>\n",
       "      <td>5</td>\n",
       "      <td>61</td>\n",
       "      <td>0</td>\n",
       "      <td>0</td>\n",
       "      <td>1</td>\n",
       "    </tr>\n",
       "  </tbody>\n",
       "</table>\n",
       "<p>1916 rows × 7 columns</p>\n",
       "</div>"
      ]
     },
     "execution_count": 113,
     "metadata": {},
     "output_type": "execute_result"
    }
   ],
   "execution_count": 113
  },
  {
   "metadata": {
    "ExecuteTime": {
     "end_time": "2024-11-26T07:48:04.424611Z",
     "start_time": "2024-11-26T07:48:03.372770Z"
    }
   },
   "cell_type": "code",
   "source": "df_with_w2v.to_csv(DIRECTORY_PATH + \"\\\\parser\\\\dataframes\\\\main_df_with_word2vec.csv\")",
   "id": "a5a1f4bf77489d0c",
   "outputs": [],
   "execution_count": 114
  },
  {
   "metadata": {},
   "cell_type": "code",
   "outputs": [],
   "execution_count": null,
   "source": "",
   "id": "937110000e880426"
  }
 ],
 "metadata": {
  "kernelspec": {
   "display_name": "Python 3",
   "language": "python",
   "name": "python3"
  },
  "language_info": {
   "codemirror_mode": {
    "name": "ipython",
    "version": 2
   },
   "file_extension": ".py",
   "mimetype": "text/x-python",
   "name": "python",
   "nbconvert_exporter": "python",
   "pygments_lexer": "ipython2",
   "version": "2.7.6"
  }
 },
 "nbformat": 4,
 "nbformat_minor": 5
}
