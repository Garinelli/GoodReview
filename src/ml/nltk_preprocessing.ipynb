{
 "cells": [
  {
   "cell_type": "code",
   "id": "initial_id",
   "metadata": {
    "collapsed": true,
    "ExecuteTime": {
     "end_time": "2024-11-19T12:56:09.803353Z",
     "start_time": "2024-11-19T12:56:07.803352Z"
    }
   },
   "source": [
    "import os\n",
    "import pandas as pd\n",
    "import nltk"
   ],
   "outputs": [],
   "execution_count": 1
  },
  {
   "metadata": {
    "ExecuteTime": {
     "end_time": "2024-11-19T12:56:10.743351Z",
     "start_time": "2024-11-19T12:56:10.735351Z"
    }
   },
   "cell_type": "code",
   "source": [
    "BASE_DIR = os.getcwd()\n",
    "DIRECTORY_PATH = os.path.dirname(BASE_DIR)\n",
    "DF_PATH = DIRECTORY_PATH + \"\\\\parser\\\\main_df.csv\""
   ],
   "id": "be81b1eda2717c1b",
   "outputs": [],
   "execution_count": 2
  },
  {
   "metadata": {
    "ExecuteTime": {
     "end_time": "2024-11-19T12:56:11.330382Z",
     "start_time": "2024-11-19T12:56:11.308353Z"
    }
   },
   "cell_type": "code",
   "source": "df = pd.read_csv(DF_PATH)",
   "id": "69b6d55047fc4924",
   "outputs": [],
   "execution_count": 3
  },
  {
   "metadata": {},
   "cell_type": "markdown",
   "source": "# NLTK",
   "id": "6a05d941b38690de"
  },
  {
   "metadata": {
    "ExecuteTime": {
     "end_time": "2024-11-19T12:56:13.194371Z",
     "start_time": "2024-11-19T12:56:12.618373Z"
    }
   },
   "cell_type": "code",
   "source": [
    "nltk.download('punkt_tab')\n",
    "nltk.download('punkt')\n",
    "nltk.download('stopwords')"
   ],
   "id": "1447a884ad73acba",
   "outputs": [
    {
     "name": "stderr",
     "output_type": "stream",
     "text": [
      "[nltk_data] Downloading package punkt_tab to\n",
      "[nltk_data]     C:\\Users\\amr\\AppData\\Roaming\\nltk_data...\n",
      "[nltk_data]   Package punkt_tab is already up-to-date!\n",
      "[nltk_data] Downloading package punkt to\n",
      "[nltk_data]     C:\\Users\\amr\\AppData\\Roaming\\nltk_data...\n",
      "[nltk_data]   Package punkt is already up-to-date!\n",
      "[nltk_data] Downloading package stopwords to\n",
      "[nltk_data]     C:\\Users\\amr\\AppData\\Roaming\\nltk_data...\n",
      "[nltk_data]   Package stopwords is already up-to-date!\n"
     ]
    },
    {
     "data": {
      "text/plain": [
       "True"
      ]
     },
     "execution_count": 4,
     "metadata": {},
     "output_type": "execute_result"
    }
   ],
   "execution_count": 4
  },
  {
   "metadata": {},
   "cell_type": "markdown",
   "source": "# Stop words",
   "id": "fe04012ffa369348"
  },
  {
   "metadata": {
    "ExecuteTime": {
     "end_time": "2024-11-19T12:56:16.074497Z",
     "start_time": "2024-11-19T12:56:16.066497Z"
    }
   },
   "cell_type": "code",
   "source": "reviews = df['User review'].values",
   "id": "f492e208f7d53927",
   "outputs": [],
   "execution_count": 5
  },
  {
   "metadata": {
    "ExecuteTime": {
     "end_time": "2024-11-19T12:56:17.628497Z",
     "start_time": "2024-11-19T12:56:17.613496Z"
    }
   },
   "cell_type": "code",
   "source": [
    "from nltk.corpus import stopwords\n",
    "from nltk.tokenize import word_tokenize\n",
    "stop_words = set(stopwords.words('russian'))"
   ],
   "id": "77ce81549f338e2d",
   "outputs": [],
   "execution_count": 6
  },
  {
   "metadata": {
    "ExecuteTime": {
     "end_time": "2024-11-19T12:56:18.913496Z",
     "start_time": "2024-11-19T12:56:18.449496Z"
    }
   },
   "cell_type": "code",
   "source": [
    "for index, review in enumerate(reviews):\n",
    "    words = word_tokenize(review)\n",
    "    filtered_tokens = []\n",
    "    for word in words:\n",
    "        if word not in stop_words:\n",
    "            filtered_tokens.append(word)\n",
    "    \n",
    "    # Итоговый отзыв без стоп слов\n",
    "    result_review = ' '.join(filtered_tokens)\n",
    "    reviews[index] = result_review"
   ],
   "id": "6b41d2bbd19228b5",
   "outputs": [],
   "execution_count": 7
  },
  {
   "metadata": {
    "ExecuteTime": {
     "end_time": "2024-11-19T12:56:19.654497Z",
     "start_time": "2024-11-19T12:56:19.644496Z"
    }
   },
   "cell_type": "code",
   "source": "reviews",
   "id": "26638babf5e58907",
   "outputs": [
    {
     "data": {
      "text/plain": [
       "array(['Достоинства устроило нормальная демисезонка',\n",
       "       'Шикарная , начиталась отзывы , рискнула , стирки , время покажет , верх покупаю 54 размер , 48 заказать , стала , взяла 50.Спасибо , очень понравилась',\n",
       "       'Дочке понравилась', ...,\n",
       "       'Широкий ассортимент высокое качество обслуживания . Молодцы !',\n",
       "       'Всё чётко , оперативно нареканий . Доставка часам .',\n",
       "       'Обратная связь высшем уровне , вопросы решаются моментально .'],\n",
       "      dtype=object)"
      ]
     },
     "execution_count": 8,
     "metadata": {},
     "output_type": "execute_result"
    }
   ],
   "execution_count": 8
  },
  {
   "metadata": {},
   "cell_type": "markdown",
   "source": "# Stemming",
   "id": "859e7b440c2123e4"
  },
  {
   "metadata": {
    "ExecuteTime": {
     "end_time": "2024-11-19T12:56:20.882497Z",
     "start_time": "2024-11-19T12:56:20.866498Z"
    }
   },
   "cell_type": "code",
   "source": "from nltk.stem.snowball import SnowballStemmer",
   "id": "89245403630e1fca",
   "outputs": [],
   "execution_count": 9
  },
  {
   "metadata": {
    "ExecuteTime": {
     "end_time": "2024-11-19T12:56:21.439498Z",
     "start_time": "2024-11-19T12:56:21.426498Z"
    }
   },
   "cell_type": "code",
   "source": [
    "# stemmer = SnowballStemmer(\"russian\")\n",
    "# for index, review in enumerate(reviews):\n",
    "#     words = word_tokenize(review)\n",
    "#     stemmed_words = [stemmer.stem(word) for word in words]\n",
    "#     result_review = ' '.join(stemmed_words)\n",
    "#     reviews[index] = result_review"
   ],
   "id": "ded28bd0475a600b",
   "outputs": [],
   "execution_count": 10
  },
  {
   "metadata": {
    "ExecuteTime": {
     "end_time": "2024-11-19T12:56:22.182526Z",
     "start_time": "2024-11-19T12:56:22.171496Z"
    }
   },
   "cell_type": "code",
   "source": "reviews",
   "id": "b12e303a017ef601",
   "outputs": [
    {
     "data": {
      "text/plain": [
       "array(['Достоинства устроило нормальная демисезонка',\n",
       "       'Шикарная , начиталась отзывы , рискнула , стирки , время покажет , верх покупаю 54 размер , 48 заказать , стала , взяла 50.Спасибо , очень понравилась',\n",
       "       'Дочке понравилась', ...,\n",
       "       'Широкий ассортимент высокое качество обслуживания . Молодцы !',\n",
       "       'Всё чётко , оперативно нареканий . Доставка часам .',\n",
       "       'Обратная связь высшем уровне , вопросы решаются моментально .'],\n",
       "      dtype=object)"
      ]
     },
     "execution_count": 11,
     "metadata": {},
     "output_type": "execute_result"
    }
   ],
   "execution_count": 11
  },
  {
   "metadata": {},
   "cell_type": "markdown",
   "source": "# Лемматизация",
   "id": "b1694d1d74889d8a"
  },
  {
   "metadata": {
    "ExecuteTime": {
     "end_time": "2024-11-19T12:56:23.751542Z",
     "start_time": "2024-11-19T12:56:23.676539Z"
    }
   },
   "cell_type": "code",
   "source": "nltk.download('omw-1.4')",
   "id": "1d69ebf745ce360a",
   "outputs": [
    {
     "name": "stderr",
     "output_type": "stream",
     "text": [
      "[nltk_data] Downloading package omw-1.4 to\n",
      "[nltk_data]     C:\\Users\\amr\\AppData\\Roaming\\nltk_data...\n",
      "[nltk_data]   Package omw-1.4 is already up-to-date!\n"
     ]
    },
    {
     "data": {
      "text/plain": [
       "True"
      ]
     },
     "execution_count": 12,
     "metadata": {},
     "output_type": "execute_result"
    }
   ],
   "execution_count": 12
  },
  {
   "metadata": {
    "ExecuteTime": {
     "end_time": "2024-11-19T12:56:24.766539Z",
     "start_time": "2024-11-19T12:56:24.531539Z"
    }
   },
   "cell_type": "code",
   "source": [
    "import pymorphy2\n",
    "\n",
    "morph = pymorphy2.MorphAnalyzer()"
   ],
   "id": "ffeaa247bf220c0a",
   "outputs": [],
   "execution_count": 13
  },
  {
   "metadata": {
    "ExecuteTime": {
     "end_time": "2024-11-19T12:56:28.021596Z",
     "start_time": "2024-11-19T12:56:25.052539Z"
    }
   },
   "cell_type": "code",
   "source": [
    "for index, review in enumerate(reviews):\n",
    "    words = word_tokenize(review)\n",
    "    stemmed_words = [morph.parse(word)[0].normal_form for word in words]\n",
    "    result_review = ' '.join(stemmed_words)\n",
    "    reviews[index] = result_review"
   ],
   "id": "f448d2694ed137b7",
   "outputs": [],
   "execution_count": 14
  },
  {
   "metadata": {
    "ExecuteTime": {
     "end_time": "2024-11-19T12:56:29.525140Z",
     "start_time": "2024-11-19T12:56:29.508141Z"
    }
   },
   "cell_type": "code",
   "source": "reviews",
   "id": "134b1c0355954899",
   "outputs": [
    {
     "data": {
      "text/plain": [
       "array(['достоинство устроить нормальный демисезонка',\n",
       "       'шикарный , начитаться отзыв , рискнуть , стирка , время показать , верх покупать 54 размер , 48 заказать , стать , взять 50.спасибо , очень понравиться',\n",
       "       'дочка понравиться', ...,\n",
       "       'широкий ассортимент высокий качество обслуживание . молодец !',\n",
       "       'всё чётко , оперативно нарекание . доставка час .',\n",
       "       'обратный связь высокий уровень , вопрос решаться моментально .'],\n",
       "      dtype=object)"
      ]
     },
     "execution_count": 15,
     "metadata": {},
     "output_type": "execute_result"
    }
   ],
   "execution_count": 15
  },
  {
   "metadata": {},
   "cell_type": "markdown",
   "source": "# Приведение к нижнему регистру",
   "id": "1614fc5bbfabe379"
  },
  {
   "metadata": {
    "ExecuteTime": {
     "end_time": "2024-11-19T12:56:31.127383Z",
     "start_time": "2024-11-19T12:56:31.106384Z"
    }
   },
   "cell_type": "code",
   "source": [
    "for index, review in enumerate(reviews):\n",
    "    reviews[index] = review.lower()"
   ],
   "id": "e5627e3ef09ee995",
   "outputs": [],
   "execution_count": 16
  },
  {
   "metadata": {
    "ExecuteTime": {
     "end_time": "2024-11-19T12:56:32.584898Z",
     "start_time": "2024-11-19T12:56:32.570899Z"
    }
   },
   "cell_type": "code",
   "source": "reviews",
   "id": "986bc65cd9736926",
   "outputs": [
    {
     "data": {
      "text/plain": [
       "array(['достоинство устроить нормальный демисезонка',\n",
       "       'шикарный , начитаться отзыв , рискнуть , стирка , время показать , верх покупать 54 размер , 48 заказать , стать , взять 50.спасибо , очень понравиться',\n",
       "       'дочка понравиться', ...,\n",
       "       'широкий ассортимент высокий качество обслуживание . молодец !',\n",
       "       'всё чётко , оперативно нарекание . доставка час .',\n",
       "       'обратный связь высокий уровень , вопрос решаться моментально .'],\n",
       "      dtype=object)"
      ]
     },
     "execution_count": 17,
     "metadata": {},
     "output_type": "execute_result"
    }
   ],
   "execution_count": 17
  },
  {
   "metadata": {},
   "cell_type": "markdown",
   "source": "# Токенизация и удаление знаков препинания",
   "id": "9e46eddf2c8d4da5"
  },
  {
   "metadata": {
    "ExecuteTime": {
     "end_time": "2024-11-19T12:56:33.855470Z",
     "start_time": "2024-11-19T12:56:33.842472Z"
    }
   },
   "cell_type": "code",
   "source": [
    "from nltk.tokenize import word_tokenize\n",
    "import string"
   ],
   "id": "d6ef60c54c7e8b4f",
   "outputs": [],
   "execution_count": 18
  },
  {
   "metadata": {
    "ExecuteTime": {
     "end_time": "2024-11-19T12:56:34.869469Z",
     "start_time": "2024-11-19T12:56:34.530470Z"
    }
   },
   "cell_type": "code",
   "source": [
    "for index, review in enumerate(reviews):\n",
    "    tokens = word_tokenize(review)\n",
    "    tokens = [word for word in tokens if word not in string.punctuation]\n",
    "    reviews[index] = tokens    "
   ],
   "id": "b1e8dec1214ff429",
   "outputs": [],
   "execution_count": 19
  },
  {
   "metadata": {
    "ExecuteTime": {
     "end_time": "2024-11-19T12:56:35.469470Z",
     "start_time": "2024-11-19T12:56:35.454472Z"
    }
   },
   "cell_type": "code",
   "source": "reviews",
   "id": "d2ffc4059815b7b8",
   "outputs": [
    {
     "data": {
      "text/plain": [
       "array([list(['достоинство', 'устроить', 'нормальный', 'демисезонка']),\n",
       "       list(['шикарный', 'начитаться', 'отзыв', 'рискнуть', 'стирка', 'время', 'показать', 'верх', 'покупать', '54', 'размер', '48', 'заказать', 'стать', 'взять', '50.спасибо', 'очень', 'понравиться']),\n",
       "       list(['дочка', 'понравиться']), ...,\n",
       "       list(['широкий', 'ассортимент', 'высокий', 'качество', 'обслуживание', 'молодец']),\n",
       "       list(['всё', 'чётко', 'оперативно', 'нарекание', 'доставка', 'час']),\n",
       "       list(['обратный', 'связь', 'высокий', 'уровень', 'вопрос', 'решаться', 'моментально'])],\n",
       "      dtype=object)"
      ]
     },
     "execution_count": 20,
     "metadata": {},
     "output_type": "execute_result"
    }
   ],
   "execution_count": 20
  },
  {
   "metadata": {
    "ExecuteTime": {
     "end_time": "2024-11-19T12:56:36.838472Z",
     "start_time": "2024-11-19T12:56:36.831471Z"
    }
   },
   "cell_type": "code",
   "source": "reviews = list(reviews)",
   "id": "c9979b903ada9018",
   "outputs": [],
   "execution_count": 21
  },
  {
   "metadata": {
    "ExecuteTime": {
     "end_time": "2024-11-19T12:56:42.977763Z",
     "start_time": "2024-11-19T12:56:42.947770Z"
    }
   },
   "cell_type": "code",
   "source": "df",
   "id": "588d21e40ac34edf",
   "outputs": [
    {
     "data": {
      "text/plain": [
       "      Unnamed: 0                                        User review  \\\n",
       "0            0.0   [достоинство, устроить, нормальный, демисезонка]   \n",
       "1            1.0  [шикарный, начитаться, отзыв, рискнуть, стирка...   \n",
       "2            2.0                               [дочка, понравиться]   \n",
       "3            3.0                            [пока, одевать, хотеть]   \n",
       "4            4.0                                 [отличный, куртка]   \n",
       "...          ...                                                ...   \n",
       "1901       203.0  [всё, быстро, чётко, проблема, ставить, магази...   \n",
       "1902       204.0  [отличный, магазин, теперь, ваш, постоянный, к...   \n",
       "1903       205.0  [широкий, ассортимент, высокий, качество, обсл...   \n",
       "1904       206.0  [всё, чётко, оперативно, нарекание, доставка, ...   \n",
       "1905       207.0  [обратный, связь, высокий, уровень, вопрос, ре...   \n",
       "\n",
       "     Review date  Star review  Text length  Has media  Has answer  \\\n",
       "0     2024-10-09            5           54          0           0   \n",
       "1     2024-10-09            5          195          0           0   \n",
       "2     2024-10-09            5           17          0           0   \n",
       "3     2024-10-09            5           33          0           0   \n",
       "4     2024-10-09            5           15          0           0   \n",
       "...          ...          ...          ...        ...         ...   \n",
       "1901  2024-11-03            5           55          1           0   \n",
       "1902  2024-11-02            5           56          0           1   \n",
       "1903  2024-11-01            5           57          1           0   \n",
       "1904  2024-10-31            5           57          1           1   \n",
       "1905  2024-10-30            5           61          0           1   \n",
       "\n",
       "     Written by bot  \n",
       "0                 0  \n",
       "1                 0  \n",
       "2                 0  \n",
       "3                 0  \n",
       "4                 0  \n",
       "...             ...  \n",
       "1901           True  \n",
       "1902           True  \n",
       "1903           True  \n",
       "1904           True  \n",
       "1905           True  \n",
       "\n",
       "[1906 rows x 8 columns]"
      ],
      "text/html": [
       "<div>\n",
       "<style scoped>\n",
       "    .dataframe tbody tr th:only-of-type {\n",
       "        vertical-align: middle;\n",
       "    }\n",
       "\n",
       "    .dataframe tbody tr th {\n",
       "        vertical-align: top;\n",
       "    }\n",
       "\n",
       "    .dataframe thead th {\n",
       "        text-align: right;\n",
       "    }\n",
       "</style>\n",
       "<table border=\"1\" class=\"dataframe\">\n",
       "  <thead>\n",
       "    <tr style=\"text-align: right;\">\n",
       "      <th></th>\n",
       "      <th>Unnamed: 0</th>\n",
       "      <th>User review</th>\n",
       "      <th>Review date</th>\n",
       "      <th>Star review</th>\n",
       "      <th>Text length</th>\n",
       "      <th>Has media</th>\n",
       "      <th>Has answer</th>\n",
       "      <th>Written by bot</th>\n",
       "    </tr>\n",
       "  </thead>\n",
       "  <tbody>\n",
       "    <tr>\n",
       "      <th>0</th>\n",
       "      <td>0.0</td>\n",
       "      <td>[достоинство, устроить, нормальный, демисезонка]</td>\n",
       "      <td>2024-10-09</td>\n",
       "      <td>5</td>\n",
       "      <td>54</td>\n",
       "      <td>0</td>\n",
       "      <td>0</td>\n",
       "      <td>0</td>\n",
       "    </tr>\n",
       "    <tr>\n",
       "      <th>1</th>\n",
       "      <td>1.0</td>\n",
       "      <td>[шикарный, начитаться, отзыв, рискнуть, стирка...</td>\n",
       "      <td>2024-10-09</td>\n",
       "      <td>5</td>\n",
       "      <td>195</td>\n",
       "      <td>0</td>\n",
       "      <td>0</td>\n",
       "      <td>0</td>\n",
       "    </tr>\n",
       "    <tr>\n",
       "      <th>2</th>\n",
       "      <td>2.0</td>\n",
       "      <td>[дочка, понравиться]</td>\n",
       "      <td>2024-10-09</td>\n",
       "      <td>5</td>\n",
       "      <td>17</td>\n",
       "      <td>0</td>\n",
       "      <td>0</td>\n",
       "      <td>0</td>\n",
       "    </tr>\n",
       "    <tr>\n",
       "      <th>3</th>\n",
       "      <td>3.0</td>\n",
       "      <td>[пока, одевать, хотеть]</td>\n",
       "      <td>2024-10-09</td>\n",
       "      <td>5</td>\n",
       "      <td>33</td>\n",
       "      <td>0</td>\n",
       "      <td>0</td>\n",
       "      <td>0</td>\n",
       "    </tr>\n",
       "    <tr>\n",
       "      <th>4</th>\n",
       "      <td>4.0</td>\n",
       "      <td>[отличный, куртка]</td>\n",
       "      <td>2024-10-09</td>\n",
       "      <td>5</td>\n",
       "      <td>15</td>\n",
       "      <td>0</td>\n",
       "      <td>0</td>\n",
       "      <td>0</td>\n",
       "    </tr>\n",
       "    <tr>\n",
       "      <th>...</th>\n",
       "      <td>...</td>\n",
       "      <td>...</td>\n",
       "      <td>...</td>\n",
       "      <td>...</td>\n",
       "      <td>...</td>\n",
       "      <td>...</td>\n",
       "      <td>...</td>\n",
       "      <td>...</td>\n",
       "    </tr>\n",
       "    <tr>\n",
       "      <th>1901</th>\n",
       "      <td>203.0</td>\n",
       "      <td>[всё, быстро, чётко, проблема, ставить, магази...</td>\n",
       "      <td>2024-11-03</td>\n",
       "      <td>5</td>\n",
       "      <td>55</td>\n",
       "      <td>1</td>\n",
       "      <td>0</td>\n",
       "      <td>True</td>\n",
       "    </tr>\n",
       "    <tr>\n",
       "      <th>1902</th>\n",
       "      <td>204.0</td>\n",
       "      <td>[отличный, магазин, теперь, ваш, постоянный, к...</td>\n",
       "      <td>2024-11-02</td>\n",
       "      <td>5</td>\n",
       "      <td>56</td>\n",
       "      <td>0</td>\n",
       "      <td>1</td>\n",
       "      <td>True</td>\n",
       "    </tr>\n",
       "    <tr>\n",
       "      <th>1903</th>\n",
       "      <td>205.0</td>\n",
       "      <td>[широкий, ассортимент, высокий, качество, обсл...</td>\n",
       "      <td>2024-11-01</td>\n",
       "      <td>5</td>\n",
       "      <td>57</td>\n",
       "      <td>1</td>\n",
       "      <td>0</td>\n",
       "      <td>True</td>\n",
       "    </tr>\n",
       "    <tr>\n",
       "      <th>1904</th>\n",
       "      <td>206.0</td>\n",
       "      <td>[всё, чётко, оперативно, нарекание, доставка, ...</td>\n",
       "      <td>2024-10-31</td>\n",
       "      <td>5</td>\n",
       "      <td>57</td>\n",
       "      <td>1</td>\n",
       "      <td>1</td>\n",
       "      <td>True</td>\n",
       "    </tr>\n",
       "    <tr>\n",
       "      <th>1905</th>\n",
       "      <td>207.0</td>\n",
       "      <td>[обратный, связь, высокий, уровень, вопрос, ре...</td>\n",
       "      <td>2024-10-30</td>\n",
       "      <td>5</td>\n",
       "      <td>61</td>\n",
       "      <td>0</td>\n",
       "      <td>1</td>\n",
       "      <td>True</td>\n",
       "    </tr>\n",
       "  </tbody>\n",
       "</table>\n",
       "<p>1906 rows × 8 columns</p>\n",
       "</div>"
      ]
     },
     "execution_count": 22,
     "metadata": {},
     "output_type": "execute_result"
    }
   ],
   "execution_count": 22
  },
  {
   "metadata": {
    "ExecuteTime": {
     "end_time": "2024-11-19T12:56:48.212331Z",
     "start_time": "2024-11-19T12:56:48.176791Z"
    }
   },
   "cell_type": "code",
   "source": "df.to_csv(DIRECTORY_PATH + \"\\\\parser\\\\main_df.csv\")",
   "id": "e99a4fc48c028bf6",
   "outputs": [],
   "execution_count": 23
  },
  {
   "metadata": {},
   "cell_type": "code",
   "outputs": [],
   "execution_count": null,
   "source": "",
   "id": "b9c552e05598fc9f"
  }
 ],
 "metadata": {
  "kernelspec": {
   "display_name": "Python 3",
   "language": "python",
   "name": "python3"
  },
  "language_info": {
   "codemirror_mode": {
    "name": "ipython",
    "version": 2
   },
   "file_extension": ".py",
   "mimetype": "text/x-python",
   "name": "python",
   "nbconvert_exporter": "python",
   "pygments_lexer": "ipython2",
   "version": "2.7.6"
  }
 },
 "nbformat": 4,
 "nbformat_minor": 5
}
