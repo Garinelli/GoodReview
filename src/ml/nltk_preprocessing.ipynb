{
 "cells": [
  {
   "cell_type": "code",
   "id": "initial_id",
   "metadata": {
    "collapsed": true,
    "ExecuteTime": {
     "end_time": "2025-01-15T10:28:49.792398Z",
     "start_time": "2025-01-15T10:28:49.786400Z"
    }
   },
   "source": [
    "import os\n",
    "import pandas as pd\n",
    "import nltk"
   ],
   "outputs": [],
   "execution_count": 5
  },
  {
   "metadata": {
    "ExecuteTime": {
     "end_time": "2025-01-15T10:28:50.470665Z",
     "start_time": "2025-01-15T10:28:50.462695Z"
    }
   },
   "cell_type": "code",
   "source": [
    "BASE_DIR = os.getcwd()\n",
    "DIRECTORY_PATH = os.path.dirname(BASE_DIR)\n",
    "DF_PATH = DIRECTORY_PATH + \"\\\\parser\\\\dataframes\\\\main_df.csv\""
   ],
   "id": "be81b1eda2717c1b",
   "outputs": [],
   "execution_count": 6
  },
  {
   "metadata": {
    "ExecuteTime": {
     "end_time": "2025-01-15T10:28:51.733039Z",
     "start_time": "2025-01-15T10:28:51.702039Z"
    }
   },
   "cell_type": "code",
   "source": [
    "df = pd.read_csv(DF_PATH)\n",
    "df = df.copy()"
   ],
   "id": "69b6d55047fc4924",
   "outputs": [],
   "execution_count": 7
  },
  {
   "metadata": {},
   "cell_type": "markdown",
   "source": "# NLTK",
   "id": "6a05d941b38690de"
  },
  {
   "metadata": {
    "ExecuteTime": {
     "end_time": "2025-01-15T10:28:54.812691Z",
     "start_time": "2025-01-15T10:28:54.805690Z"
    }
   },
   "cell_type": "code",
   "source": [
    "nltk.download('punkt_tab')\n",
    "nltk.download('punkt')\n",
    "nltk.download('stopwords')"
   ],
   "id": "1447a884ad73acba",
   "outputs": [
    {
     "name": "stderr",
     "output_type": "stream",
     "text": [
      "[nltk_data] Downloading package punkt_tab to\n",
      "[nltk_data]     C:\\Users\\amr\\AppData\\Roaming\\nltk_data...\n",
      "[nltk_data]   Package punkt_tab is already up-to-date!\n",
      "[nltk_data] Downloading package punkt to\n",
      "[nltk_data]     C:\\Users\\amr\\AppData\\Roaming\\nltk_data...\n",
      "[nltk_data]   Package punkt is already up-to-date!\n",
      "[nltk_data] Downloading package stopwords to\n",
      "[nltk_data]     C:\\Users\\amr\\AppData\\Roaming\\nltk_data...\n",
      "[nltk_data]   Package stopwords is already up-to-date!\n"
     ]
    },
    {
     "data": {
      "text/plain": [
       "True"
      ]
     },
     "execution_count": 8,
     "metadata": {},
     "output_type": "execute_result"
    }
   ],
   "execution_count": 8
  },
  {
   "metadata": {
    "ExecuteTime": {
     "end_time": "2025-01-15T10:28:55.922194Z",
     "start_time": "2025-01-15T10:28:55.906396Z"
    }
   },
   "cell_type": "code",
   "source": "reviews = df['User review'].values",
   "id": "fb646d1f4a784f0f",
   "outputs": [],
   "execution_count": 9
  },
  {
   "metadata": {},
   "cell_type": "markdown",
   "source": "# Приведение к нижнему регистру",
   "id": "3a22b49bec6856"
  },
  {
   "metadata": {
    "ExecuteTime": {
     "end_time": "2025-01-15T10:28:57.470827Z",
     "start_time": "2025-01-15T10:28:57.464827Z"
    }
   },
   "cell_type": "code",
   "source": [
    "for index, review in enumerate(reviews):\n",
    "    reviews[index] = review.lower()"
   ],
   "id": "c6b577af8f55f9df",
   "outputs": [],
   "execution_count": 10
  },
  {
   "metadata": {},
   "cell_type": "markdown",
   "source": "# Токенизация текста",
   "id": "1956f6a83bc5f01d"
  },
  {
   "metadata": {
    "ExecuteTime": {
     "end_time": "2025-01-15T10:28:58.909108Z",
     "start_time": "2025-01-15T10:28:58.483080Z"
    }
   },
   "cell_type": "code",
   "source": [
    "from nltk.tokenize import word_tokenize\n",
    "\n",
    "for index, review in enumerate(reviews):\n",
    "    tokens = word_tokenize(review)\n",
    "    tokens = [word for word in tokens]\n",
    "    reviews[index] = tokens"
   ],
   "id": "a00e0610a39f9792",
   "outputs": [],
   "execution_count": 11
  },
  {
   "metadata": {
    "ExecuteTime": {
     "end_time": "2025-01-15T10:28:59.551097Z",
     "start_time": "2025-01-15T10:28:59.537326Z"
    }
   },
   "cell_type": "code",
   "source": [
    "# reviews[15]\n",
    "reviews[0]"
   ],
   "id": "e91a72bc4685537d",
   "outputs": [
    {
     "data": {
      "text/plain": [
       "['достоинства', 'все', 'устроило', 'нормальная', 'демисезонка']"
      ]
     },
     "execution_count": 12,
     "metadata": {},
     "output_type": "execute_result"
    }
   ],
   "execution_count": 12
  },
  {
   "metadata": {},
   "cell_type": "markdown",
   "source": "# Stop words",
   "id": "fe04012ffa369348"
  },
  {
   "metadata": {
    "ExecuteTime": {
     "end_time": "2025-01-15T10:29:00.771354Z",
     "start_time": "2025-01-15T10:29:00.757357Z"
    }
   },
   "cell_type": "code",
   "source": [
    "from nltk.corpus import stopwords\n",
    "from nltk.tokenize import word_tokenize\n",
    "stop_words = set(stopwords.words('russian'))\n",
    "exceptions = {\n",
    "    \"не\", \"ни\", \"нет\", \"да\", \"или\", \"и\", \"так\", \"потому\", \"что\", \"когда\", \n",
    "    \"где\", \"кто\", \"что\", \"как\", \"зачем\", \"почему\", \"будто\", \"бы\", \"вдруг\", \n",
    "    \"пусть\", \"тоже\", \"все\", \"всё\", \"этот\", \"та\", \"такой\", \"сам\", \"только\", \n",
    "    \"другой\", \"ещё\", \"возможно\", \"почему\", \"впрочем\", \"хотя\", \"тем\", \"вместо\", \n",
    "    \"между\", \"также\", \"тогда\", \"вдобавок\", \"после\", \"перед\", \"наоборот\", \n",
    "    \"поэтому\", \"то\", \"тогда\", \"когда\", \"если\", \"даже\", \"включая\", \"совсем\", \n",
    "    \"именно\", \"через\", \"сейчас\", \"когда\", \"будет\", \"для\", \"от\", \"среди\"\n",
    "}"
   ],
   "id": "77ce81549f338e2d",
   "outputs": [],
   "execution_count": 13
  },
  {
   "metadata": {
    "ExecuteTime": {
     "end_time": "2025-01-15T10:29:02.976002Z",
     "start_time": "2025-01-15T10:29:02.967004Z"
    }
   },
   "cell_type": "code",
   "source": [
    "for tokens in reviews:\n",
    "    for token in tokens:\n",
    "        if token in stop_words and token not in exceptions:\n",
    "            tokens.remove(token)"
   ],
   "id": "6b41d2bbd19228b5",
   "outputs": [],
   "execution_count": 14
  },
  {
   "metadata": {
    "ExecuteTime": {
     "end_time": "2025-01-15T10:29:03.602037Z",
     "start_time": "2025-01-15T10:29:03.593038Z"
    }
   },
   "cell_type": "code",
   "source": "reviews[15]",
   "id": "26638babf5e58907",
   "outputs": [
    {
     "data": {
      "text/plain": [
       "['курутая',\n",
       " ',',\n",
       " 'балдею',\n",
       " 'ней',\n",
       " '.',\n",
       " 'продувает',\n",
       " 'ветре',\n",
       " ',',\n",
       " '-',\n",
       " '5.',\n",
       " 'транспорте',\n",
       " 'не',\n",
       " 'жарко',\n",
       " '.']"
      ]
     },
     "execution_count": 15,
     "metadata": {},
     "output_type": "execute_result"
    }
   ],
   "execution_count": 15
  },
  {
   "metadata": {},
   "cell_type": "markdown",
   "source": "# Лемматизация",
   "id": "b1694d1d74889d8a"
  },
  {
   "metadata": {
    "ExecuteTime": {
     "end_time": "2025-01-15T10:29:05.120821Z",
     "start_time": "2025-01-15T10:29:05.042821Z"
    }
   },
   "cell_type": "code",
   "source": "nltk.download('omw-1.4')",
   "id": "1d69ebf745ce360a",
   "outputs": [
    {
     "name": "stderr",
     "output_type": "stream",
     "text": [
      "[nltk_data] Downloading package omw-1.4 to\n",
      "[nltk_data]     C:\\Users\\amr\\AppData\\Roaming\\nltk_data...\n",
      "[nltk_data]   Package omw-1.4 is already up-to-date!\n"
     ]
    },
    {
     "data": {
      "text/plain": [
       "True"
      ]
     },
     "execution_count": 16,
     "metadata": {},
     "output_type": "execute_result"
    }
   ],
   "execution_count": 16
  },
  {
   "metadata": {
    "ExecuteTime": {
     "end_time": "2025-01-15T10:29:06.409311Z",
     "start_time": "2025-01-15T10:29:05.835311Z"
    }
   },
   "cell_type": "code",
   "source": [
    "import pymorphy2\n",
    "\n",
    "morph = pymorphy2.MorphAnalyzer()"
   ],
   "id": "ffeaa247bf220c0a",
   "outputs": [
    {
     "ename": "ModuleNotFoundError",
     "evalue": "No module named 'pymorphy2'",
     "output_type": "error",
     "traceback": [
      "\u001B[1;31m---------------------------------------------------------------------------\u001B[0m",
      "\u001B[1;31mModuleNotFoundError\u001B[0m                       Traceback (most recent call last)",
      "Cell \u001B[1;32mIn[17], line 1\u001B[0m\n\u001B[1;32m----> 1\u001B[0m \u001B[38;5;28;01mimport\u001B[39;00m \u001B[38;5;21;01mpymorphy2\u001B[39;00m\n\u001B[0;32m      3\u001B[0m morph \u001B[38;5;241m=\u001B[39m pymorphy2\u001B[38;5;241m.\u001B[39mMorphAnalyzer()\n",
      "\u001B[1;31mModuleNotFoundError\u001B[0m: No module named 'pymorphy2'"
     ]
    }
   ],
   "execution_count": 17
  },
  {
   "metadata": {
    "ExecuteTime": {
     "end_time": "2025-01-15T10:29:06.411311Z",
     "start_time": "2025-01-15T10:29:06.410312Z"
    }
   },
   "cell_type": "code",
   "source": [
    "for tokens in reviews:\n",
    "    for index, token in enumerate(tokens):\n",
    "        lemma = morph.parse(token)[0].normal_form\n",
    "        tokens[index] = lemma\n",
    "# for index, review in enumerate(reviews):\n",
    "#     words = word_tokenize(review)\n",
    "#     stemmed_words = [morph.parse(word)[0].normal_form for word in words]\n",
    "#     result_review = ' '.join(stemmed_words)\n",
    "#     reviews[index] = result_review"
   ],
   "id": "f448d2694ed137b7",
   "outputs": [],
   "execution_count": null
  },
  {
   "metadata": {
    "ExecuteTime": {
     "end_time": "2025-01-15T10:29:08.260430Z",
     "start_time": "2025-01-15T10:29:08.246397Z"
    }
   },
   "cell_type": "code",
   "source": "reviews[12]",
   "id": "134b1c0355954899",
   "outputs": [
    {
     "data": {
      "text/plain": [
       "['хорошая', 'куртка', 'и', 'пошита']"
      ]
     },
     "execution_count": 18,
     "metadata": {},
     "output_type": "execute_result"
    }
   ],
   "execution_count": 18
  },
  {
   "metadata": {
    "ExecuteTime": {
     "end_time": "2025-01-15T10:29:10.396951Z",
     "start_time": "2025-01-15T10:29:10.381955Z"
    }
   },
   "cell_type": "code",
   "source": "reviews = list(reviews)",
   "id": "c9979b903ada9018",
   "outputs": [],
   "execution_count": 19
  },
  {
   "metadata": {
    "ExecuteTime": {
     "end_time": "2025-01-15T10:29:11.593792Z",
     "start_time": "2025-01-15T10:29:11.571529Z"
    }
   },
   "cell_type": "code",
   "source": "df",
   "id": "588d21e40ac34edf",
   "outputs": [
    {
     "data": {
      "text/plain": [
       "      Unnamed: 0                                        User review  \\\n",
       "0            0.0  [достоинства, все, устроило, нормальная, демис...   \n",
       "1            1.0  [шикарная, ,, начиталась, отзывы, ,, рискнула,...   \n",
       "2            2.0                               [дочке, понравилась]   \n",
       "3            3.0            [пока, не, одевала, ,, то, что, хотела]   \n",
       "4            4.0                                 [отличная, куртка]   \n",
       "...          ...                                                ...   \n",
       "2411        56.0  [гриль, хороший, ,, сложно, чистить, решетку, ...   \n",
       "2412        57.0  [тостер, работает, нормально, ,, крутилки, сли...   \n",
       "2413        58.0  [чайник, хороший, ,, крышка, чут-чуть, заедает...   \n",
       "2414        59.0  [принтер, печатает, ,, иногда, картридж, не, с...   \n",
       "2415        60.0  [смартфон, нормальный, ,, экран, немого, тускл...   \n",
       "\n",
       "     Review date  Star review  Text length Has media  Has answer  \\\n",
       "0     2024-10-09            5           54         0           0   \n",
       "1     2024-10-09            5          195         0           0   \n",
       "2     2024-10-09            5           17         0           0   \n",
       "3     2024-10-09            5           33         0           0   \n",
       "4     2024-10-09            5           15         0           0   \n",
       "...          ...          ...          ...       ...         ...   \n",
       "2411  2024-10-06            4           76         1           1   \n",
       "2412  2024-12-08            3           75         0           0   \n",
       "2413  2024-12-13            4           73         0           0   \n",
       "2414  2024-11-21            4           69         0           1   \n",
       "2415  2024-10-30            3           55         1           1   \n",
       "\n",
       "      Written by bot  \n",
       "0                  0  \n",
       "1                  0  \n",
       "2                  0  \n",
       "3                  0  \n",
       "4                  0  \n",
       "...              ...  \n",
       "2411               0  \n",
       "2412               0  \n",
       "2413               0  \n",
       "2414               0  \n",
       "2415               0  \n",
       "\n",
       "[2416 rows x 8 columns]"
      ],
      "text/html": [
       "<div>\n",
       "<style scoped>\n",
       "    .dataframe tbody tr th:only-of-type {\n",
       "        vertical-align: middle;\n",
       "    }\n",
       "\n",
       "    .dataframe tbody tr th {\n",
       "        vertical-align: top;\n",
       "    }\n",
       "\n",
       "    .dataframe thead th {\n",
       "        text-align: right;\n",
       "    }\n",
       "</style>\n",
       "<table border=\"1\" class=\"dataframe\">\n",
       "  <thead>\n",
       "    <tr style=\"text-align: right;\">\n",
       "      <th></th>\n",
       "      <th>Unnamed: 0</th>\n",
       "      <th>User review</th>\n",
       "      <th>Review date</th>\n",
       "      <th>Star review</th>\n",
       "      <th>Text length</th>\n",
       "      <th>Has media</th>\n",
       "      <th>Has answer</th>\n",
       "      <th>Written by bot</th>\n",
       "    </tr>\n",
       "  </thead>\n",
       "  <tbody>\n",
       "    <tr>\n",
       "      <th>0</th>\n",
       "      <td>0.0</td>\n",
       "      <td>[достоинства, все, устроило, нормальная, демис...</td>\n",
       "      <td>2024-10-09</td>\n",
       "      <td>5</td>\n",
       "      <td>54</td>\n",
       "      <td>0</td>\n",
       "      <td>0</td>\n",
       "      <td>0</td>\n",
       "    </tr>\n",
       "    <tr>\n",
       "      <th>1</th>\n",
       "      <td>1.0</td>\n",
       "      <td>[шикарная, ,, начиталась, отзывы, ,, рискнула,...</td>\n",
       "      <td>2024-10-09</td>\n",
       "      <td>5</td>\n",
       "      <td>195</td>\n",
       "      <td>0</td>\n",
       "      <td>0</td>\n",
       "      <td>0</td>\n",
       "    </tr>\n",
       "    <tr>\n",
       "      <th>2</th>\n",
       "      <td>2.0</td>\n",
       "      <td>[дочке, понравилась]</td>\n",
       "      <td>2024-10-09</td>\n",
       "      <td>5</td>\n",
       "      <td>17</td>\n",
       "      <td>0</td>\n",
       "      <td>0</td>\n",
       "      <td>0</td>\n",
       "    </tr>\n",
       "    <tr>\n",
       "      <th>3</th>\n",
       "      <td>3.0</td>\n",
       "      <td>[пока, не, одевала, ,, то, что, хотела]</td>\n",
       "      <td>2024-10-09</td>\n",
       "      <td>5</td>\n",
       "      <td>33</td>\n",
       "      <td>0</td>\n",
       "      <td>0</td>\n",
       "      <td>0</td>\n",
       "    </tr>\n",
       "    <tr>\n",
       "      <th>4</th>\n",
       "      <td>4.0</td>\n",
       "      <td>[отличная, куртка]</td>\n",
       "      <td>2024-10-09</td>\n",
       "      <td>5</td>\n",
       "      <td>15</td>\n",
       "      <td>0</td>\n",
       "      <td>0</td>\n",
       "      <td>0</td>\n",
       "    </tr>\n",
       "    <tr>\n",
       "      <th>...</th>\n",
       "      <td>...</td>\n",
       "      <td>...</td>\n",
       "      <td>...</td>\n",
       "      <td>...</td>\n",
       "      <td>...</td>\n",
       "      <td>...</td>\n",
       "      <td>...</td>\n",
       "      <td>...</td>\n",
       "    </tr>\n",
       "    <tr>\n",
       "      <th>2411</th>\n",
       "      <td>56.0</td>\n",
       "      <td>[гриль, хороший, ,, сложно, чистить, решетку, ...</td>\n",
       "      <td>2024-10-06</td>\n",
       "      <td>4</td>\n",
       "      <td>76</td>\n",
       "      <td>1</td>\n",
       "      <td>1</td>\n",
       "      <td>0</td>\n",
       "    </tr>\n",
       "    <tr>\n",
       "      <th>2412</th>\n",
       "      <td>57.0</td>\n",
       "      <td>[тостер, работает, нормально, ,, крутилки, сли...</td>\n",
       "      <td>2024-12-08</td>\n",
       "      <td>3</td>\n",
       "      <td>75</td>\n",
       "      <td>0</td>\n",
       "      <td>0</td>\n",
       "      <td>0</td>\n",
       "    </tr>\n",
       "    <tr>\n",
       "      <th>2413</th>\n",
       "      <td>58.0</td>\n",
       "      <td>[чайник, хороший, ,, крышка, чут-чуть, заедает...</td>\n",
       "      <td>2024-12-13</td>\n",
       "      <td>4</td>\n",
       "      <td>73</td>\n",
       "      <td>0</td>\n",
       "      <td>0</td>\n",
       "      <td>0</td>\n",
       "    </tr>\n",
       "    <tr>\n",
       "      <th>2414</th>\n",
       "      <td>59.0</td>\n",
       "      <td>[принтер, печатает, ,, иногда, картридж, не, с...</td>\n",
       "      <td>2024-11-21</td>\n",
       "      <td>4</td>\n",
       "      <td>69</td>\n",
       "      <td>0</td>\n",
       "      <td>1</td>\n",
       "      <td>0</td>\n",
       "    </tr>\n",
       "    <tr>\n",
       "      <th>2415</th>\n",
       "      <td>60.0</td>\n",
       "      <td>[смартфон, нормальный, ,, экран, немого, тускл...</td>\n",
       "      <td>2024-10-30</td>\n",
       "      <td>3</td>\n",
       "      <td>55</td>\n",
       "      <td>1</td>\n",
       "      <td>1</td>\n",
       "      <td>0</td>\n",
       "    </tr>\n",
       "  </tbody>\n",
       "</table>\n",
       "<p>2416 rows × 8 columns</p>\n",
       "</div>"
      ]
     },
     "execution_count": 20,
     "metadata": {},
     "output_type": "execute_result"
    }
   ],
   "execution_count": 20
  },
  {
   "metadata": {
    "ExecuteTime": {
     "end_time": "2025-01-15T10:29:12.451382Z",
     "start_time": "2025-01-15T10:29:12.437383Z"
    }
   },
   "cell_type": "code",
   "source": "df = df.drop(columns=['Unnamed: 0'])",
   "id": "496ce9881d6e08b5",
   "outputs": [],
   "execution_count": 21
  },
  {
   "metadata": {
    "ExecuteTime": {
     "end_time": "2025-01-15T10:29:13.130952Z",
     "start_time": "2025-01-15T10:29:13.117365Z"
    }
   },
   "cell_type": "code",
   "source": "df",
   "id": "ba56317733ff1412",
   "outputs": [
    {
     "data": {
      "text/plain": [
       "                                            User review Review date  \\\n",
       "0     [достоинства, все, устроило, нормальная, демис...  2024-10-09   \n",
       "1     [шикарная, ,, начиталась, отзывы, ,, рискнула,...  2024-10-09   \n",
       "2                                  [дочке, понравилась]  2024-10-09   \n",
       "3               [пока, не, одевала, ,, то, что, хотела]  2024-10-09   \n",
       "4                                    [отличная, куртка]  2024-10-09   \n",
       "...                                                 ...         ...   \n",
       "2411  [гриль, хороший, ,, сложно, чистить, решетку, ...  2024-10-06   \n",
       "2412  [тостер, работает, нормально, ,, крутилки, сли...  2024-12-08   \n",
       "2413  [чайник, хороший, ,, крышка, чут-чуть, заедает...  2024-12-13   \n",
       "2414  [принтер, печатает, ,, иногда, картридж, не, с...  2024-11-21   \n",
       "2415  [смартфон, нормальный, ,, экран, немого, тускл...  2024-10-30   \n",
       "\n",
       "      Star review  Text length Has media  Has answer  Written by bot  \n",
       "0               5           54         0           0               0  \n",
       "1               5          195         0           0               0  \n",
       "2               5           17         0           0               0  \n",
       "3               5           33         0           0               0  \n",
       "4               5           15         0           0               0  \n",
       "...           ...          ...       ...         ...             ...  \n",
       "2411            4           76         1           1               0  \n",
       "2412            3           75         0           0               0  \n",
       "2413            4           73         0           0               0  \n",
       "2414            4           69         0           1               0  \n",
       "2415            3           55         1           1               0  \n",
       "\n",
       "[2416 rows x 7 columns]"
      ],
      "text/html": [
       "<div>\n",
       "<style scoped>\n",
       "    .dataframe tbody tr th:only-of-type {\n",
       "        vertical-align: middle;\n",
       "    }\n",
       "\n",
       "    .dataframe tbody tr th {\n",
       "        vertical-align: top;\n",
       "    }\n",
       "\n",
       "    .dataframe thead th {\n",
       "        text-align: right;\n",
       "    }\n",
       "</style>\n",
       "<table border=\"1\" class=\"dataframe\">\n",
       "  <thead>\n",
       "    <tr style=\"text-align: right;\">\n",
       "      <th></th>\n",
       "      <th>User review</th>\n",
       "      <th>Review date</th>\n",
       "      <th>Star review</th>\n",
       "      <th>Text length</th>\n",
       "      <th>Has media</th>\n",
       "      <th>Has answer</th>\n",
       "      <th>Written by bot</th>\n",
       "    </tr>\n",
       "  </thead>\n",
       "  <tbody>\n",
       "    <tr>\n",
       "      <th>0</th>\n",
       "      <td>[достоинства, все, устроило, нормальная, демис...</td>\n",
       "      <td>2024-10-09</td>\n",
       "      <td>5</td>\n",
       "      <td>54</td>\n",
       "      <td>0</td>\n",
       "      <td>0</td>\n",
       "      <td>0</td>\n",
       "    </tr>\n",
       "    <tr>\n",
       "      <th>1</th>\n",
       "      <td>[шикарная, ,, начиталась, отзывы, ,, рискнула,...</td>\n",
       "      <td>2024-10-09</td>\n",
       "      <td>5</td>\n",
       "      <td>195</td>\n",
       "      <td>0</td>\n",
       "      <td>0</td>\n",
       "      <td>0</td>\n",
       "    </tr>\n",
       "    <tr>\n",
       "      <th>2</th>\n",
       "      <td>[дочке, понравилась]</td>\n",
       "      <td>2024-10-09</td>\n",
       "      <td>5</td>\n",
       "      <td>17</td>\n",
       "      <td>0</td>\n",
       "      <td>0</td>\n",
       "      <td>0</td>\n",
       "    </tr>\n",
       "    <tr>\n",
       "      <th>3</th>\n",
       "      <td>[пока, не, одевала, ,, то, что, хотела]</td>\n",
       "      <td>2024-10-09</td>\n",
       "      <td>5</td>\n",
       "      <td>33</td>\n",
       "      <td>0</td>\n",
       "      <td>0</td>\n",
       "      <td>0</td>\n",
       "    </tr>\n",
       "    <tr>\n",
       "      <th>4</th>\n",
       "      <td>[отличная, куртка]</td>\n",
       "      <td>2024-10-09</td>\n",
       "      <td>5</td>\n",
       "      <td>15</td>\n",
       "      <td>0</td>\n",
       "      <td>0</td>\n",
       "      <td>0</td>\n",
       "    </tr>\n",
       "    <tr>\n",
       "      <th>...</th>\n",
       "      <td>...</td>\n",
       "      <td>...</td>\n",
       "      <td>...</td>\n",
       "      <td>...</td>\n",
       "      <td>...</td>\n",
       "      <td>...</td>\n",
       "      <td>...</td>\n",
       "    </tr>\n",
       "    <tr>\n",
       "      <th>2411</th>\n",
       "      <td>[гриль, хороший, ,, сложно, чистить, решетку, ...</td>\n",
       "      <td>2024-10-06</td>\n",
       "      <td>4</td>\n",
       "      <td>76</td>\n",
       "      <td>1</td>\n",
       "      <td>1</td>\n",
       "      <td>0</td>\n",
       "    </tr>\n",
       "    <tr>\n",
       "      <th>2412</th>\n",
       "      <td>[тостер, работает, нормально, ,, крутилки, сли...</td>\n",
       "      <td>2024-12-08</td>\n",
       "      <td>3</td>\n",
       "      <td>75</td>\n",
       "      <td>0</td>\n",
       "      <td>0</td>\n",
       "      <td>0</td>\n",
       "    </tr>\n",
       "    <tr>\n",
       "      <th>2413</th>\n",
       "      <td>[чайник, хороший, ,, крышка, чут-чуть, заедает...</td>\n",
       "      <td>2024-12-13</td>\n",
       "      <td>4</td>\n",
       "      <td>73</td>\n",
       "      <td>0</td>\n",
       "      <td>0</td>\n",
       "      <td>0</td>\n",
       "    </tr>\n",
       "    <tr>\n",
       "      <th>2414</th>\n",
       "      <td>[принтер, печатает, ,, иногда, картридж, не, с...</td>\n",
       "      <td>2024-11-21</td>\n",
       "      <td>4</td>\n",
       "      <td>69</td>\n",
       "      <td>0</td>\n",
       "      <td>1</td>\n",
       "      <td>0</td>\n",
       "    </tr>\n",
       "    <tr>\n",
       "      <th>2415</th>\n",
       "      <td>[смартфон, нормальный, ,, экран, немого, тускл...</td>\n",
       "      <td>2024-10-30</td>\n",
       "      <td>3</td>\n",
       "      <td>55</td>\n",
       "      <td>1</td>\n",
       "      <td>1</td>\n",
       "      <td>0</td>\n",
       "    </tr>\n",
       "  </tbody>\n",
       "</table>\n",
       "<p>2416 rows × 7 columns</p>\n",
       "</div>"
      ]
     },
     "execution_count": 22,
     "metadata": {},
     "output_type": "execute_result"
    }
   ],
   "execution_count": 22
  },
  {
   "metadata": {
    "ExecuteTime": {
     "end_time": "2025-01-15T10:29:14.140435Z",
     "start_time": "2025-01-15T10:29:14.126436Z"
    }
   },
   "cell_type": "code",
   "source": [
    "# df['Written by bot'] = df['Written by bot'].replace(\"True\", 1)\n",
    "# df['Written by bot'] = df['Written by bot'].replace(\"False\", 0)"
   ],
   "id": "d9fc946f841a942b",
   "outputs": [],
   "execution_count": 23
  },
  {
   "metadata": {
    "ExecuteTime": {
     "end_time": "2025-01-15T10:29:14.705948Z",
     "start_time": "2025-01-15T10:29:14.684700Z"
    }
   },
   "cell_type": "code",
   "source": "df",
   "id": "c893ae2d4be36658",
   "outputs": [
    {
     "data": {
      "text/plain": [
       "                                            User review Review date  \\\n",
       "0     [достоинства, все, устроило, нормальная, демис...  2024-10-09   \n",
       "1     [шикарная, ,, начиталась, отзывы, ,, рискнула,...  2024-10-09   \n",
       "2                                  [дочке, понравилась]  2024-10-09   \n",
       "3               [пока, не, одевала, ,, то, что, хотела]  2024-10-09   \n",
       "4                                    [отличная, куртка]  2024-10-09   \n",
       "...                                                 ...         ...   \n",
       "2411  [гриль, хороший, ,, сложно, чистить, решетку, ...  2024-10-06   \n",
       "2412  [тостер, работает, нормально, ,, крутилки, сли...  2024-12-08   \n",
       "2413  [чайник, хороший, ,, крышка, чут-чуть, заедает...  2024-12-13   \n",
       "2414  [принтер, печатает, ,, иногда, картридж, не, с...  2024-11-21   \n",
       "2415  [смартфон, нормальный, ,, экран, немого, тускл...  2024-10-30   \n",
       "\n",
       "      Star review  Text length Has media  Has answer  Written by bot  \n",
       "0               5           54         0           0               0  \n",
       "1               5          195         0           0               0  \n",
       "2               5           17         0           0               0  \n",
       "3               5           33         0           0               0  \n",
       "4               5           15         0           0               0  \n",
       "...           ...          ...       ...         ...             ...  \n",
       "2411            4           76         1           1               0  \n",
       "2412            3           75         0           0               0  \n",
       "2413            4           73         0           0               0  \n",
       "2414            4           69         0           1               0  \n",
       "2415            3           55         1           1               0  \n",
       "\n",
       "[2416 rows x 7 columns]"
      ],
      "text/html": [
       "<div>\n",
       "<style scoped>\n",
       "    .dataframe tbody tr th:only-of-type {\n",
       "        vertical-align: middle;\n",
       "    }\n",
       "\n",
       "    .dataframe tbody tr th {\n",
       "        vertical-align: top;\n",
       "    }\n",
       "\n",
       "    .dataframe thead th {\n",
       "        text-align: right;\n",
       "    }\n",
       "</style>\n",
       "<table border=\"1\" class=\"dataframe\">\n",
       "  <thead>\n",
       "    <tr style=\"text-align: right;\">\n",
       "      <th></th>\n",
       "      <th>User review</th>\n",
       "      <th>Review date</th>\n",
       "      <th>Star review</th>\n",
       "      <th>Text length</th>\n",
       "      <th>Has media</th>\n",
       "      <th>Has answer</th>\n",
       "      <th>Written by bot</th>\n",
       "    </tr>\n",
       "  </thead>\n",
       "  <tbody>\n",
       "    <tr>\n",
       "      <th>0</th>\n",
       "      <td>[достоинства, все, устроило, нормальная, демис...</td>\n",
       "      <td>2024-10-09</td>\n",
       "      <td>5</td>\n",
       "      <td>54</td>\n",
       "      <td>0</td>\n",
       "      <td>0</td>\n",
       "      <td>0</td>\n",
       "    </tr>\n",
       "    <tr>\n",
       "      <th>1</th>\n",
       "      <td>[шикарная, ,, начиталась, отзывы, ,, рискнула,...</td>\n",
       "      <td>2024-10-09</td>\n",
       "      <td>5</td>\n",
       "      <td>195</td>\n",
       "      <td>0</td>\n",
       "      <td>0</td>\n",
       "      <td>0</td>\n",
       "    </tr>\n",
       "    <tr>\n",
       "      <th>2</th>\n",
       "      <td>[дочке, понравилась]</td>\n",
       "      <td>2024-10-09</td>\n",
       "      <td>5</td>\n",
       "      <td>17</td>\n",
       "      <td>0</td>\n",
       "      <td>0</td>\n",
       "      <td>0</td>\n",
       "    </tr>\n",
       "    <tr>\n",
       "      <th>3</th>\n",
       "      <td>[пока, не, одевала, ,, то, что, хотела]</td>\n",
       "      <td>2024-10-09</td>\n",
       "      <td>5</td>\n",
       "      <td>33</td>\n",
       "      <td>0</td>\n",
       "      <td>0</td>\n",
       "      <td>0</td>\n",
       "    </tr>\n",
       "    <tr>\n",
       "      <th>4</th>\n",
       "      <td>[отличная, куртка]</td>\n",
       "      <td>2024-10-09</td>\n",
       "      <td>5</td>\n",
       "      <td>15</td>\n",
       "      <td>0</td>\n",
       "      <td>0</td>\n",
       "      <td>0</td>\n",
       "    </tr>\n",
       "    <tr>\n",
       "      <th>...</th>\n",
       "      <td>...</td>\n",
       "      <td>...</td>\n",
       "      <td>...</td>\n",
       "      <td>...</td>\n",
       "      <td>...</td>\n",
       "      <td>...</td>\n",
       "      <td>...</td>\n",
       "    </tr>\n",
       "    <tr>\n",
       "      <th>2411</th>\n",
       "      <td>[гриль, хороший, ,, сложно, чистить, решетку, ...</td>\n",
       "      <td>2024-10-06</td>\n",
       "      <td>4</td>\n",
       "      <td>76</td>\n",
       "      <td>1</td>\n",
       "      <td>1</td>\n",
       "      <td>0</td>\n",
       "    </tr>\n",
       "    <tr>\n",
       "      <th>2412</th>\n",
       "      <td>[тостер, работает, нормально, ,, крутилки, сли...</td>\n",
       "      <td>2024-12-08</td>\n",
       "      <td>3</td>\n",
       "      <td>75</td>\n",
       "      <td>0</td>\n",
       "      <td>0</td>\n",
       "      <td>0</td>\n",
       "    </tr>\n",
       "    <tr>\n",
       "      <th>2413</th>\n",
       "      <td>[чайник, хороший, ,, крышка, чут-чуть, заедает...</td>\n",
       "      <td>2024-12-13</td>\n",
       "      <td>4</td>\n",
       "      <td>73</td>\n",
       "      <td>0</td>\n",
       "      <td>0</td>\n",
       "      <td>0</td>\n",
       "    </tr>\n",
       "    <tr>\n",
       "      <th>2414</th>\n",
       "      <td>[принтер, печатает, ,, иногда, картридж, не, с...</td>\n",
       "      <td>2024-11-21</td>\n",
       "      <td>4</td>\n",
       "      <td>69</td>\n",
       "      <td>0</td>\n",
       "      <td>1</td>\n",
       "      <td>0</td>\n",
       "    </tr>\n",
       "    <tr>\n",
       "      <th>2415</th>\n",
       "      <td>[смартфон, нормальный, ,, экран, немого, тускл...</td>\n",
       "      <td>2024-10-30</td>\n",
       "      <td>3</td>\n",
       "      <td>55</td>\n",
       "      <td>1</td>\n",
       "      <td>1</td>\n",
       "      <td>0</td>\n",
       "    </tr>\n",
       "  </tbody>\n",
       "</table>\n",
       "<p>2416 rows × 7 columns</p>\n",
       "</div>"
      ]
     },
     "execution_count": 24,
     "metadata": {},
     "output_type": "execute_result"
    }
   ],
   "execution_count": 24
  },
  {
   "metadata": {
    "ExecuteTime": {
     "end_time": "2025-01-15T10:29:34.554564Z",
     "start_time": "2025-01-15T10:29:34.530561Z"
    }
   },
   "cell_type": "code",
   "source": "df.to_csv(DIRECTORY_PATH + \"\\\\parser\\\\dataframes\\\\preprocessed_main_df.csv\")",
   "id": "e99a4fc48c028bf6",
   "outputs": [],
   "execution_count": 26
  },
  {
   "metadata": {
    "ExecuteTime": {
     "end_time": "2025-01-15T10:29:48.054966Z",
     "start_time": "2025-01-15T10:29:48.048964Z"
    }
   },
   "cell_type": "code",
   "source": "filtered_df = df[df['Written by bot'] == 'True']",
   "id": "b9c552e05598fc9f",
   "outputs": [],
   "execution_count": 27
  },
  {
   "metadata": {
    "ExecuteTime": {
     "end_time": "2025-01-15T10:29:48.686777Z",
     "start_time": "2025-01-15T10:29:48.675749Z"
    }
   },
   "cell_type": "code",
   "source": "filtered_df",
   "id": "f824c6bc6db5715d",
   "outputs": [
    {
     "data": {
      "text/plain": [
       "Empty DataFrame\n",
       "Columns: [User review, Review date, Star review, Text length, Has media, Has answer, Written by bot]\n",
       "Index: []"
      ],
      "text/html": [
       "<div>\n",
       "<style scoped>\n",
       "    .dataframe tbody tr th:only-of-type {\n",
       "        vertical-align: middle;\n",
       "    }\n",
       "\n",
       "    .dataframe tbody tr th {\n",
       "        vertical-align: top;\n",
       "    }\n",
       "\n",
       "    .dataframe thead th {\n",
       "        text-align: right;\n",
       "    }\n",
       "</style>\n",
       "<table border=\"1\" class=\"dataframe\">\n",
       "  <thead>\n",
       "    <tr style=\"text-align: right;\">\n",
       "      <th></th>\n",
       "      <th>User review</th>\n",
       "      <th>Review date</th>\n",
       "      <th>Star review</th>\n",
       "      <th>Text length</th>\n",
       "      <th>Has media</th>\n",
       "      <th>Has answer</th>\n",
       "      <th>Written by bot</th>\n",
       "    </tr>\n",
       "  </thead>\n",
       "  <tbody>\n",
       "  </tbody>\n",
       "</table>\n",
       "</div>"
      ]
     },
     "execution_count": 28,
     "metadata": {},
     "output_type": "execute_result"
    }
   ],
   "execution_count": 28
  },
  {
   "metadata": {},
   "cell_type": "markdown",
   "source": "# Удаление знаков препинания",
   "id": "3e204024c65f3415"
  },
  {
   "metadata": {
    "ExecuteTime": {
     "end_time": "2025-01-15T10:29:51.668548Z",
     "start_time": "2025-01-15T10:29:51.654553Z"
    }
   },
   "cell_type": "code",
   "source": "df",
   "id": "708ba380118061a",
   "outputs": [
    {
     "data": {
      "text/plain": [
       "                                            User review Review date  \\\n",
       "0     [достоинства, все, устроило, нормальная, демис...  2024-10-09   \n",
       "1     [шикарная, ,, начиталась, отзывы, ,, рискнула,...  2024-10-09   \n",
       "2                                  [дочке, понравилась]  2024-10-09   \n",
       "3               [пока, не, одевала, ,, то, что, хотела]  2024-10-09   \n",
       "4                                    [отличная, куртка]  2024-10-09   \n",
       "...                                                 ...         ...   \n",
       "2411  [гриль, хороший, ,, сложно, чистить, решетку, ...  2024-10-06   \n",
       "2412  [тостер, работает, нормально, ,, крутилки, сли...  2024-12-08   \n",
       "2413  [чайник, хороший, ,, крышка, чут-чуть, заедает...  2024-12-13   \n",
       "2414  [принтер, печатает, ,, иногда, картридж, не, с...  2024-11-21   \n",
       "2415  [смартфон, нормальный, ,, экран, немого, тускл...  2024-10-30   \n",
       "\n",
       "      Star review  Text length Has media  Has answer  Written by bot  \n",
       "0               5           54         0           0               0  \n",
       "1               5          195         0           0               0  \n",
       "2               5           17         0           0               0  \n",
       "3               5           33         0           0               0  \n",
       "4               5           15         0           0               0  \n",
       "...           ...          ...       ...         ...             ...  \n",
       "2411            4           76         1           1               0  \n",
       "2412            3           75         0           0               0  \n",
       "2413            4           73         0           0               0  \n",
       "2414            4           69         0           1               0  \n",
       "2415            3           55         1           1               0  \n",
       "\n",
       "[2416 rows x 7 columns]"
      ],
      "text/html": [
       "<div>\n",
       "<style scoped>\n",
       "    .dataframe tbody tr th:only-of-type {\n",
       "        vertical-align: middle;\n",
       "    }\n",
       "\n",
       "    .dataframe tbody tr th {\n",
       "        vertical-align: top;\n",
       "    }\n",
       "\n",
       "    .dataframe thead th {\n",
       "        text-align: right;\n",
       "    }\n",
       "</style>\n",
       "<table border=\"1\" class=\"dataframe\">\n",
       "  <thead>\n",
       "    <tr style=\"text-align: right;\">\n",
       "      <th></th>\n",
       "      <th>User review</th>\n",
       "      <th>Review date</th>\n",
       "      <th>Star review</th>\n",
       "      <th>Text length</th>\n",
       "      <th>Has media</th>\n",
       "      <th>Has answer</th>\n",
       "      <th>Written by bot</th>\n",
       "    </tr>\n",
       "  </thead>\n",
       "  <tbody>\n",
       "    <tr>\n",
       "      <th>0</th>\n",
       "      <td>[достоинства, все, устроило, нормальная, демис...</td>\n",
       "      <td>2024-10-09</td>\n",
       "      <td>5</td>\n",
       "      <td>54</td>\n",
       "      <td>0</td>\n",
       "      <td>0</td>\n",
       "      <td>0</td>\n",
       "    </tr>\n",
       "    <tr>\n",
       "      <th>1</th>\n",
       "      <td>[шикарная, ,, начиталась, отзывы, ,, рискнула,...</td>\n",
       "      <td>2024-10-09</td>\n",
       "      <td>5</td>\n",
       "      <td>195</td>\n",
       "      <td>0</td>\n",
       "      <td>0</td>\n",
       "      <td>0</td>\n",
       "    </tr>\n",
       "    <tr>\n",
       "      <th>2</th>\n",
       "      <td>[дочке, понравилась]</td>\n",
       "      <td>2024-10-09</td>\n",
       "      <td>5</td>\n",
       "      <td>17</td>\n",
       "      <td>0</td>\n",
       "      <td>0</td>\n",
       "      <td>0</td>\n",
       "    </tr>\n",
       "    <tr>\n",
       "      <th>3</th>\n",
       "      <td>[пока, не, одевала, ,, то, что, хотела]</td>\n",
       "      <td>2024-10-09</td>\n",
       "      <td>5</td>\n",
       "      <td>33</td>\n",
       "      <td>0</td>\n",
       "      <td>0</td>\n",
       "      <td>0</td>\n",
       "    </tr>\n",
       "    <tr>\n",
       "      <th>4</th>\n",
       "      <td>[отличная, куртка]</td>\n",
       "      <td>2024-10-09</td>\n",
       "      <td>5</td>\n",
       "      <td>15</td>\n",
       "      <td>0</td>\n",
       "      <td>0</td>\n",
       "      <td>0</td>\n",
       "    </tr>\n",
       "    <tr>\n",
       "      <th>...</th>\n",
       "      <td>...</td>\n",
       "      <td>...</td>\n",
       "      <td>...</td>\n",
       "      <td>...</td>\n",
       "      <td>...</td>\n",
       "      <td>...</td>\n",
       "      <td>...</td>\n",
       "    </tr>\n",
       "    <tr>\n",
       "      <th>2411</th>\n",
       "      <td>[гриль, хороший, ,, сложно, чистить, решетку, ...</td>\n",
       "      <td>2024-10-06</td>\n",
       "      <td>4</td>\n",
       "      <td>76</td>\n",
       "      <td>1</td>\n",
       "      <td>1</td>\n",
       "      <td>0</td>\n",
       "    </tr>\n",
       "    <tr>\n",
       "      <th>2412</th>\n",
       "      <td>[тостер, работает, нормально, ,, крутилки, сли...</td>\n",
       "      <td>2024-12-08</td>\n",
       "      <td>3</td>\n",
       "      <td>75</td>\n",
       "      <td>0</td>\n",
       "      <td>0</td>\n",
       "      <td>0</td>\n",
       "    </tr>\n",
       "    <tr>\n",
       "      <th>2413</th>\n",
       "      <td>[чайник, хороший, ,, крышка, чут-чуть, заедает...</td>\n",
       "      <td>2024-12-13</td>\n",
       "      <td>4</td>\n",
       "      <td>73</td>\n",
       "      <td>0</td>\n",
       "      <td>0</td>\n",
       "      <td>0</td>\n",
       "    </tr>\n",
       "    <tr>\n",
       "      <th>2414</th>\n",
       "      <td>[принтер, печатает, ,, иногда, картридж, не, с...</td>\n",
       "      <td>2024-11-21</td>\n",
       "      <td>4</td>\n",
       "      <td>69</td>\n",
       "      <td>0</td>\n",
       "      <td>1</td>\n",
       "      <td>0</td>\n",
       "    </tr>\n",
       "    <tr>\n",
       "      <th>2415</th>\n",
       "      <td>[смартфон, нормальный, ,, экран, немого, тускл...</td>\n",
       "      <td>2024-10-30</td>\n",
       "      <td>3</td>\n",
       "      <td>55</td>\n",
       "      <td>1</td>\n",
       "      <td>1</td>\n",
       "      <td>0</td>\n",
       "    </tr>\n",
       "  </tbody>\n",
       "</table>\n",
       "<p>2416 rows × 7 columns</p>\n",
       "</div>"
      ]
     },
     "execution_count": 29,
     "metadata": {},
     "output_type": "execute_result"
    }
   ],
   "execution_count": 29
  },
  {
   "metadata": {
    "ExecuteTime": {
     "end_time": "2025-01-15T10:29:52.511414Z",
     "start_time": "2025-01-15T10:29:52.501414Z"
    }
   },
   "cell_type": "code",
   "source": "exceptions_punctuation = {\"!\", \"?\", \"-\",}",
   "id": "b8df8e2b56ec52d7",
   "outputs": [],
   "execution_count": 30
  },
  {
   "metadata": {
    "ExecuteTime": {
     "end_time": "2025-01-15T10:29:53.546265Z",
     "start_time": "2025-01-15T10:29:53.531306Z"
    }
   },
   "cell_type": "code",
   "source": [
    "import string\n",
    "for tokens in reviews:\n",
    "    for token in tokens:\n",
    "        if token in string.punctuation and token not in exceptions_punctuation:\n",
    "            tokens.remove(token)"
   ],
   "id": "16c7aad6a5bff23f",
   "outputs": [],
   "execution_count": 31
  },
  {
   "metadata": {
    "ExecuteTime": {
     "end_time": "2025-01-15T10:29:54.381392Z",
     "start_time": "2025-01-15T10:29:54.371362Z"
    }
   },
   "cell_type": "code",
   "source": "reviews[1]",
   "id": "e5193cb6f6c504f4",
   "outputs": [
    {
     "data": {
      "text/plain": [
       "['шикарная',\n",
       " 'начиталась',\n",
       " 'отзывы',\n",
       " 'рискнула',\n",
       " 'что',\n",
       " 'будет',\n",
       " 'после',\n",
       " 'стирки',\n",
       " 'время',\n",
       " 'покажет',\n",
       " 'верх',\n",
       " 'покупаю',\n",
       " '54',\n",
       " 'размер',\n",
       " 'эту',\n",
       " 'было',\n",
       " 'и',\n",
       " '48',\n",
       " 'заказать',\n",
       " 'не',\n",
       " 'стала',\n",
       " 'взяла',\n",
       " '50.спасибо',\n",
       " 'очень',\n",
       " 'понравилась']"
      ]
     },
     "execution_count": 32,
     "metadata": {},
     "output_type": "execute_result"
    }
   ],
   "execution_count": 32
  },
  {
   "metadata": {
    "ExecuteTime": {
     "end_time": "2025-01-15T10:29:55.203986Z",
     "start_time": "2025-01-15T10:29:55.184977Z"
    }
   },
   "cell_type": "code",
   "source": "df",
   "id": "ce447bf8f555b426",
   "outputs": [
    {
     "data": {
      "text/plain": [
       "                                            User review Review date  \\\n",
       "0     [достоинства, все, устроило, нормальная, демис...  2024-10-09   \n",
       "1     [шикарная, начиталась, отзывы, рискнула, что, ...  2024-10-09   \n",
       "2                                  [дочке, понравилась]  2024-10-09   \n",
       "3                  [пока, не, одевала, то, что, хотела]  2024-10-09   \n",
       "4                                    [отличная, куртка]  2024-10-09   \n",
       "...                                                 ...         ...   \n",
       "2411  [гриль, хороший, сложно, чистить, решетку, так...  2024-10-06   \n",
       "2412  [тостер, работает, нормально, крутилки, слишко...  2024-12-08   \n",
       "2413  [чайник, хороший, крышка, чут-чуть, заедает, и...  2024-12-13   \n",
       "2414  [принтер, печатает, иногда, картридж, не, совс...  2024-11-21   \n",
       "2415   [смартфон, нормальный, экран, немого, тускловат]  2024-10-30   \n",
       "\n",
       "      Star review  Text length Has media  Has answer  Written by bot  \n",
       "0               5           54         0           0               0  \n",
       "1               5          195         0           0               0  \n",
       "2               5           17         0           0               0  \n",
       "3               5           33         0           0               0  \n",
       "4               5           15         0           0               0  \n",
       "...           ...          ...       ...         ...             ...  \n",
       "2411            4           76         1           1               0  \n",
       "2412            3           75         0           0               0  \n",
       "2413            4           73         0           0               0  \n",
       "2414            4           69         0           1               0  \n",
       "2415            3           55         1           1               0  \n",
       "\n",
       "[2416 rows x 7 columns]"
      ],
      "text/html": [
       "<div>\n",
       "<style scoped>\n",
       "    .dataframe tbody tr th:only-of-type {\n",
       "        vertical-align: middle;\n",
       "    }\n",
       "\n",
       "    .dataframe tbody tr th {\n",
       "        vertical-align: top;\n",
       "    }\n",
       "\n",
       "    .dataframe thead th {\n",
       "        text-align: right;\n",
       "    }\n",
       "</style>\n",
       "<table border=\"1\" class=\"dataframe\">\n",
       "  <thead>\n",
       "    <tr style=\"text-align: right;\">\n",
       "      <th></th>\n",
       "      <th>User review</th>\n",
       "      <th>Review date</th>\n",
       "      <th>Star review</th>\n",
       "      <th>Text length</th>\n",
       "      <th>Has media</th>\n",
       "      <th>Has answer</th>\n",
       "      <th>Written by bot</th>\n",
       "    </tr>\n",
       "  </thead>\n",
       "  <tbody>\n",
       "    <tr>\n",
       "      <th>0</th>\n",
       "      <td>[достоинства, все, устроило, нормальная, демис...</td>\n",
       "      <td>2024-10-09</td>\n",
       "      <td>5</td>\n",
       "      <td>54</td>\n",
       "      <td>0</td>\n",
       "      <td>0</td>\n",
       "      <td>0</td>\n",
       "    </tr>\n",
       "    <tr>\n",
       "      <th>1</th>\n",
       "      <td>[шикарная, начиталась, отзывы, рискнула, что, ...</td>\n",
       "      <td>2024-10-09</td>\n",
       "      <td>5</td>\n",
       "      <td>195</td>\n",
       "      <td>0</td>\n",
       "      <td>0</td>\n",
       "      <td>0</td>\n",
       "    </tr>\n",
       "    <tr>\n",
       "      <th>2</th>\n",
       "      <td>[дочке, понравилась]</td>\n",
       "      <td>2024-10-09</td>\n",
       "      <td>5</td>\n",
       "      <td>17</td>\n",
       "      <td>0</td>\n",
       "      <td>0</td>\n",
       "      <td>0</td>\n",
       "    </tr>\n",
       "    <tr>\n",
       "      <th>3</th>\n",
       "      <td>[пока, не, одевала, то, что, хотела]</td>\n",
       "      <td>2024-10-09</td>\n",
       "      <td>5</td>\n",
       "      <td>33</td>\n",
       "      <td>0</td>\n",
       "      <td>0</td>\n",
       "      <td>0</td>\n",
       "    </tr>\n",
       "    <tr>\n",
       "      <th>4</th>\n",
       "      <td>[отличная, куртка]</td>\n",
       "      <td>2024-10-09</td>\n",
       "      <td>5</td>\n",
       "      <td>15</td>\n",
       "      <td>0</td>\n",
       "      <td>0</td>\n",
       "      <td>0</td>\n",
       "    </tr>\n",
       "    <tr>\n",
       "      <th>...</th>\n",
       "      <td>...</td>\n",
       "      <td>...</td>\n",
       "      <td>...</td>\n",
       "      <td>...</td>\n",
       "      <td>...</td>\n",
       "      <td>...</td>\n",
       "      <td>...</td>\n",
       "    </tr>\n",
       "    <tr>\n",
       "      <th>2411</th>\n",
       "      <td>[гриль, хороший, сложно, чистить, решетку, так...</td>\n",
       "      <td>2024-10-06</td>\n",
       "      <td>4</td>\n",
       "      <td>76</td>\n",
       "      <td>1</td>\n",
       "      <td>1</td>\n",
       "      <td>0</td>\n",
       "    </tr>\n",
       "    <tr>\n",
       "      <th>2412</th>\n",
       "      <td>[тостер, работает, нормально, крутилки, слишко...</td>\n",
       "      <td>2024-12-08</td>\n",
       "      <td>3</td>\n",
       "      <td>75</td>\n",
       "      <td>0</td>\n",
       "      <td>0</td>\n",
       "      <td>0</td>\n",
       "    </tr>\n",
       "    <tr>\n",
       "      <th>2413</th>\n",
       "      <td>[чайник, хороший, крышка, чут-чуть, заедает, и...</td>\n",
       "      <td>2024-12-13</td>\n",
       "      <td>4</td>\n",
       "      <td>73</td>\n",
       "      <td>0</td>\n",
       "      <td>0</td>\n",
       "      <td>0</td>\n",
       "    </tr>\n",
       "    <tr>\n",
       "      <th>2414</th>\n",
       "      <td>[принтер, печатает, иногда, картридж, не, совс...</td>\n",
       "      <td>2024-11-21</td>\n",
       "      <td>4</td>\n",
       "      <td>69</td>\n",
       "      <td>0</td>\n",
       "      <td>1</td>\n",
       "      <td>0</td>\n",
       "    </tr>\n",
       "    <tr>\n",
       "      <th>2415</th>\n",
       "      <td>[смартфон, нормальный, экран, немого, тускловат]</td>\n",
       "      <td>2024-10-30</td>\n",
       "      <td>3</td>\n",
       "      <td>55</td>\n",
       "      <td>1</td>\n",
       "      <td>1</td>\n",
       "      <td>0</td>\n",
       "    </tr>\n",
       "  </tbody>\n",
       "</table>\n",
       "<p>2416 rows × 7 columns</p>\n",
       "</div>"
      ]
     },
     "execution_count": 33,
     "metadata": {},
     "output_type": "execute_result"
    }
   ],
   "execution_count": 33
  },
  {
   "metadata": {
    "ExecuteTime": {
     "end_time": "2025-01-15T10:29:57.999672Z",
     "start_time": "2025-01-15T10:29:57.985675Z"
    }
   },
   "cell_type": "code",
   "source": [
    "import json\n",
    "df['User review'] = df['User review'].apply(json.dumps)\n",
    "# df.to_csv(DIRECTORY_PATH + \"\\\\parser\\\\dataframes\\\\main_df.csv\")"
   ],
   "id": "5a774b56e229d9ed",
   "outputs": [],
   "execution_count": 34
  },
  {
   "metadata": {
    "ExecuteTime": {
     "end_time": "2025-01-15T10:30:00.092645Z",
     "start_time": "2025-01-15T10:30:00.063893Z"
    }
   },
   "cell_type": "code",
   "source": "df.to_csv(DIRECTORY_PATH + \"\\\\parser\\\\dataframes\\\\preprocessed_main_df.csv\")",
   "id": "a5d4156a599db5c1",
   "outputs": [],
   "execution_count": 35
  }
 ],
 "metadata": {
  "kernelspec": {
   "display_name": "Python 3",
   "language": "python",
   "name": "python3"
  },
  "language_info": {
   "codemirror_mode": {
    "name": "ipython",
    "version": 2
   },
   "file_extension": ".py",
   "mimetype": "text/x-python",
   "name": "python",
   "nbconvert_exporter": "python",
   "pygments_lexer": "ipython2",
   "version": "2.7.6"
  }
 },
 "nbformat": 4,
 "nbformat_minor": 5
}
