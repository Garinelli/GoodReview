{
 "cells": [
  {
   "cell_type": "code",
   "id": "initial_id",
   "metadata": {
    "collapsed": true,
    "ExecuteTime": {
     "end_time": "2024-11-26T06:57:11.577487Z",
     "start_time": "2024-11-26T06:57:07.498249Z"
    }
   },
   "source": [
    "import os\n",
    "import pandas as pd\n",
    "import nltk"
   ],
   "outputs": [],
   "execution_count": 2
  },
  {
   "metadata": {
    "ExecuteTime": {
     "end_time": "2024-11-26T06:57:12.150995Z",
     "start_time": "2024-11-26T06:57:12.143996Z"
    }
   },
   "cell_type": "code",
   "source": [
    "BASE_DIR = os.getcwd()\n",
    "DIRECTORY_PATH = os.path.dirname(BASE_DIR)\n",
    "DF_PATH = DIRECTORY_PATH + \"\\\\parser\\\\dataframes\\\\main_df.csv\""
   ],
   "id": "be81b1eda2717c1b",
   "outputs": [],
   "execution_count": 3
  },
  {
   "metadata": {
    "ExecuteTime": {
     "end_time": "2024-11-26T06:57:12.960422Z",
     "start_time": "2024-11-26T06:57:12.930423Z"
    }
   },
   "cell_type": "code",
   "source": "df = pd.read_csv(DF_PATH)",
   "id": "69b6d55047fc4924",
   "outputs": [],
   "execution_count": 4
  },
  {
   "metadata": {},
   "cell_type": "markdown",
   "source": "# NLTK",
   "id": "6a05d941b38690de"
  },
  {
   "metadata": {
    "ExecuteTime": {
     "end_time": "2024-11-26T06:57:17.621350Z",
     "start_time": "2024-11-26T06:57:17.078886Z"
    }
   },
   "cell_type": "code",
   "source": [
    "nltk.download('punkt_tab')\n",
    "nltk.download('punkt')\n",
    "nltk.download('stopwords')"
   ],
   "id": "1447a884ad73acba",
   "outputs": [
    {
     "name": "stderr",
     "output_type": "stream",
     "text": [
      "[nltk_data] Downloading package punkt_tab to\n",
      "[nltk_data]     C:\\Users\\amr\\AppData\\Roaming\\nltk_data...\n",
      "[nltk_data]   Package punkt_tab is already up-to-date!\n",
      "[nltk_data] Downloading package punkt to\n",
      "[nltk_data]     C:\\Users\\amr\\AppData\\Roaming\\nltk_data...\n",
      "[nltk_data]   Package punkt is already up-to-date!\n",
      "[nltk_data] Downloading package stopwords to\n",
      "[nltk_data]     C:\\Users\\amr\\AppData\\Roaming\\nltk_data...\n",
      "[nltk_data]   Package stopwords is already up-to-date!\n"
     ]
    },
    {
     "data": {
      "text/plain": [
       "True"
      ]
     },
     "execution_count": 5,
     "metadata": {},
     "output_type": "execute_result"
    }
   ],
   "execution_count": 5
  },
  {
   "metadata": {
    "ExecuteTime": {
     "end_time": "2024-11-26T06:58:16.951423Z",
     "start_time": "2024-11-26T06:58:16.943438Z"
    }
   },
   "cell_type": "code",
   "source": "reviews = df['User review'].values",
   "id": "fb646d1f4a784f0f",
   "outputs": [],
   "execution_count": 10
  },
  {
   "metadata": {},
   "cell_type": "markdown",
   "source": "# Приведение к нижнему регистру",
   "id": "3a22b49bec6856"
  },
  {
   "metadata": {
    "ExecuteTime": {
     "end_time": "2024-11-26T07:04:40.266823Z",
     "start_time": "2024-11-26T07:04:40.257797Z"
    }
   },
   "cell_type": "code",
   "source": [
    "for index, review in enumerate(reviews):\n",
    "    reviews[index] = review.lower()"
   ],
   "id": "c6b577af8f55f9df",
   "outputs": [],
   "execution_count": 14
  },
  {
   "metadata": {},
   "cell_type": "markdown",
   "source": "# Токенизация текста",
   "id": "1956f6a83bc5f01d"
  },
  {
   "metadata": {
    "ExecuteTime": {
     "end_time": "2024-11-26T07:05:55.713890Z",
     "start_time": "2024-11-26T07:05:55.374890Z"
    }
   },
   "cell_type": "code",
   "source": [
    "from nltk.tokenize import word_tokenize\n",
    "\n",
    "for index, review in enumerate(reviews):\n",
    "    tokens = word_tokenize(review)\n",
    "    tokens = [word for word in tokens]\n",
    "    reviews[index] = tokens"
   ],
   "id": "a00e0610a39f9792",
   "outputs": [],
   "execution_count": 18
  },
  {
   "metadata": {
    "ExecuteTime": {
     "end_time": "2024-11-26T07:08:47.721847Z",
     "start_time": "2024-11-26T07:08:47.704845Z"
    }
   },
   "cell_type": "code",
   "source": [
    "# reviews[15]\n",
    "reviews[0]"
   ],
   "id": "e91a72bc4685537d",
   "outputs": [
    {
     "data": {
      "text/plain": [
       "['достоинства', 'все', 'устроило', 'нормальная', 'демисезонка']"
      ]
     },
     "execution_count": 22,
     "metadata": {},
     "output_type": "execute_result"
    }
   ],
   "execution_count": 22
  },
  {
   "metadata": {},
   "cell_type": "markdown",
   "source": "# Stop words",
   "id": "fe04012ffa369348"
  },
  {
   "metadata": {
    "ExecuteTime": {
     "end_time": "2024-11-26T07:11:14.079289Z",
     "start_time": "2024-11-26T07:11:14.073304Z"
    }
   },
   "cell_type": "code",
   "source": [
    "from nltk.corpus import stopwords\n",
    "from nltk.tokenize import word_tokenize\n",
    "stop_words = set(stopwords.words('russian'))\n",
    "exceptions = {\n",
    "    \"не\", \"ни\", \"нет\", \"да\", \"или\", \"и\", \"так\", \"потому\", \"что\", \"когда\", \n",
    "    \"где\", \"кто\", \"что\", \"как\", \"зачем\", \"почему\", \"будто\", \"бы\", \"вдруг\", \n",
    "    \"пусть\", \"тоже\", \"все\", \"всё\", \"этот\", \"та\", \"такой\", \"сам\", \"только\", \n",
    "    \"другой\", \"ещё\", \"возможно\", \"почему\", \"впрочем\", \"хотя\", \"тем\", \"вместо\", \n",
    "    \"между\", \"также\", \"тогда\", \"вдобавок\", \"после\", \"перед\", \"наоборот\", \n",
    "    \"поэтому\", \"то\", \"тогда\", \"когда\", \"если\", \"даже\", \"включая\", \"совсем\", \n",
    "    \"именно\", \"через\", \"сейчас\", \"когда\", \"будет\", \"для\", \"от\", \"среди\"\n",
    "}"
   ],
   "id": "77ce81549f338e2d",
   "outputs": [],
   "execution_count": 26
  },
  {
   "metadata": {
    "ExecuteTime": {
     "end_time": "2024-11-26T07:11:14.598399Z",
     "start_time": "2024-11-26T07:11:14.584401Z"
    }
   },
   "cell_type": "code",
   "source": [
    "for tokens in reviews:\n",
    "    for token in tokens:\n",
    "        if token in stop_words and token not in exceptions:\n",
    "            tokens.remove(token)"
   ],
   "id": "6b41d2bbd19228b5",
   "outputs": [],
   "execution_count": 27
  },
  {
   "metadata": {
    "ExecuteTime": {
     "end_time": "2024-11-26T07:12:20.111695Z",
     "start_time": "2024-11-26T07:12:20.096696Z"
    }
   },
   "cell_type": "code",
   "source": "reviews[15]",
   "id": "26638babf5e58907",
   "outputs": [
    {
     "data": {
      "text/plain": [
       "['курутая',\n",
       " ',',\n",
       " 'балдею',\n",
       " '.',\n",
       " 'продувает',\n",
       " 'ветре',\n",
       " ',',\n",
       " '-',\n",
       " '5.',\n",
       " 'транспорте',\n",
       " 'не',\n",
       " 'жарко',\n",
       " '.']"
      ]
     },
     "execution_count": 32,
     "metadata": {},
     "output_type": "execute_result"
    }
   ],
   "execution_count": 32
  },
  {
   "metadata": {},
   "cell_type": "markdown",
   "source": "# Лемматизация",
   "id": "b1694d1d74889d8a"
  },
  {
   "metadata": {
    "ExecuteTime": {
     "end_time": "2024-11-26T07:12:23.960636Z",
     "start_time": "2024-11-26T07:12:23.886636Z"
    }
   },
   "cell_type": "code",
   "source": "nltk.download('omw-1.4')",
   "id": "1d69ebf745ce360a",
   "outputs": [
    {
     "name": "stderr",
     "output_type": "stream",
     "text": [
      "[nltk_data] Downloading package omw-1.4 to\n",
      "[nltk_data]     C:\\Users\\amr\\AppData\\Roaming\\nltk_data...\n",
      "[nltk_data]   Package omw-1.4 is already up-to-date!\n"
     ]
    },
    {
     "data": {
      "text/plain": [
       "True"
      ]
     },
     "execution_count": 33,
     "metadata": {},
     "output_type": "execute_result"
    }
   ],
   "execution_count": 33
  },
  {
   "metadata": {
    "ExecuteTime": {
     "end_time": "2024-11-26T07:12:24.943710Z",
     "start_time": "2024-11-26T07:12:24.709679Z"
    }
   },
   "cell_type": "code",
   "source": [
    "import pymorphy2\n",
    "\n",
    "morph = pymorphy2.MorphAnalyzer()"
   ],
   "id": "ffeaa247bf220c0a",
   "outputs": [],
   "execution_count": 34
  },
  {
   "metadata": {
    "ExecuteTime": {
     "end_time": "2024-11-26T07:14:01.435922Z",
     "start_time": "2024-11-26T07:13:58.458427Z"
    }
   },
   "cell_type": "code",
   "source": [
    "for tokens in reviews:\n",
    "    for index, token in enumerate(tokens):\n",
    "        lemma = morph.parse(token)[0].normal_form\n",
    "        tokens[index] = lemma\n",
    "# for index, review in enumerate(reviews):\n",
    "#     words = word_tokenize(review)\n",
    "#     stemmed_words = [morph.parse(word)[0].normal_form for word in words]\n",
    "#     result_review = ' '.join(stemmed_words)\n",
    "#     reviews[index] = result_review"
   ],
   "id": "f448d2694ed137b7",
   "outputs": [],
   "execution_count": 35
  },
  {
   "metadata": {
    "ExecuteTime": {
     "end_time": "2024-11-26T07:14:15.784692Z",
     "start_time": "2024-11-26T07:14:15.766696Z"
    }
   },
   "cell_type": "code",
   "source": "reviews[12]",
   "id": "134b1c0355954899",
   "outputs": [
    {
     "data": {
      "text/plain": [
       "['хороший', 'куртка', 'и', 'пошить']"
      ]
     },
     "execution_count": 38,
     "metadata": {},
     "output_type": "execute_result"
    }
   ],
   "execution_count": 38
  },
  {
   "metadata": {
    "ExecuteTime": {
     "end_time": "2024-11-26T07:14:31.508091Z",
     "start_time": "2024-11-26T07:14:31.502094Z"
    }
   },
   "cell_type": "code",
   "source": "reviews = list(reviews)",
   "id": "c9979b903ada9018",
   "outputs": [],
   "execution_count": 39
  },
  {
   "metadata": {
    "ExecuteTime": {
     "end_time": "2024-11-26T07:14:36.045032Z",
     "start_time": "2024-11-26T07:14:36.010932Z"
    }
   },
   "cell_type": "code",
   "source": "df",
   "id": "588d21e40ac34edf",
   "outputs": [
    {
     "data": {
      "text/plain": [
       "      Unnamed: 0                                        User review  \\\n",
       "0            0.0  [достоинство, всё, устроить, нормальный, демис...   \n",
       "1            1.0  [шикарный, ,, начитаться, отзыв, ,, рискнуть, ...   \n",
       "2            2.0                               [дочка, понравиться]   \n",
       "3            3.0            [пока, не, одевать, ,, то, что, хотеть]   \n",
       "4            4.0                                 [отличный, куртка]   \n",
       "...          ...                                                ...   \n",
       "1911       203.0  [всё, быстро, ,, чётко, и, проблема, ., ставит...   \n",
       "1912       204.0  [отличный, магазин, !, ваш, постоянный, клиент...   \n",
       "1913       205.0  [широкий, ассортимент, и, высокий, качество, о...   \n",
       "1914       206.0  [всё, чётко, ,, оперативно, и, нарекание, ., д...   \n",
       "1915       207.0  [обратный, связь, высокий, уровень, ,, всё, во...   \n",
       "\n",
       "     Review date  Star review  Text length  Has media  Has answer  \\\n",
       "0     2024-10-09            5           54          0           0   \n",
       "1     2024-10-09            5          195          0           0   \n",
       "2     2024-10-09            5           17          0           0   \n",
       "3     2024-10-09            5           33          0           0   \n",
       "4     2024-10-09            5           15          0           0   \n",
       "...          ...          ...          ...        ...         ...   \n",
       "1911  2024-11-03            5           55          1           1   \n",
       "1912  2024-11-02            5           56          0           0   \n",
       "1913  2024-11-01            5           57          1           1   \n",
       "1914  2024-10-31            5           57          1           0   \n",
       "1915  2024-10-30            5           61          0           0   \n",
       "\n",
       "     Written by bot  \n",
       "0                 0  \n",
       "1                 0  \n",
       "2                 0  \n",
       "3                 0  \n",
       "4                 0  \n",
       "...             ...  \n",
       "1911           True  \n",
       "1912           True  \n",
       "1913           True  \n",
       "1914           True  \n",
       "1915           True  \n",
       "\n",
       "[1916 rows x 8 columns]"
      ],
      "text/html": [
       "<div>\n",
       "<style scoped>\n",
       "    .dataframe tbody tr th:only-of-type {\n",
       "        vertical-align: middle;\n",
       "    }\n",
       "\n",
       "    .dataframe tbody tr th {\n",
       "        vertical-align: top;\n",
       "    }\n",
       "\n",
       "    .dataframe thead th {\n",
       "        text-align: right;\n",
       "    }\n",
       "</style>\n",
       "<table border=\"1\" class=\"dataframe\">\n",
       "  <thead>\n",
       "    <tr style=\"text-align: right;\">\n",
       "      <th></th>\n",
       "      <th>Unnamed: 0</th>\n",
       "      <th>User review</th>\n",
       "      <th>Review date</th>\n",
       "      <th>Star review</th>\n",
       "      <th>Text length</th>\n",
       "      <th>Has media</th>\n",
       "      <th>Has answer</th>\n",
       "      <th>Written by bot</th>\n",
       "    </tr>\n",
       "  </thead>\n",
       "  <tbody>\n",
       "    <tr>\n",
       "      <th>0</th>\n",
       "      <td>0.0</td>\n",
       "      <td>[достоинство, всё, устроить, нормальный, демис...</td>\n",
       "      <td>2024-10-09</td>\n",
       "      <td>5</td>\n",
       "      <td>54</td>\n",
       "      <td>0</td>\n",
       "      <td>0</td>\n",
       "      <td>0</td>\n",
       "    </tr>\n",
       "    <tr>\n",
       "      <th>1</th>\n",
       "      <td>1.0</td>\n",
       "      <td>[шикарный, ,, начитаться, отзыв, ,, рискнуть, ...</td>\n",
       "      <td>2024-10-09</td>\n",
       "      <td>5</td>\n",
       "      <td>195</td>\n",
       "      <td>0</td>\n",
       "      <td>0</td>\n",
       "      <td>0</td>\n",
       "    </tr>\n",
       "    <tr>\n",
       "      <th>2</th>\n",
       "      <td>2.0</td>\n",
       "      <td>[дочка, понравиться]</td>\n",
       "      <td>2024-10-09</td>\n",
       "      <td>5</td>\n",
       "      <td>17</td>\n",
       "      <td>0</td>\n",
       "      <td>0</td>\n",
       "      <td>0</td>\n",
       "    </tr>\n",
       "    <tr>\n",
       "      <th>3</th>\n",
       "      <td>3.0</td>\n",
       "      <td>[пока, не, одевать, ,, то, что, хотеть]</td>\n",
       "      <td>2024-10-09</td>\n",
       "      <td>5</td>\n",
       "      <td>33</td>\n",
       "      <td>0</td>\n",
       "      <td>0</td>\n",
       "      <td>0</td>\n",
       "    </tr>\n",
       "    <tr>\n",
       "      <th>4</th>\n",
       "      <td>4.0</td>\n",
       "      <td>[отличный, куртка]</td>\n",
       "      <td>2024-10-09</td>\n",
       "      <td>5</td>\n",
       "      <td>15</td>\n",
       "      <td>0</td>\n",
       "      <td>0</td>\n",
       "      <td>0</td>\n",
       "    </tr>\n",
       "    <tr>\n",
       "      <th>...</th>\n",
       "      <td>...</td>\n",
       "      <td>...</td>\n",
       "      <td>...</td>\n",
       "      <td>...</td>\n",
       "      <td>...</td>\n",
       "      <td>...</td>\n",
       "      <td>...</td>\n",
       "      <td>...</td>\n",
       "    </tr>\n",
       "    <tr>\n",
       "      <th>1911</th>\n",
       "      <td>203.0</td>\n",
       "      <td>[всё, быстро, ,, чётко, и, проблема, ., ставит...</td>\n",
       "      <td>2024-11-03</td>\n",
       "      <td>5</td>\n",
       "      <td>55</td>\n",
       "      <td>1</td>\n",
       "      <td>1</td>\n",
       "      <td>True</td>\n",
       "    </tr>\n",
       "    <tr>\n",
       "      <th>1912</th>\n",
       "      <td>204.0</td>\n",
       "      <td>[отличный, магазин, !, ваш, постоянный, клиент...</td>\n",
       "      <td>2024-11-02</td>\n",
       "      <td>5</td>\n",
       "      <td>56</td>\n",
       "      <td>0</td>\n",
       "      <td>0</td>\n",
       "      <td>True</td>\n",
       "    </tr>\n",
       "    <tr>\n",
       "      <th>1913</th>\n",
       "      <td>205.0</td>\n",
       "      <td>[широкий, ассортимент, и, высокий, качество, о...</td>\n",
       "      <td>2024-11-01</td>\n",
       "      <td>5</td>\n",
       "      <td>57</td>\n",
       "      <td>1</td>\n",
       "      <td>1</td>\n",
       "      <td>True</td>\n",
       "    </tr>\n",
       "    <tr>\n",
       "      <th>1914</th>\n",
       "      <td>206.0</td>\n",
       "      <td>[всё, чётко, ,, оперативно, и, нарекание, ., д...</td>\n",
       "      <td>2024-10-31</td>\n",
       "      <td>5</td>\n",
       "      <td>57</td>\n",
       "      <td>1</td>\n",
       "      <td>0</td>\n",
       "      <td>True</td>\n",
       "    </tr>\n",
       "    <tr>\n",
       "      <th>1915</th>\n",
       "      <td>207.0</td>\n",
       "      <td>[обратный, связь, высокий, уровень, ,, всё, во...</td>\n",
       "      <td>2024-10-30</td>\n",
       "      <td>5</td>\n",
       "      <td>61</td>\n",
       "      <td>0</td>\n",
       "      <td>0</td>\n",
       "      <td>True</td>\n",
       "    </tr>\n",
       "  </tbody>\n",
       "</table>\n",
       "<p>1916 rows × 8 columns</p>\n",
       "</div>"
      ]
     },
     "execution_count": 40,
     "metadata": {},
     "output_type": "execute_result"
    }
   ],
   "execution_count": 40
  },
  {
   "metadata": {
    "ExecuteTime": {
     "end_time": "2024-11-26T07:15:29.052568Z",
     "start_time": "2024-11-26T07:15:29.037566Z"
    }
   },
   "cell_type": "code",
   "source": "df = df.drop(columns=['Unnamed: 0'])",
   "id": "496ce9881d6e08b5",
   "outputs": [],
   "execution_count": 41
  },
  {
   "metadata": {
    "ExecuteTime": {
     "end_time": "2024-11-26T07:15:30.973930Z",
     "start_time": "2024-11-26T07:15:30.949903Z"
    }
   },
   "cell_type": "code",
   "source": "df",
   "id": "ba56317733ff1412",
   "outputs": [
    {
     "data": {
      "text/plain": [
       "                                            User review Review date  \\\n",
       "0     [достоинство, всё, устроить, нормальный, демис...  2024-10-09   \n",
       "1     [шикарный, ,, начитаться, отзыв, ,, рискнуть, ...  2024-10-09   \n",
       "2                                  [дочка, понравиться]  2024-10-09   \n",
       "3               [пока, не, одевать, ,, то, что, хотеть]  2024-10-09   \n",
       "4                                    [отличный, куртка]  2024-10-09   \n",
       "...                                                 ...         ...   \n",
       "1911  [всё, быстро, ,, чётко, и, проблема, ., ставит...  2024-11-03   \n",
       "1912  [отличный, магазин, !, ваш, постоянный, клиент...  2024-11-02   \n",
       "1913  [широкий, ассортимент, и, высокий, качество, о...  2024-11-01   \n",
       "1914  [всё, чётко, ,, оперативно, и, нарекание, ., д...  2024-10-31   \n",
       "1915  [обратный, связь, высокий, уровень, ,, всё, во...  2024-10-30   \n",
       "\n",
       "      Star review  Text length  Has media  Has answer Written by bot  \n",
       "0               5           54          0           0              0  \n",
       "1               5          195          0           0              0  \n",
       "2               5           17          0           0              0  \n",
       "3               5           33          0           0              0  \n",
       "4               5           15          0           0              0  \n",
       "...           ...          ...        ...         ...            ...  \n",
       "1911            5           55          1           1           True  \n",
       "1912            5           56          0           0           True  \n",
       "1913            5           57          1           1           True  \n",
       "1914            5           57          1           0           True  \n",
       "1915            5           61          0           0           True  \n",
       "\n",
       "[1916 rows x 7 columns]"
      ],
      "text/html": [
       "<div>\n",
       "<style scoped>\n",
       "    .dataframe tbody tr th:only-of-type {\n",
       "        vertical-align: middle;\n",
       "    }\n",
       "\n",
       "    .dataframe tbody tr th {\n",
       "        vertical-align: top;\n",
       "    }\n",
       "\n",
       "    .dataframe thead th {\n",
       "        text-align: right;\n",
       "    }\n",
       "</style>\n",
       "<table border=\"1\" class=\"dataframe\">\n",
       "  <thead>\n",
       "    <tr style=\"text-align: right;\">\n",
       "      <th></th>\n",
       "      <th>User review</th>\n",
       "      <th>Review date</th>\n",
       "      <th>Star review</th>\n",
       "      <th>Text length</th>\n",
       "      <th>Has media</th>\n",
       "      <th>Has answer</th>\n",
       "      <th>Written by bot</th>\n",
       "    </tr>\n",
       "  </thead>\n",
       "  <tbody>\n",
       "    <tr>\n",
       "      <th>0</th>\n",
       "      <td>[достоинство, всё, устроить, нормальный, демис...</td>\n",
       "      <td>2024-10-09</td>\n",
       "      <td>5</td>\n",
       "      <td>54</td>\n",
       "      <td>0</td>\n",
       "      <td>0</td>\n",
       "      <td>0</td>\n",
       "    </tr>\n",
       "    <tr>\n",
       "      <th>1</th>\n",
       "      <td>[шикарный, ,, начитаться, отзыв, ,, рискнуть, ...</td>\n",
       "      <td>2024-10-09</td>\n",
       "      <td>5</td>\n",
       "      <td>195</td>\n",
       "      <td>0</td>\n",
       "      <td>0</td>\n",
       "      <td>0</td>\n",
       "    </tr>\n",
       "    <tr>\n",
       "      <th>2</th>\n",
       "      <td>[дочка, понравиться]</td>\n",
       "      <td>2024-10-09</td>\n",
       "      <td>5</td>\n",
       "      <td>17</td>\n",
       "      <td>0</td>\n",
       "      <td>0</td>\n",
       "      <td>0</td>\n",
       "    </tr>\n",
       "    <tr>\n",
       "      <th>3</th>\n",
       "      <td>[пока, не, одевать, ,, то, что, хотеть]</td>\n",
       "      <td>2024-10-09</td>\n",
       "      <td>5</td>\n",
       "      <td>33</td>\n",
       "      <td>0</td>\n",
       "      <td>0</td>\n",
       "      <td>0</td>\n",
       "    </tr>\n",
       "    <tr>\n",
       "      <th>4</th>\n",
       "      <td>[отличный, куртка]</td>\n",
       "      <td>2024-10-09</td>\n",
       "      <td>5</td>\n",
       "      <td>15</td>\n",
       "      <td>0</td>\n",
       "      <td>0</td>\n",
       "      <td>0</td>\n",
       "    </tr>\n",
       "    <tr>\n",
       "      <th>...</th>\n",
       "      <td>...</td>\n",
       "      <td>...</td>\n",
       "      <td>...</td>\n",
       "      <td>...</td>\n",
       "      <td>...</td>\n",
       "      <td>...</td>\n",
       "      <td>...</td>\n",
       "    </tr>\n",
       "    <tr>\n",
       "      <th>1911</th>\n",
       "      <td>[всё, быстро, ,, чётко, и, проблема, ., ставит...</td>\n",
       "      <td>2024-11-03</td>\n",
       "      <td>5</td>\n",
       "      <td>55</td>\n",
       "      <td>1</td>\n",
       "      <td>1</td>\n",
       "      <td>True</td>\n",
       "    </tr>\n",
       "    <tr>\n",
       "      <th>1912</th>\n",
       "      <td>[отличный, магазин, !, ваш, постоянный, клиент...</td>\n",
       "      <td>2024-11-02</td>\n",
       "      <td>5</td>\n",
       "      <td>56</td>\n",
       "      <td>0</td>\n",
       "      <td>0</td>\n",
       "      <td>True</td>\n",
       "    </tr>\n",
       "    <tr>\n",
       "      <th>1913</th>\n",
       "      <td>[широкий, ассортимент, и, высокий, качество, о...</td>\n",
       "      <td>2024-11-01</td>\n",
       "      <td>5</td>\n",
       "      <td>57</td>\n",
       "      <td>1</td>\n",
       "      <td>1</td>\n",
       "      <td>True</td>\n",
       "    </tr>\n",
       "    <tr>\n",
       "      <th>1914</th>\n",
       "      <td>[всё, чётко, ,, оперативно, и, нарекание, ., д...</td>\n",
       "      <td>2024-10-31</td>\n",
       "      <td>5</td>\n",
       "      <td>57</td>\n",
       "      <td>1</td>\n",
       "      <td>0</td>\n",
       "      <td>True</td>\n",
       "    </tr>\n",
       "    <tr>\n",
       "      <th>1915</th>\n",
       "      <td>[обратный, связь, высокий, уровень, ,, всё, во...</td>\n",
       "      <td>2024-10-30</td>\n",
       "      <td>5</td>\n",
       "      <td>61</td>\n",
       "      <td>0</td>\n",
       "      <td>0</td>\n",
       "      <td>True</td>\n",
       "    </tr>\n",
       "  </tbody>\n",
       "</table>\n",
       "<p>1916 rows × 7 columns</p>\n",
       "</div>"
      ]
     },
     "execution_count": 42,
     "metadata": {},
     "output_type": "execute_result"
    }
   ],
   "execution_count": 42
  },
  {
   "metadata": {
    "ExecuteTime": {
     "end_time": "2024-11-26T07:16:38.625541Z",
     "start_time": "2024-11-26T07:16:38.618542Z"
    }
   },
   "cell_type": "code",
   "source": [
    "df['Written by bot'] = df['Written by bot'].replace(\"True\", 1)\n",
    "df['Written by bot'] = df['Written by bot'].replace(\"False\", 0)"
   ],
   "id": "d9fc946f841a942b",
   "outputs": [],
   "execution_count": 43
  },
  {
   "metadata": {
    "ExecuteTime": {
     "end_time": "2024-11-26T07:16:40.411252Z",
     "start_time": "2024-11-26T07:16:40.390252Z"
    }
   },
   "cell_type": "code",
   "source": "df",
   "id": "c893ae2d4be36658",
   "outputs": [
    {
     "data": {
      "text/plain": [
       "                                            User review Review date  \\\n",
       "0     [достоинство, всё, устроить, нормальный, демис...  2024-10-09   \n",
       "1     [шикарный, ,, начитаться, отзыв, ,, рискнуть, ...  2024-10-09   \n",
       "2                                  [дочка, понравиться]  2024-10-09   \n",
       "3               [пока, не, одевать, ,, то, что, хотеть]  2024-10-09   \n",
       "4                                    [отличный, куртка]  2024-10-09   \n",
       "...                                                 ...         ...   \n",
       "1911  [всё, быстро, ,, чётко, и, проблема, ., ставит...  2024-11-03   \n",
       "1912  [отличный, магазин, !, ваш, постоянный, клиент...  2024-11-02   \n",
       "1913  [широкий, ассортимент, и, высокий, качество, о...  2024-11-01   \n",
       "1914  [всё, чётко, ,, оперативно, и, нарекание, ., д...  2024-10-31   \n",
       "1915  [обратный, связь, высокий, уровень, ,, всё, во...  2024-10-30   \n",
       "\n",
       "      Star review  Text length  Has media  Has answer Written by bot  \n",
       "0               5           54          0           0              0  \n",
       "1               5          195          0           0              0  \n",
       "2               5           17          0           0              0  \n",
       "3               5           33          0           0              0  \n",
       "4               5           15          0           0              0  \n",
       "...           ...          ...        ...         ...            ...  \n",
       "1911            5           55          1           1              1  \n",
       "1912            5           56          0           0              1  \n",
       "1913            5           57          1           1              1  \n",
       "1914            5           57          1           0              1  \n",
       "1915            5           61          0           0              1  \n",
       "\n",
       "[1916 rows x 7 columns]"
      ],
      "text/html": [
       "<div>\n",
       "<style scoped>\n",
       "    .dataframe tbody tr th:only-of-type {\n",
       "        vertical-align: middle;\n",
       "    }\n",
       "\n",
       "    .dataframe tbody tr th {\n",
       "        vertical-align: top;\n",
       "    }\n",
       "\n",
       "    .dataframe thead th {\n",
       "        text-align: right;\n",
       "    }\n",
       "</style>\n",
       "<table border=\"1\" class=\"dataframe\">\n",
       "  <thead>\n",
       "    <tr style=\"text-align: right;\">\n",
       "      <th></th>\n",
       "      <th>User review</th>\n",
       "      <th>Review date</th>\n",
       "      <th>Star review</th>\n",
       "      <th>Text length</th>\n",
       "      <th>Has media</th>\n",
       "      <th>Has answer</th>\n",
       "      <th>Written by bot</th>\n",
       "    </tr>\n",
       "  </thead>\n",
       "  <tbody>\n",
       "    <tr>\n",
       "      <th>0</th>\n",
       "      <td>[достоинство, всё, устроить, нормальный, демис...</td>\n",
       "      <td>2024-10-09</td>\n",
       "      <td>5</td>\n",
       "      <td>54</td>\n",
       "      <td>0</td>\n",
       "      <td>0</td>\n",
       "      <td>0</td>\n",
       "    </tr>\n",
       "    <tr>\n",
       "      <th>1</th>\n",
       "      <td>[шикарный, ,, начитаться, отзыв, ,, рискнуть, ...</td>\n",
       "      <td>2024-10-09</td>\n",
       "      <td>5</td>\n",
       "      <td>195</td>\n",
       "      <td>0</td>\n",
       "      <td>0</td>\n",
       "      <td>0</td>\n",
       "    </tr>\n",
       "    <tr>\n",
       "      <th>2</th>\n",
       "      <td>[дочка, понравиться]</td>\n",
       "      <td>2024-10-09</td>\n",
       "      <td>5</td>\n",
       "      <td>17</td>\n",
       "      <td>0</td>\n",
       "      <td>0</td>\n",
       "      <td>0</td>\n",
       "    </tr>\n",
       "    <tr>\n",
       "      <th>3</th>\n",
       "      <td>[пока, не, одевать, ,, то, что, хотеть]</td>\n",
       "      <td>2024-10-09</td>\n",
       "      <td>5</td>\n",
       "      <td>33</td>\n",
       "      <td>0</td>\n",
       "      <td>0</td>\n",
       "      <td>0</td>\n",
       "    </tr>\n",
       "    <tr>\n",
       "      <th>4</th>\n",
       "      <td>[отличный, куртка]</td>\n",
       "      <td>2024-10-09</td>\n",
       "      <td>5</td>\n",
       "      <td>15</td>\n",
       "      <td>0</td>\n",
       "      <td>0</td>\n",
       "      <td>0</td>\n",
       "    </tr>\n",
       "    <tr>\n",
       "      <th>...</th>\n",
       "      <td>...</td>\n",
       "      <td>...</td>\n",
       "      <td>...</td>\n",
       "      <td>...</td>\n",
       "      <td>...</td>\n",
       "      <td>...</td>\n",
       "      <td>...</td>\n",
       "    </tr>\n",
       "    <tr>\n",
       "      <th>1911</th>\n",
       "      <td>[всё, быстро, ,, чётко, и, проблема, ., ставит...</td>\n",
       "      <td>2024-11-03</td>\n",
       "      <td>5</td>\n",
       "      <td>55</td>\n",
       "      <td>1</td>\n",
       "      <td>1</td>\n",
       "      <td>1</td>\n",
       "    </tr>\n",
       "    <tr>\n",
       "      <th>1912</th>\n",
       "      <td>[отличный, магазин, !, ваш, постоянный, клиент...</td>\n",
       "      <td>2024-11-02</td>\n",
       "      <td>5</td>\n",
       "      <td>56</td>\n",
       "      <td>0</td>\n",
       "      <td>0</td>\n",
       "      <td>1</td>\n",
       "    </tr>\n",
       "    <tr>\n",
       "      <th>1913</th>\n",
       "      <td>[широкий, ассортимент, и, высокий, качество, о...</td>\n",
       "      <td>2024-11-01</td>\n",
       "      <td>5</td>\n",
       "      <td>57</td>\n",
       "      <td>1</td>\n",
       "      <td>1</td>\n",
       "      <td>1</td>\n",
       "    </tr>\n",
       "    <tr>\n",
       "      <th>1914</th>\n",
       "      <td>[всё, чётко, ,, оперативно, и, нарекание, ., д...</td>\n",
       "      <td>2024-10-31</td>\n",
       "      <td>5</td>\n",
       "      <td>57</td>\n",
       "      <td>1</td>\n",
       "      <td>0</td>\n",
       "      <td>1</td>\n",
       "    </tr>\n",
       "    <tr>\n",
       "      <th>1915</th>\n",
       "      <td>[обратный, связь, высокий, уровень, ,, всё, во...</td>\n",
       "      <td>2024-10-30</td>\n",
       "      <td>5</td>\n",
       "      <td>61</td>\n",
       "      <td>0</td>\n",
       "      <td>0</td>\n",
       "      <td>1</td>\n",
       "    </tr>\n",
       "  </tbody>\n",
       "</table>\n",
       "<p>1916 rows × 7 columns</p>\n",
       "</div>"
      ]
     },
     "execution_count": 44,
     "metadata": {},
     "output_type": "execute_result"
    }
   ],
   "execution_count": 44
  },
  {
   "metadata": {
    "ExecuteTime": {
     "end_time": "2024-11-26T07:17:21.607063Z",
     "start_time": "2024-11-26T07:17:21.577579Z"
    }
   },
   "cell_type": "code",
   "source": "df.to_csv(DIRECTORY_PATH + \"\\\\parser\\\\dataframes\\\\main_df.csv\")",
   "id": "e99a4fc48c028bf6",
   "outputs": [],
   "execution_count": 45
  },
  {
   "metadata": {
    "ExecuteTime": {
     "end_time": "2024-11-26T07:18:47.708764Z",
     "start_time": "2024-11-26T07:18:47.691764Z"
    }
   },
   "cell_type": "code",
   "source": "filtered_df = df[df['Written by bot'] == 'True']",
   "id": "b9c552e05598fc9f",
   "outputs": [],
   "execution_count": 54
  },
  {
   "metadata": {
    "ExecuteTime": {
     "end_time": "2024-11-26T07:18:48.137763Z",
     "start_time": "2024-11-26T07:18:48.114768Z"
    }
   },
   "cell_type": "code",
   "source": "filtered_df",
   "id": "f824c6bc6db5715d",
   "outputs": [
    {
     "data": {
      "text/plain": [
       "Empty DataFrame\n",
       "Columns: [User review, Review date, Star review, Text length, Has media, Has answer, Written by bot]\n",
       "Index: []"
      ],
      "text/html": [
       "<div>\n",
       "<style scoped>\n",
       "    .dataframe tbody tr th:only-of-type {\n",
       "        vertical-align: middle;\n",
       "    }\n",
       "\n",
       "    .dataframe tbody tr th {\n",
       "        vertical-align: top;\n",
       "    }\n",
       "\n",
       "    .dataframe thead th {\n",
       "        text-align: right;\n",
       "    }\n",
       "</style>\n",
       "<table border=\"1\" class=\"dataframe\">\n",
       "  <thead>\n",
       "    <tr style=\"text-align: right;\">\n",
       "      <th></th>\n",
       "      <th>User review</th>\n",
       "      <th>Review date</th>\n",
       "      <th>Star review</th>\n",
       "      <th>Text length</th>\n",
       "      <th>Has media</th>\n",
       "      <th>Has answer</th>\n",
       "      <th>Written by bot</th>\n",
       "    </tr>\n",
       "  </thead>\n",
       "  <tbody>\n",
       "  </tbody>\n",
       "</table>\n",
       "</div>"
      ]
     },
     "execution_count": 55,
     "metadata": {},
     "output_type": "execute_result"
    }
   ],
   "execution_count": 55
  },
  {
   "metadata": {},
   "cell_type": "markdown",
   "source": "# Удаление знаков препинания",
   "id": "3e204024c65f3415"
  },
  {
   "metadata": {
    "ExecuteTime": {
     "end_time": "2024-11-26T07:19:51.864797Z",
     "start_time": "2024-11-26T07:19:51.850796Z"
    }
   },
   "cell_type": "code",
   "source": "df",
   "id": "708ba380118061a",
   "outputs": [
    {
     "data": {
      "text/plain": [
       "                                            User review Review date  \\\n",
       "0     [достоинство, всё, устроить, нормальный, демис...  2024-10-09   \n",
       "1     [шикарный, ,, начитаться, отзыв, ,, рискнуть, ...  2024-10-09   \n",
       "2                                  [дочка, понравиться]  2024-10-09   \n",
       "3               [пока, не, одевать, ,, то, что, хотеть]  2024-10-09   \n",
       "4                                    [отличный, куртка]  2024-10-09   \n",
       "...                                                 ...         ...   \n",
       "1911  [всё, быстро, ,, чётко, и, проблема, ., ставит...  2024-11-03   \n",
       "1912  [отличный, магазин, !, ваш, постоянный, клиент...  2024-11-02   \n",
       "1913  [широкий, ассортимент, и, высокий, качество, о...  2024-11-01   \n",
       "1914  [всё, чётко, ,, оперативно, и, нарекание, ., д...  2024-10-31   \n",
       "1915  [обратный, связь, высокий, уровень, ,, всё, во...  2024-10-30   \n",
       "\n",
       "      Star review  Text length  Has media  Has answer Written by bot  \n",
       "0               5           54          0           0              0  \n",
       "1               5          195          0           0              0  \n",
       "2               5           17          0           0              0  \n",
       "3               5           33          0           0              0  \n",
       "4               5           15          0           0              0  \n",
       "...           ...          ...        ...         ...            ...  \n",
       "1911            5           55          1           1              1  \n",
       "1912            5           56          0           0              1  \n",
       "1913            5           57          1           1              1  \n",
       "1914            5           57          1           0              1  \n",
       "1915            5           61          0           0              1  \n",
       "\n",
       "[1916 rows x 7 columns]"
      ],
      "text/html": [
       "<div>\n",
       "<style scoped>\n",
       "    .dataframe tbody tr th:only-of-type {\n",
       "        vertical-align: middle;\n",
       "    }\n",
       "\n",
       "    .dataframe tbody tr th {\n",
       "        vertical-align: top;\n",
       "    }\n",
       "\n",
       "    .dataframe thead th {\n",
       "        text-align: right;\n",
       "    }\n",
       "</style>\n",
       "<table border=\"1\" class=\"dataframe\">\n",
       "  <thead>\n",
       "    <tr style=\"text-align: right;\">\n",
       "      <th></th>\n",
       "      <th>User review</th>\n",
       "      <th>Review date</th>\n",
       "      <th>Star review</th>\n",
       "      <th>Text length</th>\n",
       "      <th>Has media</th>\n",
       "      <th>Has answer</th>\n",
       "      <th>Written by bot</th>\n",
       "    </tr>\n",
       "  </thead>\n",
       "  <tbody>\n",
       "    <tr>\n",
       "      <th>0</th>\n",
       "      <td>[достоинство, всё, устроить, нормальный, демис...</td>\n",
       "      <td>2024-10-09</td>\n",
       "      <td>5</td>\n",
       "      <td>54</td>\n",
       "      <td>0</td>\n",
       "      <td>0</td>\n",
       "      <td>0</td>\n",
       "    </tr>\n",
       "    <tr>\n",
       "      <th>1</th>\n",
       "      <td>[шикарный, ,, начитаться, отзыв, ,, рискнуть, ...</td>\n",
       "      <td>2024-10-09</td>\n",
       "      <td>5</td>\n",
       "      <td>195</td>\n",
       "      <td>0</td>\n",
       "      <td>0</td>\n",
       "      <td>0</td>\n",
       "    </tr>\n",
       "    <tr>\n",
       "      <th>2</th>\n",
       "      <td>[дочка, понравиться]</td>\n",
       "      <td>2024-10-09</td>\n",
       "      <td>5</td>\n",
       "      <td>17</td>\n",
       "      <td>0</td>\n",
       "      <td>0</td>\n",
       "      <td>0</td>\n",
       "    </tr>\n",
       "    <tr>\n",
       "      <th>3</th>\n",
       "      <td>[пока, не, одевать, ,, то, что, хотеть]</td>\n",
       "      <td>2024-10-09</td>\n",
       "      <td>5</td>\n",
       "      <td>33</td>\n",
       "      <td>0</td>\n",
       "      <td>0</td>\n",
       "      <td>0</td>\n",
       "    </tr>\n",
       "    <tr>\n",
       "      <th>4</th>\n",
       "      <td>[отличный, куртка]</td>\n",
       "      <td>2024-10-09</td>\n",
       "      <td>5</td>\n",
       "      <td>15</td>\n",
       "      <td>0</td>\n",
       "      <td>0</td>\n",
       "      <td>0</td>\n",
       "    </tr>\n",
       "    <tr>\n",
       "      <th>...</th>\n",
       "      <td>...</td>\n",
       "      <td>...</td>\n",
       "      <td>...</td>\n",
       "      <td>...</td>\n",
       "      <td>...</td>\n",
       "      <td>...</td>\n",
       "      <td>...</td>\n",
       "    </tr>\n",
       "    <tr>\n",
       "      <th>1911</th>\n",
       "      <td>[всё, быстро, ,, чётко, и, проблема, ., ставит...</td>\n",
       "      <td>2024-11-03</td>\n",
       "      <td>5</td>\n",
       "      <td>55</td>\n",
       "      <td>1</td>\n",
       "      <td>1</td>\n",
       "      <td>1</td>\n",
       "    </tr>\n",
       "    <tr>\n",
       "      <th>1912</th>\n",
       "      <td>[отличный, магазин, !, ваш, постоянный, клиент...</td>\n",
       "      <td>2024-11-02</td>\n",
       "      <td>5</td>\n",
       "      <td>56</td>\n",
       "      <td>0</td>\n",
       "      <td>0</td>\n",
       "      <td>1</td>\n",
       "    </tr>\n",
       "    <tr>\n",
       "      <th>1913</th>\n",
       "      <td>[широкий, ассортимент, и, высокий, качество, о...</td>\n",
       "      <td>2024-11-01</td>\n",
       "      <td>5</td>\n",
       "      <td>57</td>\n",
       "      <td>1</td>\n",
       "      <td>1</td>\n",
       "      <td>1</td>\n",
       "    </tr>\n",
       "    <tr>\n",
       "      <th>1914</th>\n",
       "      <td>[всё, чётко, ,, оперативно, и, нарекание, ., д...</td>\n",
       "      <td>2024-10-31</td>\n",
       "      <td>5</td>\n",
       "      <td>57</td>\n",
       "      <td>1</td>\n",
       "      <td>0</td>\n",
       "      <td>1</td>\n",
       "    </tr>\n",
       "    <tr>\n",
       "      <th>1915</th>\n",
       "      <td>[обратный, связь, высокий, уровень, ,, всё, во...</td>\n",
       "      <td>2024-10-30</td>\n",
       "      <td>5</td>\n",
       "      <td>61</td>\n",
       "      <td>0</td>\n",
       "      <td>0</td>\n",
       "      <td>1</td>\n",
       "    </tr>\n",
       "  </tbody>\n",
       "</table>\n",
       "<p>1916 rows × 7 columns</p>\n",
       "</div>"
      ]
     },
     "execution_count": 56,
     "metadata": {},
     "output_type": "execute_result"
    }
   ],
   "execution_count": 56
  },
  {
   "metadata": {
    "ExecuteTime": {
     "end_time": "2024-11-26T07:21:23.030252Z",
     "start_time": "2024-11-26T07:21:23.016253Z"
    }
   },
   "cell_type": "code",
   "source": "exceptions_punctuation = {\"!\", \"?\", \"-\",}",
   "id": "b8df8e2b56ec52d7",
   "outputs": [],
   "execution_count": 57
  },
  {
   "metadata": {
    "ExecuteTime": {
     "end_time": "2024-11-26T07:23:19.978330Z",
     "start_time": "2024-11-26T07:23:19.962332Z"
    }
   },
   "cell_type": "code",
   "source": [
    "import string\n",
    "for tokens in reviews:\n",
    "    for token in tokens:\n",
    "        if token in string.punctuation and token not in exceptions_punctuation:\n",
    "            tokens.remove(token)"
   ],
   "id": "16c7aad6a5bff23f",
   "outputs": [],
   "execution_count": 60
  },
  {
   "metadata": {
    "ExecuteTime": {
     "end_time": "2024-11-26T07:23:26.762170Z",
     "start_time": "2024-11-26T07:23:26.748170Z"
    }
   },
   "cell_type": "code",
   "source": "reviews[1]",
   "id": "e5193cb6f6c504f4",
   "outputs": [
    {
     "data": {
      "text/plain": [
       "['шикарный',\n",
       " 'начитаться',\n",
       " 'отзыв',\n",
       " 'рискнуть',\n",
       " 'что',\n",
       " 'быть',\n",
       " 'после',\n",
       " 'стирка',\n",
       " 'время',\n",
       " 'показать',\n",
       " 'верх',\n",
       " 'покупать',\n",
       " '54',\n",
       " 'размер',\n",
       " 'быть',\n",
       " 'и',\n",
       " '48',\n",
       " 'заказать',\n",
       " 'не',\n",
       " 'стать',\n",
       " 'взять',\n",
       " '50.спасибо',\n",
       " 'очень',\n",
       " 'понравиться']"
      ]
     },
     "execution_count": 61,
     "metadata": {},
     "output_type": "execute_result"
    }
   ],
   "execution_count": 61
  },
  {
   "metadata": {
    "ExecuteTime": {
     "end_time": "2024-11-26T07:23:31.420461Z",
     "start_time": "2024-11-26T07:23:31.400462Z"
    }
   },
   "cell_type": "code",
   "source": "df",
   "id": "ce447bf8f555b426",
   "outputs": [
    {
     "data": {
      "text/plain": [
       "                                            User review Review date  \\\n",
       "0     [достоинство, всё, устроить, нормальный, демис...  2024-10-09   \n",
       "1     [шикарный, начитаться, отзыв, рискнуть, что, б...  2024-10-09   \n",
       "2                                  [дочка, понравиться]  2024-10-09   \n",
       "3                  [пока, не, одевать, то, что, хотеть]  2024-10-09   \n",
       "4                                    [отличный, куртка]  2024-10-09   \n",
       "...                                                 ...         ...   \n",
       "1911  [всё, быстро, чётко, и, проблема, ставить, маг...  2024-11-03   \n",
       "1912  [отличный, магазин, !, ваш, постоянный, клиент...  2024-11-02   \n",
       "1913  [широкий, ассортимент, и, высокий, качество, о...  2024-11-01   \n",
       "1914  [всё, чётко, оперативно, и, нарекание, доставк...  2024-10-31   \n",
       "1915  [обратный, связь, высокий, уровень, всё, вопро...  2024-10-30   \n",
       "\n",
       "      Star review  Text length  Has media  Has answer Written by bot  \n",
       "0               5           54          0           0              0  \n",
       "1               5          195          0           0              0  \n",
       "2               5           17          0           0              0  \n",
       "3               5           33          0           0              0  \n",
       "4               5           15          0           0              0  \n",
       "...           ...          ...        ...         ...            ...  \n",
       "1911            5           55          1           1              1  \n",
       "1912            5           56          0           0              1  \n",
       "1913            5           57          1           1              1  \n",
       "1914            5           57          1           0              1  \n",
       "1915            5           61          0           0              1  \n",
       "\n",
       "[1916 rows x 7 columns]"
      ],
      "text/html": [
       "<div>\n",
       "<style scoped>\n",
       "    .dataframe tbody tr th:only-of-type {\n",
       "        vertical-align: middle;\n",
       "    }\n",
       "\n",
       "    .dataframe tbody tr th {\n",
       "        vertical-align: top;\n",
       "    }\n",
       "\n",
       "    .dataframe thead th {\n",
       "        text-align: right;\n",
       "    }\n",
       "</style>\n",
       "<table border=\"1\" class=\"dataframe\">\n",
       "  <thead>\n",
       "    <tr style=\"text-align: right;\">\n",
       "      <th></th>\n",
       "      <th>User review</th>\n",
       "      <th>Review date</th>\n",
       "      <th>Star review</th>\n",
       "      <th>Text length</th>\n",
       "      <th>Has media</th>\n",
       "      <th>Has answer</th>\n",
       "      <th>Written by bot</th>\n",
       "    </tr>\n",
       "  </thead>\n",
       "  <tbody>\n",
       "    <tr>\n",
       "      <th>0</th>\n",
       "      <td>[достоинство, всё, устроить, нормальный, демис...</td>\n",
       "      <td>2024-10-09</td>\n",
       "      <td>5</td>\n",
       "      <td>54</td>\n",
       "      <td>0</td>\n",
       "      <td>0</td>\n",
       "      <td>0</td>\n",
       "    </tr>\n",
       "    <tr>\n",
       "      <th>1</th>\n",
       "      <td>[шикарный, начитаться, отзыв, рискнуть, что, б...</td>\n",
       "      <td>2024-10-09</td>\n",
       "      <td>5</td>\n",
       "      <td>195</td>\n",
       "      <td>0</td>\n",
       "      <td>0</td>\n",
       "      <td>0</td>\n",
       "    </tr>\n",
       "    <tr>\n",
       "      <th>2</th>\n",
       "      <td>[дочка, понравиться]</td>\n",
       "      <td>2024-10-09</td>\n",
       "      <td>5</td>\n",
       "      <td>17</td>\n",
       "      <td>0</td>\n",
       "      <td>0</td>\n",
       "      <td>0</td>\n",
       "    </tr>\n",
       "    <tr>\n",
       "      <th>3</th>\n",
       "      <td>[пока, не, одевать, то, что, хотеть]</td>\n",
       "      <td>2024-10-09</td>\n",
       "      <td>5</td>\n",
       "      <td>33</td>\n",
       "      <td>0</td>\n",
       "      <td>0</td>\n",
       "      <td>0</td>\n",
       "    </tr>\n",
       "    <tr>\n",
       "      <th>4</th>\n",
       "      <td>[отличный, куртка]</td>\n",
       "      <td>2024-10-09</td>\n",
       "      <td>5</td>\n",
       "      <td>15</td>\n",
       "      <td>0</td>\n",
       "      <td>0</td>\n",
       "      <td>0</td>\n",
       "    </tr>\n",
       "    <tr>\n",
       "      <th>...</th>\n",
       "      <td>...</td>\n",
       "      <td>...</td>\n",
       "      <td>...</td>\n",
       "      <td>...</td>\n",
       "      <td>...</td>\n",
       "      <td>...</td>\n",
       "      <td>...</td>\n",
       "    </tr>\n",
       "    <tr>\n",
       "      <th>1911</th>\n",
       "      <td>[всё, быстро, чётко, и, проблема, ставить, маг...</td>\n",
       "      <td>2024-11-03</td>\n",
       "      <td>5</td>\n",
       "      <td>55</td>\n",
       "      <td>1</td>\n",
       "      <td>1</td>\n",
       "      <td>1</td>\n",
       "    </tr>\n",
       "    <tr>\n",
       "      <th>1912</th>\n",
       "      <td>[отличный, магазин, !, ваш, постоянный, клиент...</td>\n",
       "      <td>2024-11-02</td>\n",
       "      <td>5</td>\n",
       "      <td>56</td>\n",
       "      <td>0</td>\n",
       "      <td>0</td>\n",
       "      <td>1</td>\n",
       "    </tr>\n",
       "    <tr>\n",
       "      <th>1913</th>\n",
       "      <td>[широкий, ассортимент, и, высокий, качество, о...</td>\n",
       "      <td>2024-11-01</td>\n",
       "      <td>5</td>\n",
       "      <td>57</td>\n",
       "      <td>1</td>\n",
       "      <td>1</td>\n",
       "      <td>1</td>\n",
       "    </tr>\n",
       "    <tr>\n",
       "      <th>1914</th>\n",
       "      <td>[всё, чётко, оперативно, и, нарекание, доставк...</td>\n",
       "      <td>2024-10-31</td>\n",
       "      <td>5</td>\n",
       "      <td>57</td>\n",
       "      <td>1</td>\n",
       "      <td>0</td>\n",
       "      <td>1</td>\n",
       "    </tr>\n",
       "    <tr>\n",
       "      <th>1915</th>\n",
       "      <td>[обратный, связь, высокий, уровень, всё, вопро...</td>\n",
       "      <td>2024-10-30</td>\n",
       "      <td>5</td>\n",
       "      <td>61</td>\n",
       "      <td>0</td>\n",
       "      <td>0</td>\n",
       "      <td>1</td>\n",
       "    </tr>\n",
       "  </tbody>\n",
       "</table>\n",
       "<p>1916 rows × 7 columns</p>\n",
       "</div>"
      ]
     },
     "execution_count": 62,
     "metadata": {},
     "output_type": "execute_result"
    }
   ],
   "execution_count": 62
  },
  {
   "metadata": {
    "ExecuteTime": {
     "end_time": "2024-11-26T07:23:54.851746Z",
     "start_time": "2024-11-26T07:23:54.821747Z"
    }
   },
   "cell_type": "code",
   "source": "df.to_csv(DIRECTORY_PATH + \"\\\\parser\\\\dataframes\\\\main_df.csv\")",
   "id": "5a774b56e229d9ed",
   "outputs": [],
   "execution_count": 63
  },
  {
   "metadata": {},
   "cell_type": "code",
   "outputs": [],
   "execution_count": null,
   "source": "",
   "id": "81ca80bd8ffdea00"
  }
 ],
 "metadata": {
  "kernelspec": {
   "display_name": "Python 3",
   "language": "python",
   "name": "python3"
  },
  "language_info": {
   "codemirror_mode": {
    "name": "ipython",
    "version": 2
   },
   "file_extension": ".py",
   "mimetype": "text/x-python",
   "name": "python",
   "nbconvert_exporter": "python",
   "pygments_lexer": "ipython2",
   "version": "2.7.6"
  }
 },
 "nbformat": 4,
 "nbformat_minor": 5
}
