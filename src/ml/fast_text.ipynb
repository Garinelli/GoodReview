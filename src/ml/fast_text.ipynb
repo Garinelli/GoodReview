{
 "cells": [
  {
   "metadata": {
    "ExecuteTime": {
     "end_time": "2025-01-21T08:45:57.299802Z",
     "start_time": "2025-01-21T08:45:57.284806Z"
    }
   },
   "cell_type": "code",
   "source": [
    "import os\n",
    "import json\n",
    "\n",
    "import numpy as np\n",
    "import pandas as pd"
   ],
   "id": "15b6908f230e4b20",
   "outputs": [],
   "execution_count": 45
  },
  {
   "metadata": {
    "ExecuteTime": {
     "end_time": "2025-01-21T08:45:58.115328Z",
     "start_time": "2025-01-21T08:45:58.101328Z"
    }
   },
   "cell_type": "code",
   "source": [
    "BASE_DIR = os.getcwd()\n",
    "DIRECTORY_PATH = os.path.dirname(BASE_DIR)\n",
    "DF_PATH = DIRECTORY_PATH + \"\\\\parser\\\\dataframes\\\\preprocessed_main_df.csv\""
   ],
   "id": "394587177424a2c2",
   "outputs": [],
   "execution_count": 46
  },
  {
   "metadata": {
    "ExecuteTime": {
     "end_time": "2025-01-21T08:45:58.555572Z",
     "start_time": "2025-01-21T08:45:58.528572Z"
    }
   },
   "cell_type": "code",
   "source": [
    "df = pd.read_csv(DF_PATH)\n",
    "df = df.copy()"
   ],
   "id": "6de85adba034d508",
   "outputs": [],
   "execution_count": 47
  },
  {
   "metadata": {
    "ExecuteTime": {
     "end_time": "2025-01-21T08:45:59.124053Z",
     "start_time": "2025-01-21T08:45:59.101054Z"
    }
   },
   "cell_type": "code",
   "source": "df",
   "id": "3572b739dbb1ad20",
   "outputs": [
    {
     "data": {
      "text/plain": [
       "      Unnamed: 0                                        User review  \\\n",
       "0              0  [\"\\u0434\\u043e\\u0441\\u0442\\u043e\\u0438\\u043d\\u...   \n",
       "1              1  [\"\\u0448\\u0438\\u043a\\u0430\\u0440\\u043d\\u0430\\u...   \n",
       "2              2  [\"\\u0434\\u043e\\u0447\\u043a\\u0435\", \"\\u043f\\u04...   \n",
       "3              3  [\"\\u043f\\u043e\\u043a\\u0430\", \"\\u043d\\u0435\", \"...   \n",
       "4              4  [\"\\u043e\\u0442\\u043b\\u0438\\u0447\\u043d\\u0430\\u...   \n",
       "...          ...                                                ...   \n",
       "2411        2411  [\"\\u0433\\u0440\\u0438\\u043b\\u044c\", \"\\u0445\\u04...   \n",
       "2412        2412  [\"\\u0442\\u043e\\u0441\\u0442\\u0435\\u0440\", \"\\u04...   \n",
       "2413        2413  [\"\\u0447\\u0430\\u0439\\u043d\\u0438\\u043a\", \"\\u04...   \n",
       "2414        2414  [\"\\u043f\\u0440\\u0438\\u043d\\u0442\\u0435\\u0440\",...   \n",
       "2415        2415  [\"\\u0441\\u043c\\u0430\\u0440\\u0442\\u0444\\u043e\\u...   \n",
       "\n",
       "     Review date  Star review  Text length Has media  Has answer  \\\n",
       "0     2024-10-09            5           54         0           0   \n",
       "1     2024-10-09            5          195         0           0   \n",
       "2     2024-10-09            5           17         0           0   \n",
       "3     2024-10-09            5           33         0           0   \n",
       "4     2024-10-09            5           15         0           0   \n",
       "...          ...          ...          ...       ...         ...   \n",
       "2411  2024-10-06            4           76         1           1   \n",
       "2412  2024-12-08            3           75         0           0   \n",
       "2413  2024-12-13            4           73         0           0   \n",
       "2414  2024-11-21            4           69         0           1   \n",
       "2415  2024-10-30            3           55         1           1   \n",
       "\n",
       "      Written by bot  \n",
       "0                  0  \n",
       "1                  0  \n",
       "2                  0  \n",
       "3                  0  \n",
       "4                  0  \n",
       "...              ...  \n",
       "2411               0  \n",
       "2412               0  \n",
       "2413               0  \n",
       "2414               0  \n",
       "2415               0  \n",
       "\n",
       "[2416 rows x 8 columns]"
      ],
      "text/html": [
       "<div>\n",
       "<style scoped>\n",
       "    .dataframe tbody tr th:only-of-type {\n",
       "        vertical-align: middle;\n",
       "    }\n",
       "\n",
       "    .dataframe tbody tr th {\n",
       "        vertical-align: top;\n",
       "    }\n",
       "\n",
       "    .dataframe thead th {\n",
       "        text-align: right;\n",
       "    }\n",
       "</style>\n",
       "<table border=\"1\" class=\"dataframe\">\n",
       "  <thead>\n",
       "    <tr style=\"text-align: right;\">\n",
       "      <th></th>\n",
       "      <th>Unnamed: 0</th>\n",
       "      <th>User review</th>\n",
       "      <th>Review date</th>\n",
       "      <th>Star review</th>\n",
       "      <th>Text length</th>\n",
       "      <th>Has media</th>\n",
       "      <th>Has answer</th>\n",
       "      <th>Written by bot</th>\n",
       "    </tr>\n",
       "  </thead>\n",
       "  <tbody>\n",
       "    <tr>\n",
       "      <th>0</th>\n",
       "      <td>0</td>\n",
       "      <td>[\"\\u0434\\u043e\\u0441\\u0442\\u043e\\u0438\\u043d\\u...</td>\n",
       "      <td>2024-10-09</td>\n",
       "      <td>5</td>\n",
       "      <td>54</td>\n",
       "      <td>0</td>\n",
       "      <td>0</td>\n",
       "      <td>0</td>\n",
       "    </tr>\n",
       "    <tr>\n",
       "      <th>1</th>\n",
       "      <td>1</td>\n",
       "      <td>[\"\\u0448\\u0438\\u043a\\u0430\\u0440\\u043d\\u0430\\u...</td>\n",
       "      <td>2024-10-09</td>\n",
       "      <td>5</td>\n",
       "      <td>195</td>\n",
       "      <td>0</td>\n",
       "      <td>0</td>\n",
       "      <td>0</td>\n",
       "    </tr>\n",
       "    <tr>\n",
       "      <th>2</th>\n",
       "      <td>2</td>\n",
       "      <td>[\"\\u0434\\u043e\\u0447\\u043a\\u0435\", \"\\u043f\\u04...</td>\n",
       "      <td>2024-10-09</td>\n",
       "      <td>5</td>\n",
       "      <td>17</td>\n",
       "      <td>0</td>\n",
       "      <td>0</td>\n",
       "      <td>0</td>\n",
       "    </tr>\n",
       "    <tr>\n",
       "      <th>3</th>\n",
       "      <td>3</td>\n",
       "      <td>[\"\\u043f\\u043e\\u043a\\u0430\", \"\\u043d\\u0435\", \"...</td>\n",
       "      <td>2024-10-09</td>\n",
       "      <td>5</td>\n",
       "      <td>33</td>\n",
       "      <td>0</td>\n",
       "      <td>0</td>\n",
       "      <td>0</td>\n",
       "    </tr>\n",
       "    <tr>\n",
       "      <th>4</th>\n",
       "      <td>4</td>\n",
       "      <td>[\"\\u043e\\u0442\\u043b\\u0438\\u0447\\u043d\\u0430\\u...</td>\n",
       "      <td>2024-10-09</td>\n",
       "      <td>5</td>\n",
       "      <td>15</td>\n",
       "      <td>0</td>\n",
       "      <td>0</td>\n",
       "      <td>0</td>\n",
       "    </tr>\n",
       "    <tr>\n",
       "      <th>...</th>\n",
       "      <td>...</td>\n",
       "      <td>...</td>\n",
       "      <td>...</td>\n",
       "      <td>...</td>\n",
       "      <td>...</td>\n",
       "      <td>...</td>\n",
       "      <td>...</td>\n",
       "      <td>...</td>\n",
       "    </tr>\n",
       "    <tr>\n",
       "      <th>2411</th>\n",
       "      <td>2411</td>\n",
       "      <td>[\"\\u0433\\u0440\\u0438\\u043b\\u044c\", \"\\u0445\\u04...</td>\n",
       "      <td>2024-10-06</td>\n",
       "      <td>4</td>\n",
       "      <td>76</td>\n",
       "      <td>1</td>\n",
       "      <td>1</td>\n",
       "      <td>0</td>\n",
       "    </tr>\n",
       "    <tr>\n",
       "      <th>2412</th>\n",
       "      <td>2412</td>\n",
       "      <td>[\"\\u0442\\u043e\\u0441\\u0442\\u0435\\u0440\", \"\\u04...</td>\n",
       "      <td>2024-12-08</td>\n",
       "      <td>3</td>\n",
       "      <td>75</td>\n",
       "      <td>0</td>\n",
       "      <td>0</td>\n",
       "      <td>0</td>\n",
       "    </tr>\n",
       "    <tr>\n",
       "      <th>2413</th>\n",
       "      <td>2413</td>\n",
       "      <td>[\"\\u0447\\u0430\\u0439\\u043d\\u0438\\u043a\", \"\\u04...</td>\n",
       "      <td>2024-12-13</td>\n",
       "      <td>4</td>\n",
       "      <td>73</td>\n",
       "      <td>0</td>\n",
       "      <td>0</td>\n",
       "      <td>0</td>\n",
       "    </tr>\n",
       "    <tr>\n",
       "      <th>2414</th>\n",
       "      <td>2414</td>\n",
       "      <td>[\"\\u043f\\u0440\\u0438\\u043d\\u0442\\u0435\\u0440\",...</td>\n",
       "      <td>2024-11-21</td>\n",
       "      <td>4</td>\n",
       "      <td>69</td>\n",
       "      <td>0</td>\n",
       "      <td>1</td>\n",
       "      <td>0</td>\n",
       "    </tr>\n",
       "    <tr>\n",
       "      <th>2415</th>\n",
       "      <td>2415</td>\n",
       "      <td>[\"\\u0441\\u043c\\u0430\\u0440\\u0442\\u0444\\u043e\\u...</td>\n",
       "      <td>2024-10-30</td>\n",
       "      <td>3</td>\n",
       "      <td>55</td>\n",
       "      <td>1</td>\n",
       "      <td>1</td>\n",
       "      <td>0</td>\n",
       "    </tr>\n",
       "  </tbody>\n",
       "</table>\n",
       "<p>2416 rows × 8 columns</p>\n",
       "</div>"
      ]
     },
     "execution_count": 48,
     "metadata": {},
     "output_type": "execute_result"
    }
   ],
   "execution_count": 48
  },
  {
   "metadata": {
    "ExecuteTime": {
     "end_time": "2025-01-21T08:45:59.865992Z",
     "start_time": "2025-01-21T08:45:59.839994Z"
    }
   },
   "cell_type": "code",
   "source": "df['User review'] = df['User review'].apply(lambda x: json.loads(x) if isinstance(x, str) else x)",
   "id": "5880c96ff8ae7eda",
   "outputs": [],
   "execution_count": 49
  },
  {
   "metadata": {},
   "cell_type": "markdown",
   "source": "# FastText",
   "id": "be7ca6177e5761a4"
  },
  {
   "metadata": {
    "ExecuteTime": {
     "end_time": "2025-01-21T08:46:00.946221Z",
     "start_time": "2025-01-21T08:46:00.934020Z"
    }
   },
   "cell_type": "code",
   "source": "from gensim.models import FastText",
   "id": "b07927e9a39d25af",
   "outputs": [],
   "execution_count": 50
  },
  {
   "metadata": {
    "ExecuteTime": {
     "end_time": "2025-01-21T08:46:02.958984Z",
     "start_time": "2025-01-21T08:46:01.390929Z"
    }
   },
   "cell_type": "code",
   "source": [
    "model = FastText(\n",
    "    sentences=df['User review'],\n",
    "    vector_size=100,\n",
    "    window=5,\n",
    "    min_count=1,\n",
    "    workers=4,\n",
    "    sg=1,\n",
    ")"
   ],
   "id": "9113f91cd7ada2b0",
   "outputs": [],
   "execution_count": 51
  },
  {
   "metadata": {
    "ExecuteTime": {
     "end_time": "2025-01-21T08:46:03.526Z",
     "start_time": "2025-01-21T08:46:03.510Z"
    }
   },
   "cell_type": "code",
   "source": [
    "def tokens_to_vectors(tokens):\n",
    "    vectors = []\n",
    "    for word in tokens:\n",
    "        if word in model.wv:\n",
    "            vectors.append(model.wv[word])\n",
    "    return vectors if vectors else [np.zeros(model.vector_size)]"
   ],
   "id": "8fe23c8b754ac3ff",
   "outputs": [],
   "execution_count": 52
  },
  {
   "metadata": {
    "ExecuteTime": {
     "end_time": "2025-01-21T08:46:04.233923Z",
     "start_time": "2025-01-21T08:46:04.183195Z"
    }
   },
   "cell_type": "code",
   "source": "df['User review'] = df['User review'].apply(lambda x: tokens_to_vectors(x))",
   "id": "a6f83b518ad7efb4",
   "outputs": [],
   "execution_count": 53
  },
  {
   "metadata": {
    "ExecuteTime": {
     "end_time": "2025-01-21T08:48:32.593407Z",
     "start_time": "2025-01-21T08:48:20.765346Z"
    }
   },
   "cell_type": "code",
   "source": "df.to_csv(DIRECTORY_PATH + \"\\\\parser\\\\dataframes\\\\vectorized_dataframes\\\\fasttext.csv\", index=False)",
   "id": "ec35aca7ec4fd279",
   "outputs": [],
   "execution_count": 64
  },
  {
   "metadata": {},
   "cell_type": "code",
   "outputs": [],
   "execution_count": null,
   "source": "",
   "id": "11fa60084a16002c"
  }
 ],
 "metadata": {
  "kernelspec": {
   "display_name": "Python 3",
   "language": "python",
   "name": "python3"
  },
  "language_info": {
   "codemirror_mode": {
    "name": "ipython",
    "version": 2
   },
   "file_extension": ".py",
   "mimetype": "text/x-python",
   "name": "python",
   "nbconvert_exporter": "python",
   "pygments_lexer": "ipython2",
   "version": "2.7.6"
  }
 },
 "nbformat": 4,
 "nbformat_minor": 5
}
