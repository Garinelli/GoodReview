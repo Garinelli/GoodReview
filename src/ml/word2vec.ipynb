{
 "cells": [
  {
   "cell_type": "code",
   "execution_count": null,
   "id": "initial_id",
   "metadata": {
    "collapsed": true
   },
   "outputs": [],
   "source": [
    "import os\n",
    "\n",
    "from gensim.models import Word2Vec\n",
    "import numpy as np\n",
    "import pandas as pd"
   ]
  },
  {
   "metadata": {},
   "cell_type": "code",
   "outputs": [],
   "execution_count": null,
   "source": [
    "BASE_DIR = os.getcwd()\n",
    "DIRECTORY_PATH = os.path.dirname(BASE_DIR)\n",
    "DF_PATH = DIRECTORY_PATH + \"\\\\parser\\\\dataframes\\\\main_df.csv\""
   ],
   "id": "ca110061c9935cf6"
  },
  {
   "metadata": {},
   "cell_type": "code",
   "outputs": [],
   "execution_count": null,
   "source": "df = pd.read_csv(DF_PATH)",
   "id": "8989819e504b409a"
  },
  {
   "metadata": {},
   "cell_type": "code",
   "outputs": [],
   "execution_count": null,
   "source": "reviews = df['User review'].values",
   "id": "267414313e2ddc55"
  },
  {
   "metadata": {},
   "cell_type": "code",
   "outputs": [],
   "execution_count": null,
   "source": "w2v_model = Word2Vec(reviews, vector_size=100, window=5, min_count=5)",
   "id": "ead9afcb0f61912e"
  },
  {
   "metadata": {},
   "cell_type": "code",
   "outputs": [],
   "execution_count": null,
   "source": [
    "def average_vector(words):\n",
    "    vectors = [w2v_model.wv[word] for word in words if word in w2v_model.wv]\n",
    "    return np.mean(vectors, axis=0) if vectors else np.zeros(w2v_model.vector_size)"
   ],
   "id": "c1d975640ebf14a0"
  },
  {
   "metadata": {},
   "cell_type": "code",
   "outputs": [],
   "execution_count": null,
   "source": "w2v_tokens = np.array([average_vector(review) for review in reviews])",
   "id": "427fde8ee0a77c30"
  },
  {
   "metadata": {},
   "cell_type": "code",
   "outputs": [],
   "execution_count": null,
   "source": [
    "w2v_tokens = list(w2v_tokens)\n",
    "w2v_tokens[2]"
   ],
   "id": "2115052bdcbd394e"
  },
  {
   "metadata": {},
   "cell_type": "code",
   "outputs": [],
   "execution_count": null,
   "source": [
    "df_with_w2v = df.copy()\n",
    "df_with_w2v['User review'] = w2v_tokens\n",
    "df_with_w2v.to_csv(DIRECTORY_PATH + \"\\\\parser\\\\dataframes\\\\main_df_with_word2vec.csv\")"
   ],
   "id": "ea5f405a5b6ee9f3"
  }
 ],
 "metadata": {
  "kernelspec": {
   "display_name": "Python 3",
   "language": "python",
   "name": "python3"
  },
  "language_info": {
   "codemirror_mode": {
    "name": "ipython",
    "version": 2
   },
   "file_extension": ".py",
   "mimetype": "text/x-python",
   "name": "python",
   "nbconvert_exporter": "python",
   "pygments_lexer": "ipython2",
   "version": "2.7.6"
  }
 },
 "nbformat": 4,
 "nbformat_minor": 5
}
